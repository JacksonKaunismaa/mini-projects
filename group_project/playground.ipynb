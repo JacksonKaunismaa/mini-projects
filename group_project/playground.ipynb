{
 "cells": [
  {
   "cell_type": "code",
   "execution_count": 1,
   "metadata": {},
   "outputs": [
    {
     "name": "stdout",
     "output_type": "stream",
     "text": [
      "Modules to reload:\n",
      "operations\n",
      "\n",
      "Modules to skip:\n",
      "\n"
     ]
    }
   ],
   "source": [
    "from operations import *\n",
    "from permutation import *\n",
    "from groups import *\n",
    "\n",
    "# set up autoreloading of shared code (can't do it with groups or Permutations do isinstance weirdness)\n",
    "%load_ext autoreload\n",
    "%autoreload 1\n",
    "%aimport operations\n",
    "%aimport"
   ]
  },
  {
   "cell_type": "code",
   "execution_count": 2,
   "metadata": {},
   "outputs": [],
   "source": [
    "a4 = get_even_permutations(4)\n",
    "x = Permutation([[0,1], [2,3]], n=4)\n",
    "\n",
    "K = generate(x)\n",
    "norm_K = normalizer(K, a4)\n"
   ]
  },
  {
   "cell_type": "code",
   "execution_count": 17,
   "metadata": {},
   "outputs": [
    {
     "name": "stdout",
     "output_type": "stream",
     "text": [
      "{e: Coset({(1 3)(2 4), (1 2)(3 4), e, (1 4)(2 3)}), (1 4 2): Coset({(1 4 2), (1 2 3), (1 3 4), (2 4 3)}), (2 3 4): Coset({(2 3 4), (1 4 3), (1 2 4), (1 3 2)})}\n",
      "{(1 4 2): Coset({(1 3)(2 4), e}), (1 4 3): Coset({e, (1 4)(2 3)}), e: Coset({(1 2)(3 4), e})}\n"
     ]
    }
   ],
   "source": [
    "print(find_cosets(norm_K, a4))\n",
    "#print(conjugacy_class(x, a4))\n",
    "print(conjugacy_class(K, a4))"
   ]
  },
  {
   "cell_type": "code",
   "execution_count": null,
   "metadata": {},
   "outputs": [],
   "source": []
  }
 ],
 "metadata": {
  "kernelspec": {
   "display_name": "Python 3 (ipykernel)",
   "language": "python",
   "name": "python3"
  },
  "orig_nbformat": 4
 },
 "nbformat": 4,
 "nbformat_minor": 2
}
