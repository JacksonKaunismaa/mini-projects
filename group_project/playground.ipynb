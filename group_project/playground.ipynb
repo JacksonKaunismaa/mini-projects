{
 "cells": [
  {
   "cell_type": "code",
   "execution_count": 1,
   "metadata": {},
   "outputs": [
    {
     "name": "stdout",
     "output_type": "stream",
     "text": [
      "Modules to reload:\n",
      "group_theory.groups group_theory.operations\n",
      "\n",
      "Modules to skip:\n",
      "\n"
     ]
    }
   ],
   "source": [
    "from group_theory.operations import *\n",
    "from group_theory.permutation import *\n",
    "from group_theory.groups import *\n",
    "\n",
    "\n",
    "# set up autoreloading of shared code (can't do it with groups or Permutations due to isinstance weirdness)\n",
    "%load_ext autoreload\n",
    "%autoreload 1\n",
    "%aimport group_theory.operations,group_theory.groups\n",
    "%aimport"
   ]
  },
  {
   "cell_type": "code",
   "execution_count": 2,
   "metadata": {},
   "outputs": [],
   "source": [
    "a4 = get_even_permutations(4)\n",
    "x = Permutation([[0,1], [2,3]], n=4)\n",
    "\n",
    "K = generate(x)\n",
    "norm_K = normalizer(K, a4)\n"
   ]
  },
  {
   "cell_type": "code",
   "execution_count": 3,
   "metadata": {},
   "outputs": [
    {
     "name": "stdout",
     "output_type": "stream",
     "text": [
      "{e: Group({(1 2)(3 4), e, (1 4)(2 3), (1 3)(2 4)}), (1 2 4): Group({(1 4 3), (1 3 2), (2 3 4), (1 2 4)}), (1 2 3): Group({(1 2 3), (1 4 2), (2 4 3), (1 3 4)})}\n",
      "{e: Group({(1 2)(3 4), e}), (1 2 3): Group({(1 3)(2 4), e}), (1 2 4): Group({(1 4)(2 3), e})}\n"
     ]
    }
   ],
   "source": [
    "print(find_cosets(norm_K, a4))\n",
    "#print(conjugacy_class(x, a4))\n",
    "print(conjugacy_class(K, a4))"
   ]
  },
  {
   "cell_type": "code",
   "execution_count": 4,
   "metadata": {},
   "outputs": [
    {
     "name": "stdout",
     "output_type": "stream",
     "text": [
      "{e: Group({f, e, r4, r4 f}), r2: Group({r2, r2 f, r6, r6 f}), r: Group({r f, r5 f, r5, r}), r3: Group({r7, r3 f, r3, r7 f})}\n",
      "{r2: Group({e, r4 f}), r3: Group({r6 f, e}), e: Group({f, e}), r: Group({r2 f, e})}\n"
     ]
    }
   ],
   "source": [
    "D8 = default_groups(\"dihedral\", 8)\n",
    "H = generate(D8.parse(\"f\"))\n",
    "N_H = normalizer(H, D8)\n",
    "\n",
    "print(find_cosets(N_H, D8))\n",
    "print(conjugacy_class(H, D8))"
   ]
  }
 ],
 "metadata": {
  "kernelspec": {
   "display_name": "Python 3 (ipykernel)",
   "language": "python",
   "name": "python3"
  },
  "language_info": {
   "codemirror_mode": {
    "name": "ipython",
    "version": 3
   },
   "file_extension": ".py",
   "mimetype": "text/x-python",
   "name": "python",
   "nbconvert_exporter": "python",
   "pygments_lexer": "ipython3",
   "version": "3.10.10"
  },
  "orig_nbformat": 4
 },
 "nbformat": 4,
 "nbformat_minor": 2
}
