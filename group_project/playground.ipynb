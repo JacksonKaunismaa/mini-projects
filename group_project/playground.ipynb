{
 "cells": [
  {
   "cell_type": "code",
   "execution_count": 1,
   "metadata": {},
   "outputs": [
    {
     "name": "stdout",
     "output_type": "stream",
     "text": [
      "Modules to reload:\n",
      "group_theory.groups group_theory.symbolic group_theory.utils\n",
      "\n",
      "Modules to skip:\n",
      "\n"
     ]
    }
   ],
   "source": [
    "from group_theory.utils import *\n",
    "from group_theory.groups import *\n",
    "from tqdm import tqdm\n",
    "import math\n",
    "\n",
    "\n",
    "# set up autoreloading of shared code (can't do it with groups or Permutations due to isinstance weirdness)\n",
    "%load_ext autoreload\n",
    "%autoreload 1\n",
    "%aimport group_theory.utils,group_theory.groups,group_theory.symbolic\n",
    "%aimport"
   ]
  },
  {
   "cell_type": "code",
   "execution_count": 110,
   "metadata": {},
   "outputs": [
    {
     "name": "stdout",
     "output_type": "stream",
     "text": [
      "Group({(1 4)(2 3), (1 3)(2 4), (1 2)(3 4), e})\n",
      "{(1 2 4): Group({(1 3 2), (1 4 3), (1 2 4), (2 3 4)}), e: Group({(1 4)(2 3), (1 3)(2 4), e, (1 2)(3 4)}), (1 2 3): Group({(1 2 3), (1 4 2), (1 3 4), (2 4 3)})}\n"
     ]
    }
   ],
   "source": [
    "a4 = get_group(\"alt 4\")\n",
    "a4._generate_all()\n",
    "N = a4.generate(\"(1 2)(3 4)\", \"(1 3)(2 4)\")\n",
    "\n",
    "print(N)\n",
    "print(a4 / N)\n"
   ]
  },
  {
   "cell_type": "code",
   "execution_count": 111,
   "metadata": {},
   "outputs": [
    {
     "name": "stdout",
     "output_type": "stream",
     "text": [
      "dic 28\n",
      "sa 32\n",
      "sd 64\n",
      "dih 31\n",
      "cyc 29\n",
      "abelian 14\n",
      "quat 32\n",
      "sym 8\n",
      "alt 8\n",
      "# Test multiplication (generated code)\n",
      "gr = get_group('dic 28')\n",
      "t1,t2,ans = gr.evaluate(('r3 s', 'r10 s', 'r7')); assert t1*t2 == ans\n",
      "t1,t2,ans = gr.evaluate(('r6', 'r3', 'r9')); assert t1*t2 == ans\n",
      "\n",
      "gr = get_group('sa 32')\n",
      "t1,t2,ans = gr.evaluate(('r3', 'r30', 'r')); assert t1*t2 == ans\n",
      "t1,t2,ans = gr.evaluate(('r3', 'r17 s', 'r20 s')); assert t1*t2 == ans\n",
      "\n",
      "gr = get_group('sd 64')\n",
      "t1,t2,ans = gr.evaluate(('r17 s', 'r19 s', 'r30')); assert t1*t2 == ans\n",
      "t1,t2,ans = gr.evaluate(('s', 'r11 s', 'r21')); assert t1*t2 == ans\n",
      "\n",
      "gr = get_group('dih 31')\n",
      "t1,t2,ans = gr.evaluate(('r13 f', 'r7', 'r6 f')); assert t1*t2 == ans\n",
      "t1,t2,ans = gr.evaluate(('r15 f', 'r7 f', 'r8')); assert t1*t2 == ans\n",
      "\n",
      "gr = get_group('cyc 29')\n",
      "t1,t2,ans = gr.evaluate(('r22', 'r26', 'r19')); assert t1*t2 == ans\n",
      "t1,t2,ans = gr.evaluate(('r28', 'r3', 'r2')); assert t1*t2 == ans\n",
      "\n",
      "gr = get_group('abelian 14')\n",
      "t1,t2,ans = gr.evaluate(('r', 'r7 s', 'r8 s')); assert t1*t2 == ans\n",
      "t1,t2,ans = gr.evaluate(('r11', 'r3 s', 's')); assert t1*t2 == ans\n",
      "\n",
      "gr = get_group('quat 32')\n",
      "t1,t2,ans = gr.evaluate(('r31 s', 'r22', 'r9 s')); assert t1*t2 == ans\n",
      "t1,t2,ans = gr.evaluate(('r2 s', 'r25 s', 'r25')); assert t1*t2 == ans\n",
      "\n",
      "gr = get_group('sym 8')\n",
      "t1,t2,ans = gr.evaluate(('(1 4)(2)(3 7 5 6 8)', '(1 5 7 2 3 6)(4)(8)()', '(1 4 5)(2 3)(6 8)')); assert t1*t2 == ans\n",
      "t1,t2,ans = gr.evaluate(('(1 8)(2 3 7 5 6)(4)()', '(1 5 3 7 4 6 8 2)', '(1 2 7 3 4 6)(5 8)')); assert t1*t2 == ans\n",
      "\n",
      "gr = get_group('alt 8')\n",
      "t1,t2,ans = gr.evaluate(('(1 2 3)(4 5)(6)(7 8)', '(1 7 6 2 5 8)(3)(4)()', '(1 5 4 8 6 2 3 7)')); assert t1*t2 == ans\n",
      "t1,t2,ans = gr.evaluate(('(1 3 8 6 5 7 4 2)', '(1 3 8 5)(2 6)(4 7)', '(1 8 2 3 5 4 6)')); assert t1*t2 == ans\n",
      "\n"
     ]
    }
   ],
   "source": [
    "generate_problems()"
   ]
  },
  {
   "cell_type": "code",
   "execution_count": 112,
   "metadata": {},
   "outputs": [
    {
     "name": "stdout",
     "output_type": "stream",
     "text": [
      "{r2: Group({r14 s, r6, r14, r2 s, r2, r10, r10 s, r6 s}), e: Group({e, s, r12, r4 s, r4, r12 s, r8 s, r8}), r: Group({r13 s, r5 s, r9 s, r, r5, r9, r s, r13}), r3: Group({r7, r3, r11, r15 s, r11 s, r15, r7 s, r3 s})}\n",
      "Found mismatch r2 s s\n",
      "Group({e, r12, s, r4 s, r4, r12 s, r8 s, r8})\n",
      "Group({e, r12, s, r4 s, r4, r12 s, r8 s, r8})\n",
      "{e: r2 s, s: r14 s, r7: s, r2: r6 s, r: r4 s, r5: r12 s, r4: r10 s, r3: r8 s}\n",
      "Group({r14 s, r6, r14, r2 s, r2, r10, r10 s, r6 s})\n",
      "Group({e, s, r12, r4 s, r4, r12 s, r8 s, r8})\n",
      "Group({r14 s, r6, r14, r2 s, r2, r10, r10 s, r6 s})\n"
     ]
    }
   ],
   "source": [
    "dic_16 = get_group(\"dic 16\")\n",
    "dic_16._generate_all()\n",
    "H = dic_16.generate(\"r4\", \"s\")\n",
    "cosets = dic_16.find_cosets(H)\n",
    "print(cosets)\n",
    "for e1 in dic_16:\n",
    "    for e2 in dic_16:\n",
    "        if e1 * H / e1 == e2 * H / e2:\n",
    "            if e1 * H != e2 * H:\n",
    "                print(\"Found mismatch\", e1, e2)\n",
    "                break\n",
    "    else:\n",
    "        continue\n",
    "    break\n",
    "print(e1*H/e1)\n",
    "print(e2*H/e2)\n",
    "print(dic_16.conjugacy_class(e1))\n",
    "print(e1*H)\n",
    "print(e2*H)\n",
    "print(e1*H*e2*H)"
   ]
  },
  {
   "cell_type": "code",
   "execution_count": 113,
   "metadata": {},
   "outputs": [
    {
     "data": {
      "text/plain": [
       "{a2 b, a2 b3, b2, e}"
      ]
     },
     "execution_count": 113,
     "metadata": {},
     "output_type": "execute_result"
    }
   ],
   "source": [
    "c4_semi_c4 = Group(rules=[\"a4 = e\",\n",
    "                          \"b4 = e\",\n",
    "                          \"b a = a3 b\"])\n",
    "B = c4_semi_c4.generate(\"b\")\n",
    "a = c4_semi_c4.evaluate(\"a\")\n",
    "(a**3) * B / (a**3)"
   ]
  },
  {
   "cell_type": "code",
   "execution_count": 114,
   "metadata": {},
   "outputs": [
    {
     "ename": "NameError",
     "evalue": "name 'get_even_permutations' is not defined",
     "output_type": "error",
     "traceback": [
      "\u001b[0;31m---------------------------------------------------------------------------\u001b[0m",
      "\u001b[0;31mNameError\u001b[0m                                 Traceback (most recent call last)",
      "Cell \u001b[0;32mIn[114], line 1\u001b[0m\n\u001b[0;32m----> 1\u001b[0m a4 \u001b[39m=\u001b[39m get_even_permutations(\u001b[39m4\u001b[39m)\n\u001b[1;32m      2\u001b[0m x \u001b[39m=\u001b[39m a4\u001b[39m.\u001b[39mevaluate(\u001b[39m\"\u001b[39m\u001b[39m(1 2)(3 4)\u001b[39m\u001b[39m\"\u001b[39m)\n\u001b[1;32m      4\u001b[0m K \u001b[39m=\u001b[39m a4\u001b[39m.\u001b[39mgenerate(x)\n",
      "\u001b[0;31mNameError\u001b[0m: name 'get_even_permutations' is not defined"
     ]
    }
   ],
   "source": [
    "a4 = get_even_permutations(4)\n",
    "x = a4.evaluate(\"(1 2)(3 4)\")\n",
    "\n",
    "K = a4.generate(x)\n",
    "norm_K = a4.normalizer(K)\n",
    "print(norm_K, K)\n"
   ]
  },
  {
   "cell_type": "code",
   "execution_count": null,
   "metadata": {},
   "outputs": [
    {
     "name": "stdout",
     "output_type": "stream",
     "text": [
      "{(1 2 3): Group({(1 3 4), (1 2 3), (1 4 2), (2 4 3)}), (1 2 4): Group({(1 3 2), (1 4 3), (2 3 4), (1 2 4)}), e: Group({(1 3)(2 4), e, (1 2)(3 4), (1 4)(2 3)})}\n",
      "{(1 2 3): Group({(1 3)(2 4), e}), (1 2 4): Group({e, (1 4)(2 3)}), e: Group({e, (1 2)(3 4)})}\n"
     ]
    }
   ],
   "source": [
    "print(a4.find_cosets(norm_K))\n",
    "#print(conjugacy_class(x, a4))\n",
    "print(a4.conjugacy_class(K))"
   ]
  },
  {
   "cell_type": "code",
   "execution_count": null,
   "metadata": {},
   "outputs": [
    {
     "name": "stdout",
     "output_type": "stream",
     "text": [
      "Group({f, e}) Group({r4, r4 f, f, e})\n",
      "{r3: Group({r3 f, r3, r7 f, r7}), r2: Group({r2 f, r6 f, r2, r6}), r: Group({r f, r5, r5 f, r}), e: Group({r4, r4 f, f, e})}\n",
      "{r3: Group({r6 f, e}), r2: Group({r4 f, e}), r: Group({r2 f, e}), e: Group({f, e})}\n"
     ]
    }
   ],
   "source": [
    "D8 = get_group(\"dihedral 8\")\n",
    "H = D8.generate(\"f\")\n",
    "N_H = D8.normalizer(H)\n",
    "\n",
    "print(H, N_H)\n",
    "print(D8.find_cosets(N_H))\n",
    "print(D8.conjugacy_class(H, D8))"
   ]
  },
  {
   "cell_type": "code",
   "execution_count": null,
   "metadata": {},
   "outputs": [
    {
     "name": "stdout",
     "output_type": "stream",
     "text": [
      "Group()\n"
     ]
    },
    {
     "name": "stderr",
     "output_type": "stream",
     "text": [
      "36864it [02:00, 307.03it/s]"
     ]
    },
    {
     "name": "stdout",
     "output_type": "stream",
     "text": [
      "{frozenset({e}): Group({e}), frozenset({s, e}): Group({r24, r24 s, s, e}), frozenset({s2, e}): Group({r24, e}), frozenset({r, e}): Group({r6, r40, r3, r4, r18, r38, r10, r43, r20, r25, r46, r14, r34, e, r8, r29, r13, r42, r30, r39, r12, r44, r16, r33, r36, r17, r7, r37, r28, r27, r22, r32, r31, r2, r47, r23, r19, r35, r26, r, r11, r9, r24, r5, r15, r41, r45, r21}), frozenset({r s, e}): Group({r24, r s, r25 s, e}), frozenset({r2, e}): Group({r6, r40, r4, r18, r38, r10, r20, r46, r14, r34, r8, e, r42, r30, r12, r44, r16, r36, r32, r28, r22, r2, r26, r24}), frozenset({r2 s, e}): Group({r24, r2 s, e, r26 s}), frozenset({r3, e}): Group({r6, r42, r39, r12, r3, r33, r9, r24, r15, r45, r36, e, r18, r21, r30, r27}), frozenset({r3 s, e}): Group({r24, r3 s, r27 s, e}), frozenset({r4, e}): Group({r20, r12, r32, r40, r4, r16, r44, r24, r36, e, r8, r28}), frozenset({r4 s, e}): Group({r24, r28 s, r4 s, e}), frozenset({r5 s, e}): Group({e, r29 s, r24, r5 s}), frozenset({r6, e}): Group({r6, r42, r12, r24, r36, e, r18, r30}), frozenset({r6 s, e}): Group({r24, r30 s, r6 s, e}), frozenset({r7 s, e}): Group({r24, r7 s, r31 s, e}), frozenset({r8, e}): Group({r40, r16, r24, e, r8, r32}), frozenset({r8 s, e}): Group({r24, r8 s, r32 s, e}), frozenset({r8 s2, e}): Group({r16, r32, e}), frozenset({r9 s, e}): Group({r24, r9 s, r33 s, e}), frozenset({r10 s, e}): Group({e, r24, r34 s, r10 s}), frozenset({r11 s, e}): Group({r24, r35 s, r11 s, e}), frozenset({r12, e}): Group({r24, r36, r12, e}), frozenset({r12 s, e}): Group({r24, r12 s, r36 s, e}), frozenset({r13 s, e}): Group({r24, r13 s, e, r37 s}), frozenset({r14 s, e}): Group({r24, r14 s, r38 s, e}), frozenset({r15 s, e}): Group({r24, r15 s, e, r39 s}), frozenset({r16 s, e}): Group({r24, r16 s, r40 s, e}), frozenset({e, r17 s}): Group({r24, r41 s, e, r17 s}), frozenset({r18 s, e}): Group({r24, r18 s, e, r42 s}), frozenset({e, r19 s}): Group({r24, r43 s, e, r19 s}), frozenset({r20 s, e}): Group({r24, r20 s, r44 s, e}), frozenset({e, r21 s}): Group({r24, r45 s, e, r21 s}), frozenset({r22 s, e}): Group({r24, r46 s, r22 s, e}), frozenset({r23 s, e}): Group({r24, r47 s, e, r23 s}), frozenset({s, r}): Group({r29 s, r2 s, r33 s, r34, r13, r5 s, r12, r44, r36, r17, r40 s, r22, r46 s, r38 s, r43 s, r26, r9, r32 s, r36 s, r18 s, r6, s, r38, r10, r43, r20 s, r45 s, r6 s, r44 s, r14, r28 s, r19 s, r26 s, r3 s, r23 s, r7, r32, r31, r14 s, r35, r11, r45, r41, r12 s, r30 s, r11 s, r35 s, r41 s, r39 s, r21 s, r20, r25, r46, r15 s, e, r39, r16, r22 s, r33, r13 s, r37, r28, r27, r47, r4 s, r17 s, r9 s, r s, r16 s, r40, r3, r4, r18, r7 s, r31 s, r47 s, r8 s, r8, r29, r42, r30, r37 s, r10 s, r27 s, r2, r25 s, r23, r19, r34 s, r, r42 s, r24, r5, r15, r21, r24 s}), frozenset({s, r2}): Group({r18 s, r6, r16 s, r40, r4, r2 s, s, r18, r38, r10, r20 s, r20, r8 s, r46, r6 s, r44 s, r14, r30 s, e, r42, r8, r28 s, r34, r30, r12, r44, r16, r22 s, r26 s, r36, r28, r40 s, r22, r32, r10 s, r14 s, r2, r46 s, r38 s, r26, r34 s, r42 s, r24, r32 s, r4 s, r12 s, r24 s, r36 s}), frozenset({s, r3}): Group({r18 s, r6, s, r3, r39 s, r18, r33 s, r21 s, r45 s, r6 s, r15 s, r30 s, e, r42, r30, r9 s, r39, r12, r33, r3 s, r36, r27, r27 s, r42 s, r24, r45, r9, r15, r21, r12 s, r24 s, r36 s}), frozenset({s, r4}): Group({r16 s, r40, s, r4, r20 s, r20, r8 s, r44 s, r8, e, r28 s, r12, r44, r16, r36, r32, r28, r40 s, r24, r32 s, r4 s, r12 s, r24 s, r36 s}), frozenset({r6, s}): Group({r18 s, r6, r12, s, r6 s, r42 s, r24, r36, r30 s, r18, r42, e, r12 s, r24 s, r36 s, r30}), frozenset({s, r8}): Group({r16 s, r8 s, r32, r40, s, r16, r24, r32 s, e, r8, r24 s, r40 s}), frozenset({s, r12}): Group({r12, s, r24, r36, e, r12 s, r24 s, r36 s}), frozenset({r s, r2}): Group({r29 s, r6, r40, r4, r41 s, r35 s, r39 s, r18, r38, r10, r7 s, r31 s, r33 s, r21 s, r20, r47 s, r45 s, r46, r15 s, r14, r34, r8, e, r42, r30, r5 s, r37 s, r12, r19 s, r44, r16, r3 s, r36, r23 s, r13 s, r28, r32, r22, r27 s, r2, r25 s, r43 s, r26, r24, r17 s, r9 s, r s, r11 s}), frozenset({r3, r s}): Group({r6, r16 s, r3, r18, r7 s, r31 s, e, r42, r28 s, r30, r37 s, r39, r12, r19 s, r22 s, r33, r36, r13 s, r40 s, r27, r10 s, r25 s, r46 s, r43 s, r34 s, r24, r9, r15, r45, r4 s, r21, r s}), frozenset({r4, r s}): Group({r29 s, r40, r41 s, r4, r33 s, r21 s, r20, r45 s, r8, e, r5 s, r37 s, r12, r44, r16, r36, r13 s, r32, r28, r25 s, r24, r17 s, r9 s, r s}), frozenset({r6, r s}): Group({r42, r6, r12, r25 s, r19 s, r43 s, r24, r s, r36, r31 s, r18, e, r13 s, r7 s, r30, r37 s}), frozenset({r s, r8}): Group({r33 s, r25 s, r40, r41 s, r16, r24, e, r17 s, r8, r9 s, r s, r32}), frozenset({r s, r12}): Group({r25 s, r12, r24, r36, e, r13 s, r s, r37 s}), frozenset({r3, r2 s}): Group({r29 s, r6, r35 s, r41 s, r2 s, r3, r18, r20 s, r47 s, r8 s, r44 s, e, r42, r30, r5 s, r39, r12, r33, r26 s, r36, r23 s, r27, r14 s, r38 s, r24, r9, r45, r15, r32 s, r21, r17 s, r11 s}), frozenset({r4, r2 s}): Group({r18 s, r40, r4, r2 s, r20, r6 s, r8, e, r12, r44, r16, r22 s, r26 s, r36, r32, r28, r10 s, r14 s, r46 s, r38 s, r34 s, r42 s, r24, r30 s}), frozenset({r6, r2 s}): Group({r6, r14 s, r8 s, r12, r38 s, r2 s, r44 s, r24, r26 s, r36, r32 s, r18, r42, e, r20 s, r30}), frozenset({r2 s, r8}): Group({r18 s, r40, r16, r34 s, r2 s, r42 s, r24, r26 s, r8, e, r32, r10 s}), frozenset({r2 s, r12}): Group({r14 s, r12, r38 s, r2 s, r24, r26 s, r36, e}), frozenset({r3 s, r4}): Group({r35 s, r4, r40, r39 s, r31 s, r7 s, r20, r47 s, r15 s, r8, e, r12, r19 s, r44, r16, r3 s, r36, r23 s, r32, r28, r27 s, r43 s, r24, r11 s}), frozenset({r3 s, r6}): Group({r27 s, r6, r21 s, r12, r45 s, r39 s, r24, r3 s, r15 s, r36, r18, r42, e, r9 s, r33 s, r30}), frozenset({r3 s, r8}): Group({r27 s, r19 s, r32, r43 s, r35 s, r16, r40, r24, r3 s, e, r8, r11 s}), frozenset({r3 s, r12}): Group({r27 s, r12, r39 s, r24, r3 s, r15 s, r36, e}), frozenset({r6, r4 s}): Group({r16 s, r6, r12, r46 s, r34 s, r22 s, r24, r36, r4 s, r18, r42, e, r28 s, r40 s, r10 s, r30}), frozenset({r4 s, r8}): Group({r40, r16, r44 s, r24, r28 s, r4 s, e, r8, r12 s, r20 s, r36 s, r32}), frozenset({r12, r4 s}): Group({r16 s, r12, r24, r36, r4 s, e, r28 s, r40 s}), frozenset({r6, r5 s}): Group({r29 s, r42, r47 s, r6, r12, r35 s, r41 s, r24, r36, r18, r17 s, r23 s, e, r11 s, r5 s, r30}), frozenset({r8, r5 s}): Group({r29 s, r45 s, r37 s, r40, r16, r24, r8, e, r13 s, r32, r5 s, r21 s}), frozenset({r12, r5 s}): Group({r29 s, r12, r41 s, r24, r36, e, r17 s, r5 s}), frozenset({r6 s, r8}): Group({r14 s, r46 s, r38 s, r40, r16, r22 s, r6 s, r24, r8, e, r30 s, r32}), frozenset({r12, r6 s}): Group({r18 s, r12, r6 s, r42 s, r24, r36, e, r30 s}), frozenset({r7 s, r8}): Group({r47 s, r7 s, r40, r16, r39 s, r24, r15 s, e, r8, r23 s, r31 s, r32}), frozenset({r7 s, r12}): Group({r12, r19 s, r43 s, r24, r36, r31 s, e, r7 s}), frozenset({r8 s, r12}): Group({r8 s, r12, r44 s, r24, r32 s, r36, e, r20 s}), frozenset({r9 s, r12}): Group({r12, r45 s, r24, r36, e, r9 s, r33 s, r21 s}), frozenset({r12, r10 s}): Group({r12, r46 s, r34 s, r22 s, r24, r36, e, r10 s}), frozenset({r12, r11 s}): Group({r47 s, r12, r35 s, r24, r36, e, r23 s, r11 s})}\n"
     ]
    },
    {
     "name": "stderr",
     "output_type": "stream",
     "text": [
      "\n"
     ]
    }
   ],
   "source": [
    "q8 = get_group(\"dic 48\")\n",
    "print(q8)\n",
    "subgroups = find_subgroups(q8)\n",
    "print(subgroups)"
   ]
  },
  {
   "cell_type": "code",
   "execution_count": null,
   "metadata": {},
   "outputs": [
    {
     "data": {
      "text/plain": [
       "70"
      ]
     },
     "execution_count": 120,
     "metadata": {},
     "output_type": "execute_result"
    }
   ],
   "source": [
    "len(subgroups)"
   ]
  },
  {
   "cell_type": "code",
   "execution_count": null,
   "metadata": {},
   "outputs": [
    {
     "name": "stdout",
     "output_type": "stream",
     "text": [
      "r7 s\n",
      "r4\n",
      "r3 s\n"
     ]
    }
   ],
   "source": [
    "print(q8.evaluate(\"s r\"))\n",
    "print(q8.evaluate(\"s2\"))\n",
    "print(q8.evaluate(\"r3 s\"))"
   ]
  },
  {
   "cell_type": "code",
   "execution_count": null,
   "metadata": {},
   "outputs": [
    {
     "data": {
      "text/plain": [
       "{e, r3 s, r4, r7 s}"
      ]
     },
     "execution_count": 64,
     "metadata": {},
     "output_type": "execute_result"
    }
   ],
   "source": [
    "q8.generate(\"r3 s\")"
   ]
  },
  {
   "cell_type": "code",
   "execution_count": null,
   "metadata": {},
   "outputs": [
    {
     "name": "stdout",
     "output_type": "stream",
     "text": [
      "{e: Group({f, e}), r: Group({r2 f, e})}\n"
     ]
    },
    {
     "data": {
      "text/plain": [
       "{e, r f}"
      ]
     },
     "execution_count": 6,
     "metadata": {},
     "output_type": "execute_result"
    }
   ],
   "source": [
    "d4 = get_group(\"d4\")\n",
    "print(d4.conjugacy_class(d4.generate(\"f\")))\n",
    "d4.generate(\"r f\")"
   ]
  },
  {
   "cell_type": "code",
   "execution_count": null,
   "metadata": {},
   "outputs": [
    {
     "name": "stderr",
     "output_type": "stream",
     "text": [
      "100%|██████████████████████████████████████████████████████████████████████████████████████████████████████████████████████████████████████████████████████████████████████████████████████████████████████| 16/16 [00:00<00:00, 223.92it/s]"
     ]
    },
    {
     "name": "stdout",
     "output_type": "stream",
     "text": [
      "adding new gcd entry r0 s3 (16) -> Group({s, e})\n",
      "adding new gcd entry r1 s3 (1) -> Group({e, r9 s, r s, r8})\n",
      "adding new gcd entry r2 s3 (2) -> Group({r2 s, e})\n",
      "r3 s3 -> Group({e, r3 s, r11 s, r8}) failed to match its gcd, and didn't match anyone else\n",
      "adding new gcd entry r4 s3 (4) -> Group({r4 s, e})\n",
      "r5 s3 -> Group({r13 s, r5 s, r8, e}) failed to match its gcd, and didn't match anyone else\n",
      "r6 s3 -> Group({r6 s, e}) failed to match its gcd, and didn't match anyone else\n",
      "r7 s3 -> Group({e, r15 s, r7 s, r8}) failed to match its gcd, and didn't match anyone else\n",
      "adding new gcd entry r8 s3 (8) -> Group({r8 s, e})\n",
      "r9 s3 -> Group({e, r9 s, r s, r8}) matched its gcd pair\n",
      "r10 s3 -> Group({r10 s, e}) failed to match its gcd, and didn't match anyone else\n",
      "r11 s3 -> Group({e, r3 s, r11 s, r8}) instead matched r3 s -> Group({e, r3 s, r11 s, r8})\n",
      "r12 s3 -> Group({r12 s, e}) failed to match its gcd, and didn't match anyone else\n",
      "r13 s3 -> Group({r5 s, r13 s, r8, e}) instead matched r5 s -> Group({r13 s, r5 s, r8, e})\n",
      "r14 s3 -> Group({r14 s, e}) failed to match its gcd, and didn't match anyone else\n",
      "r15 s3 -> Group({e, r15 s, r7 s, r8}) instead matched r7 s -> Group({e, r15 s, r7 s, r8})\n"
     ]
    },
    {
     "name": "stderr",
     "output_type": "stream",
     "text": [
      "\n"
     ]
    }
   ],
   "source": [
    "def check(new_elem, gcd_elem, dict_type, gen, full):\n",
    "    if gcd_elem in dict_type:\n",
    "        if new_elem != dict_type[gcd_elem]:\n",
    "            for other_generator, other in full.items():\n",
    "                if new_elem == other:\n",
    "                    print(f\"{gen} -> {new_elem} instead matched {other_generator} -> {other}\")\n",
    "                    break\n",
    "            else:\n",
    "                print(f\"{gen} -> {new_elem} failed to match its gcd, and didn't match anyone else\")\n",
    "        else:\n",
    "            print(f\"{gen} -> {new_elem} matched its gcd pair\")\n",
    "    else:\n",
    "        print(f\"adding new gcd entry {gen} ({gcd_elem}) -> {new_elem}\")\n",
    "        dict_type[gcd_elem] = new_elem\n",
    "\n",
    "def theory_check(gr, N):\n",
    "    generated_no_s={}\n",
    "    generated_single_s={}\n",
    "    generated_double_s={}\n",
    "    generated_triple_s={}\n",
    "\n",
    "    generated_combined_single_s={}\n",
    "    generated_combined_double_s={}\n",
    "    generated_combined_triple_s={}\n",
    "    full_generated = {}\n",
    "\n",
    "    for exponent in tqdm(range(0,N)):\n",
    "        #print(exponent)\n",
    "        gcd = math.gcd(exponent, N)\n",
    "        no_s = gr.generate(f\"r{exponent}\")\n",
    "        # full_generated[f\"r{exponent}\"] = no_s\n",
    "        # #print(\"no\")\n",
    "        single_s = gr.generate(f\"r{exponent}\", \"s\")\n",
    "        # full_generated[(f\"r{exponent}\", \"s\")] = single_s\n",
    "\n",
    "        #print(\"single\")\n",
    "        double_s = gr.generate(f\"r{exponent}\", \"s2\")\n",
    "        # full_generated[(f\"r{exponent}\", \"s2\")] = double_s\n",
    "\n",
    "        #print(\"double\")\n",
    "        triple_s = gr.generate(f\"r{exponent}\", \"s3\")\n",
    "        # full_generated[(f\"r{exponent}\", \"s3\")] = triple_s\n",
    "\n",
    "        #print(\"triple\")\n",
    "\n",
    "\n",
    "        combined_single_s = gr.generate(f\"r{exponent} s\")\n",
    "        # full_generated[(f\"r{exponent} s\")] = combined_single_s\n",
    "\n",
    "        #print(\"combined\")\n",
    "        combined_double_s = gr.generate(f\"r{exponent} s2\")\n",
    "        # full_generated[(f\"r{exponent} s2\")] = combined_double_s\n",
    "\n",
    "        #print(\"combined double\")\n",
    "        combined_triple_s = gr.generate(f\"r{exponent} s3\")\n",
    "        # full_generated[(f\"r{exponent} s3\")] = combined_triple_s\n",
    "\n",
    "        #print(\"combined triple\")\n",
    "        \n",
    "\n",
    "\n",
    "        # check(no_s, gcd, generated_no_s, f\"r{exponent}\", full_generated)\n",
    "        # check(single_s, gcd, generated_single_s, (f\"r{exponent}\", \"s\"), full_generated)\n",
    "        # check(double_s, gcd, generated_double_s, (f\"r{exponent}\", \"s2\"), full_generated)\n",
    "        # check(triple_s, gcd, generated_triple_s, (f\"r{exponent}\", \"s3\"), full_generated)\n",
    "\n",
    "        # check(combined_single_s, gcd, generated_combined_single_s, f\"r{exponent} s\", full_generated) # problematic\n",
    "        # check(combined_double_s, gcd, generated_combined_double_s, f\"r{exponent} s2\", full_generated)\n",
    "        check(combined_triple_s, gcd, generated_combined_triple_s, f\"r{exponent} s3\", full_generated) # problematic\n",
    "\n",
    "        full_generated[f\"r{exponent}\"] = no_s\n",
    "        full_generated[(f\"r{exponent}\", \"s\")] = single_s\n",
    "        full_generated[(f\"r{exponent}\", \"s2\")] = double_s\n",
    "        full_generated[(f\"r{exponent}\", \"s3\")] = triple_s\n",
    "        full_generated[(f\"r{exponent} s\")] = combined_single_s\n",
    "        full_generated[(f\"r{exponent} s2\")] = combined_double_s\n",
    "        full_generated[(f\"r{exponent} s3\")] = combined_triple_s\n",
    "theory_check(get_group(\"sd 16\"), 16)  # => maybe some optimizations could be made, but most likely check everything"
   ]
  },
  {
   "cell_type": "code",
   "execution_count": null,
   "metadata": {},
   "outputs": [
    {
     "name": "stdout",
     "output_type": "stream",
     "text": [
      "False\n",
      "True\n"
     ]
    }
   ],
   "source": [
    "d64 = get_group(\"d 64\")\n",
    "gr1 = d64.generate(\"r4\", \"f\")\n",
    "print(d64.is_normal(gr1))\n",
    "ngr1 = d64.normal_closure(gr1)\n",
    "print(d64.is_normal(ngr1))\n"
   ]
  },
  {
   "cell_type": "code",
   "execution_count": 2,
   "metadata": {},
   "outputs": [],
   "source": [
    "d256 = get_group(\"d 256\")\n"
   ]
  },
  {
   "cell_type": "code",
   "execution_count": 4,
   "metadata": {},
   "outputs": [],
   "source": [
    "import cProfile, pstats\n",
    "prof = cProfile.Profile()\n",
    "prof.enable()\n",
    "for e1 in d256:\n",
    "    for e2 in d256:\n",
    "        e1 * e2\n",
    "prof.disable()"
   ]
  },
  {
   "cell_type": "code",
   "execution_count": 5,
   "metadata": {},
   "outputs": [
    {
     "name": "stdout",
     "output_type": "stream",
     "text": [
      "         38769722 function calls (36934714 primitive calls) in 15.972 seconds\n",
      "\n",
      "   Ordered by: internal time\n",
      "   List reduced from 51 to 50 due to restriction <50>\n",
      "\n",
      "   ncalls  tottime  percall  cumtime  percall filename:lineno(function)\n",
      "   262144    1.146    0.000    9.866    0.000 /home/test/Code/coding-projects/mini-projects/group_project/group_theory/symbolic.py:137(simplify)\n",
      "  1702915    1.100    0.000    1.771    0.000 /home/test/Code/coding-projects/mini-projects/group_project/group_theory/symbolic.py:11(__init__)\n",
      "   262144    0.970    0.000    5.115    0.000 /home/test/Code/coding-projects/mini-projects/group_project/group_theory/symbolic.py:219(_combine_like_terms)\n",
      "   524288    0.818    0.000    1.483    0.000 /home/test/Code/coding-projects/mini-projects/group_project/group_theory/symbolic.py:237(_filter_identity)\n",
      "  2747139    0.787    0.000    1.231    0.000 /home/test/Code/coding-projects/mini-projects/group_project/group_theory/symbolic.py:313(<genexpr>)\n",
      "   786432    0.780    0.000    3.313    0.000 /home/test/Code/coding-projects/mini-projects/group_project/group_theory/symbolic.py:311(__eq__)\n",
      "  1960707    0.751    0.000    0.884    0.000 /home/test/Code/coding-projects/mini-projects/group_project/group_theory/symbolic.py:59(__repr__)\n",
      "   786432    0.643    0.000    1.526    0.000 /home/test/Code/coding-projects/mini-projects/group_project/group_theory/symbolic.py:319(<listcomp>)\n",
      "3670529/1835521    0.581    0.000    1.010    0.000 {built-in method builtins.len}\n",
      "  1046273    0.555    0.000    1.679    0.000 /home/test/Code/coding-projects/mini-projects/group_project/group_theory/symbolic.py:49(copy)\n",
      "  2227967    0.530    0.000    1.003    0.000 /home/test/Code/coding-projects/mini-projects/group_project/group_theory/symbolic.py:102(__init__)\n",
      "  1702915    0.529    0.000    0.529    0.000 /home/test/Code/coding-projects/mini-projects/group_project/group_theory/symbolic.py:18(simplify)\n",
      "   786432    0.520    0.000    2.144    0.000 /home/test/Code/coding-projects/mini-projects/group_project/group_theory/symbolic.py:318(__repr__)\n",
      "   524288    0.518    0.000    0.863    0.000 /home/test/Code/coding-projects/mini-projects/group_project/group_theory/symbolic.py:32(_mul)\n",
      "   262144    0.512    0.000    2.122    0.000 /home/test/Code/coding-projects/mini-projects/group_project/group_theory/symbolic.py:260(_concat)\n",
      "   786432    0.450    0.000    2.694    0.000 /home/test/Code/coding-projects/mini-projects/group_project/group_theory/symbolic.py:321(__hash__)\n",
      "  1960707    0.444    0.000    0.444    0.000 /home/test/Code/coding-projects/mini-projects/group_project/group_theory/symbolic.py:72(__eq__)\n",
      "   786432    0.436    0.000    1.668    0.000 {built-in method builtins.all}\n",
      "   524288    0.434    0.000    2.582    0.000 /home/test/Code/coding-projects/mini-projects/group_project/group_theory/symbolic.py:268(copy)\n",
      "  1835008    0.430    0.000    0.570    0.000 /home/test/Code/coding-projects/mini-projects/group_project/group_theory/symbolic.py:253(__len__)\n",
      "  3528961    0.411    0.000    0.411    0.000 /home/test/Code/coding-projects/mini-projects/group_project/group_theory/symbolic.py:27(is_identity)\n",
      "   262144    0.404    0.000    5.743    0.000 /home/test/Code/coding-projects/mini-projects/group_project/group_theory/symbolic.py:272(_mul)\n",
      "   526336    0.391    0.000    0.972    0.000 /home/test/Code/coding-projects/mini-projects/group_project/group_theory/groups.py:58(_identity_term)\n",
      "   524288    0.364    0.000    2.043    0.000 /home/test/Code/coding-projects/mini-projects/group_project/group_theory/symbolic.py:269(<listcomp>)\n",
      "  1310206    0.357    0.000    0.501    0.000 /home/test/Code/coding-projects/mini-projects/group_project/group_theory/symbolic.py:244(<lambda>)\n",
      "   262144    0.329    0.000   15.970    0.000 /home/test/Code/coding-projects/mini-projects/group_project/group_theory/symbolic.py:286(__mul__)\n",
      "  2620416    0.232    0.000    0.232    0.000 {built-in method builtins.isinstance}\n",
      "  1702915    0.143    0.000    0.143    0.000 {method 'get' of 'dict' objects}\n",
      "   786432    0.131    0.000    0.131    0.000 /home/test/Code/coding-projects/mini-projects/group_project/group_theory/symbolic.py:133(tprint)\n",
      "   786432    0.100    0.000    0.100    0.000 {built-in method builtins.hash}\n",
      "   786432    0.098    0.000    0.098    0.000 {method 'join' of 'str' objects}\n",
      "   526336    0.077    0.000    0.077    0.000 /home/test/Code/coding-projects/mini-projects/group_project/group_theory/groups.py:114(is_perm_group)\n",
      "      513    0.002    0.000    0.002    0.000 /home/test/Code/coding-projects/mini-projects/group_project/group_theory/groups.py:105(__iter__)\n",
      "      513    0.000    0.000    0.000    0.000 /home/test/Code/coding-projects/mini-projects/group_project/group_theory/groups.py:118(has_elems)\n",
      "        2    0.000    0.000    0.000    0.000 {built-in method builtins.compile}\n",
      "        2    0.000    0.000    0.000    0.000 /usr/lib/python3.11/codeop.py:117(__call__)\n",
      "        2    0.000    0.000   16.089    8.045 /home/test/.venv/py11/lib/python3.11/site-packages/IPython/core/interactiveshell.py:3472(run_code)\n",
      "        2    0.000    0.000    0.000    0.000 /usr/lib/python3.11/contextlib.py:104(__init__)\n",
      "        4    0.000    0.000    0.000    0.000 /home/test/.venv/py11/lib/python3.11/site-packages/IPython/core/compilerop.py:180(extra_flags)\n",
      "        2    0.000    0.000    0.000    0.000 /usr/lib/python3.11/contextlib.py:141(__exit__)\n",
      "        2    0.000    0.000   16.089    8.045 {built-in method builtins.exec}\n",
      "        1    0.000    0.000    0.000    0.000 /tmp/ipykernel_959237/807993260.py:1(<module>)\n",
      "        4    0.000    0.000    0.000    0.000 {built-in method builtins.next}\n",
      "        2    0.000    0.000    0.000    0.000 /home/test/.venv/py11/lib/python3.11/site-packages/IPython/core/interactiveshell.py:1229(user_global_ns)\n",
      "        2    0.000    0.000    0.000    0.000 /home/test/.venv/py11/lib/python3.11/site-packages/IPython/core/interactiveshell.py:3424(compare)\n",
      "        2    0.000    0.000    0.000    0.000 /home/test/.venv/py11/lib/python3.11/site-packages/traitlets/traitlets.py:692(__get__)\n",
      "        2    0.000    0.000    0.000    0.000 /usr/lib/python3.11/contextlib.py:287(helper)\n",
      "        2    0.000    0.000    0.000    0.000 /usr/lib/python3.11/contextlib.py:132(__enter__)\n",
      "        2    0.000    0.000    0.000    0.000 /home/test/.venv/py11/lib/python3.11/site-packages/traitlets/traitlets.py:654(get)\n",
      "        4    0.000    0.000    0.000    0.000 {built-in method builtins.getattr}\n",
      "\n",
      "\n"
     ]
    },
    {
     "data": {
      "text/plain": [
       "<pstats.Stats at 0x7fa9bc49a3d0>"
      ]
     },
     "execution_count": 5,
     "metadata": {},
     "output_type": "execute_result"
    }
   ],
   "source": [
    "pstats.Stats(prof).sort_stats(pstats.SortKey.TIME).print_stats(50)"
   ]
  },
  {
   "cell_type": "code",
   "execution_count": 136,
   "metadata": {},
   "outputs": [
    {
     "name": "stdout",
     "output_type": "stream",
     "text": [
      "         38769722 function calls (36934714 primitive calls) in 17.855 seconds\n",
      "\n",
      "   Ordered by: internal time\n",
      "   List reduced from 51 to 50 due to restriction <50>\n",
      "\n",
      "   ncalls  tottime  percall  cumtime  percall filename:lineno(function)\n",
      "   262144    1.324    0.000   11.034    0.000 /home/test/Code/coding-projects/mini-projects/group_project/group_theory/symbolic.py:137(simplify)\n",
      "  1702915    1.214    0.000    1.949    0.000 /home/test/Code/coding-projects/mini-projects/group_project/group_theory/symbolic.py:11(__init__)\n",
      "   262144    1.100    0.000    5.693    0.000 /home/test/Code/coding-projects/mini-projects/group_project/group_theory/symbolic.py:219(_combine_like_terms)\n",
      "   524288    0.888    0.000    1.629    0.000 /home/test/Code/coding-projects/mini-projects/group_project/group_theory/symbolic.py:237(_filter_identity)\n",
      "  2747139    0.861    0.000    1.412    0.000 /home/test/Code/coding-projects/mini-projects/group_project/group_theory/symbolic.py:313(<genexpr>)\n",
      "  1960707    0.849    0.000    1.001    0.000 /home/test/Code/coding-projects/mini-projects/group_project/group_theory/symbolic.py:59(__repr__)\n",
      "   786432    0.845    0.000    3.709    0.000 /home/test/Code/coding-projects/mini-projects/group_project/group_theory/symbolic.py:311(__eq__)\n",
      "   786432    0.707    0.000    1.708    0.000 /home/test/Code/coding-projects/mini-projects/group_project/group_theory/symbolic.py:319(<listcomp>)\n",
      "3670529/1835521    0.637    0.000    1.137    0.000 {built-in method builtins.len}\n",
      "  1046273    0.624    0.000    1.863    0.000 /home/test/Code/coding-projects/mini-projects/group_project/group_theory/symbolic.py:49(copy)\n",
      "  2227967    0.596    0.000    1.105    0.000 /home/test/Code/coding-projects/mini-projects/group_project/group_theory/symbolic.py:102(__init__)\n",
      "  1702915    0.578    0.000    0.578    0.000 /home/test/Code/coding-projects/mini-projects/group_project/group_theory/symbolic.py:18(simplify)\n",
      "   262144    0.574    0.000    2.341    0.000 /home/test/Code/coding-projects/mini-projects/group_project/group_theory/symbolic.py:260(_concat)\n",
      "   524288    0.564    0.000    0.976    0.000 /home/test/Code/coding-projects/mini-projects/group_project/group_theory/symbolic.py:32(_mul)\n",
      "   786432    0.551    0.000    2.367    0.000 /home/test/Code/coding-projects/mini-projects/group_project/group_theory/symbolic.py:318(__repr__)\n",
      "  1960707    0.551    0.000    0.551    0.000 /home/test/Code/coding-projects/mini-projects/group_project/group_theory/symbolic.py:72(__eq__)\n",
      "  3528961    0.507    0.000    0.507    0.000 /home/test/Code/coding-projects/mini-projects/group_project/group_theory/symbolic.py:27(is_identity)\n",
      "  1835008    0.501    0.000    0.655    0.000 /home/test/Code/coding-projects/mini-projects/group_project/group_theory/symbolic.py:253(__len__)\n",
      "   524288    0.491    0.000    2.879    0.000 /home/test/Code/coding-projects/mini-projects/group_project/group_theory/symbolic.py:268(copy)\n",
      "   786432    0.489    0.000    2.970    0.000 /home/test/Code/coding-projects/mini-projects/group_project/group_theory/symbolic.py:321(__hash__)\n",
      "   262144    0.484    0.000    6.424    0.000 /home/test/Code/coding-projects/mini-projects/group_project/group_theory/symbolic.py:272(_mul)\n",
      "   786432    0.474    0.000    1.885    0.000 {built-in method builtins.all}\n",
      "   526336    0.417    0.000    1.060    0.000 /home/test/Code/coding-projects/mini-projects/group_project/group_theory/groups.py:58(_identity_term)\n",
      "   524288    0.407    0.000    2.270    0.000 /home/test/Code/coding-projects/mini-projects/group_project/group_theory/symbolic.py:269(<listcomp>)\n",
      "  1310206    0.379    0.000    0.557    0.000 /home/test/Code/coding-projects/mini-projects/group_project/group_theory/symbolic.py:244(<lambda>)\n",
      "   262144    0.360    0.000   17.853    0.000 /home/test/Code/coding-projects/mini-projects/group_project/group_theory/symbolic.py:286(__mul__)\n",
      "  2620416    0.263    0.000    0.263    0.000 {built-in method builtins.isinstance}\n",
      "  1702915    0.157    0.000    0.157    0.000 {method 'get' of 'dict' objects}\n",
      "   786432    0.152    0.000    0.152    0.000 /home/test/Code/coding-projects/mini-projects/group_project/group_theory/symbolic.py:133(tprint)\n",
      "   786432    0.114    0.000    0.114    0.000 {built-in method builtins.hash}\n",
      "   786432    0.108    0.000    0.108    0.000 {method 'join' of 'str' objects}\n",
      "   526336    0.088    0.000    0.088    0.000 /home/test/Code/coding-projects/mini-projects/group_project/group_theory/groups.py:114(is_perm_group)\n",
      "      513    0.002    0.000    0.002    0.000 /home/test/Code/coding-projects/mini-projects/group_project/group_theory/groups.py:105(__iter__)\n",
      "      513    0.000    0.000    0.000    0.000 /home/test/Code/coding-projects/mini-projects/group_project/group_theory/groups.py:118(has_elems)\n",
      "        2    0.000    0.000    0.000    0.000 {built-in method builtins.compile}\n",
      "        2    0.000    0.000    0.000    0.000 /usr/lib/python3.11/codeop.py:117(__call__)\n",
      "        2    0.000    0.000   17.988    8.994 /home/test/.venv/py11/lib/python3.11/site-packages/IPython/core/interactiveshell.py:3472(run_code)\n",
      "        2    0.000    0.000    0.000    0.000 /usr/lib/python3.11/contextlib.py:104(__init__)\n",
      "        1    0.000    0.000    0.000    0.000 /tmp/ipykernel_925238/807993260.py:1(<module>)\n",
      "        2    0.000    0.000   17.988    8.994 {built-in method builtins.exec}\n",
      "        4    0.000    0.000    0.000    0.000 /home/test/.venv/py11/lib/python3.11/site-packages/IPython/core/compilerop.py:180(extra_flags)\n",
      "        2    0.000    0.000    0.000    0.000 /usr/lib/python3.11/contextlib.py:141(__exit__)\n",
      "        4    0.000    0.000    0.000    0.000 {built-in method builtins.next}\n",
      "        2    0.000    0.000    0.000    0.000 /home/test/.venv/py11/lib/python3.11/site-packages/IPython/core/interactiveshell.py:3424(compare)\n",
      "        2    0.000    0.000    0.000    0.000 /usr/lib/python3.11/contextlib.py:287(helper)\n",
      "        2    0.000    0.000    0.000    0.000 /home/test/.venv/py11/lib/python3.11/site-packages/traitlets/traitlets.py:654(get)\n",
      "        2    0.000    0.000    0.000    0.000 /usr/lib/python3.11/contextlib.py:132(__enter__)\n",
      "        2    0.000    0.000    0.000    0.000 /home/test/.venv/py11/lib/python3.11/site-packages/traitlets/traitlets.py:692(__get__)\n",
      "        4    0.000    0.000    0.000    0.000 {built-in method builtins.getattr}\n",
      "        2    0.000    0.000    0.000    0.000 /home/test/.venv/py11/lib/python3.11/site-packages/IPython/core/interactiveshell.py:1229(user_global_ns)\n",
      "\n",
      "\n"
     ]
    },
    {
     "data": {
      "text/plain": [
       "<pstats.Stats at 0x7fcddf27a750>"
      ]
     },
     "execution_count": 136,
     "metadata": {},
     "output_type": "execute_result"
    }
   ],
   "source": [
    "pstats.Stats(prof).sort_stats(pstats.SortKey.TIME).print_stats(50)"
   ]
  },
  {
   "cell_type": "code",
   "execution_count": 129,
   "metadata": {},
   "outputs": [
    {
     "name": "stdout",
     "output_type": "stream",
     "text": [
      "         40864577 function calls (39029569 primitive calls) in 18.051 seconds\n",
      "\n",
      "   Ordered by: internal time\n",
      "   List reduced from 51 to 50 due to restriction <50>\n",
      "\n",
      "   ncalls  tottime  percall  cumtime  percall filename:lineno(function)\n",
      "   262144    1.366    0.000   11.422    0.000 /home/test/Code/coding-projects/mini-projects/group_project/group_theory/symbolic.py:137(simplify)\n",
      "   786432    1.246    0.000    2.282    0.000 /home/test/Code/coding-projects/mini-projects/group_project/group_theory/symbolic.py:238(_filter_identity)\n",
      "  1703172    1.179    0.000    1.905    0.000 /home/test/Code/coding-projects/mini-projects/group_project/group_theory/symbolic.py:11(__init__)\n",
      "   262144    1.044    0.000    5.428    0.000 /home/test/Code/coding-projects/mini-projects/group_project/group_theory/symbolic.py:220(_combine_like_terms)\n",
      "  2747139    0.834    0.000    1.321    0.000 /home/test/Code/coding-projects/mini-projects/group_project/group_theory/symbolic.py:314(<genexpr>)\n",
      "   786432    0.826    0.000    3.531    0.000 /home/test/Code/coding-projects/mini-projects/group_project/group_theory/symbolic.py:312(__eq__)\n",
      "  1960707    0.768    0.000    0.907    0.000 /home/test/Code/coding-projects/mini-projects/group_project/group_theory/symbolic.py:59(__repr__)\n",
      "   786432    0.688    0.000    1.595    0.000 /home/test/Code/coding-projects/mini-projects/group_project/group_theory/symbolic.py:320(<listcomp>)\n",
      "  2490111    0.627    0.000    1.121    0.000 /home/test/Code/coding-projects/mini-projects/group_project/group_theory/symbolic.py:102(__init__)\n",
      "3670529/1835521    0.622    0.000    1.073    0.000 {built-in method builtins.len}\n",
      "  1046273    0.597    0.000    1.812    0.000 /home/test/Code/coding-projects/mini-projects/group_project/group_theory/symbolic.py:49(copy)\n",
      "  1703172    0.566    0.000    0.566    0.000 /home/test/Code/coding-projects/mini-projects/group_project/group_theory/symbolic.py:18(simplify)\n",
      "   524288    0.560    0.000    0.935    0.000 /home/test/Code/coding-projects/mini-projects/group_project/group_theory/symbolic.py:32(_mul)\n",
      "   786432    0.553    0.000    2.258    0.000 /home/test/Code/coding-projects/mini-projects/group_project/group_theory/symbolic.py:319(__repr__)\n",
      "   262144    0.542    0.000    2.223    0.000 /home/test/Code/coding-projects/mini-projects/group_project/group_theory/symbolic.py:261(_concat)\n",
      "  1963775    0.533    0.000    0.768    0.000 /home/test/Code/coding-projects/mini-projects/group_project/group_theory/symbolic.py:245(<lambda>)\n",
      "  4182530    0.521    0.000    0.521    0.000 /home/test/Code/coding-projects/mini-projects/group_project/group_theory/symbolic.py:27(is_identity)\n",
      "  1960707    0.487    0.000    0.487    0.000 /home/test/Code/coding-projects/mini-projects/group_project/group_theory/symbolic.py:72(__eq__)\n",
      "   524288    0.477    0.000    2.795    0.000 /home/test/Code/coding-projects/mini-projects/group_project/group_theory/symbolic.py:269(copy)\n",
      "   786432    0.476    0.000    2.847    0.000 /home/test/Code/coding-projects/mini-projects/group_project/group_theory/symbolic.py:322(__hash__)\n",
      "   786432    0.462    0.000    1.784    0.000 {built-in method builtins.all}\n",
      "  1835008    0.451    0.000    0.604    0.000 /home/test/Code/coding-projects/mini-projects/group_project/group_theory/symbolic.py:254(__len__)\n",
      "   262144    0.446    0.000    6.113    0.000 /home/test/Code/coding-projects/mini-projects/group_project/group_theory/symbolic.py:273(_mul)\n",
      "   526593    0.407    0.000    1.024    0.000 /home/test/Code/coding-projects/mini-projects/group_project/group_theory/groups.py:58(_identity_term)\n",
      "   524288    0.392    0.000    2.204    0.000 /home/test/Code/coding-projects/mini-projects/group_project/group_theory/symbolic.py:270(<listcomp>)\n",
      "   262144    0.348    0.000   17.916    0.000 /home/test/Code/coding-projects/mini-projects/group_project/group_theory/symbolic.py:287(__mul__)\n",
      "  2882560    0.290    0.000    0.290    0.000 {built-in method builtins.isinstance}\n",
      "  1703172    0.159    0.000    0.159    0.000 {method 'get' of 'dict' objects}\n",
      "   786432    0.145    0.000    0.145    0.000 /home/test/Code/coding-projects/mini-projects/group_project/group_theory/symbolic.py:133(tprint)\n",
      "        1    0.133    0.133   18.051   18.051 /tmp/ipykernel_925238/1163722206.py:1(<module>)\n",
      "   786432    0.112    0.000    0.112    0.000 {built-in method builtins.hash}\n",
      "   786432    0.110    0.000    0.110    0.000 {method 'join' of 'str' objects}\n",
      "   526593    0.079    0.000    0.079    0.000 /home/test/Code/coding-projects/mini-projects/group_project/group_theory/groups.py:114(is_perm_group)\n",
      "      513    0.002    0.000    0.002    0.000 /home/test/Code/coding-projects/mini-projects/group_project/group_theory/groups.py:105(__iter__)\n",
      "      513    0.000    0.000    0.000    0.000 /home/test/Code/coding-projects/mini-projects/group_project/group_theory/groups.py:118(has_elems)\n",
      "        2    0.000    0.000    0.000    0.000 {built-in method builtins.compile}\n",
      "        2    0.000    0.000    0.000    0.000 /usr/lib/python3.11/codeop.py:117(__call__)\n",
      "        2    0.000    0.000   18.051    9.026 /home/test/.venv/py11/lib/python3.11/site-packages/IPython/core/interactiveshell.py:3472(run_code)\n",
      "        2    0.000    0.000    0.000    0.000 /usr/lib/python3.11/contextlib.py:104(__init__)\n",
      "        2    0.000    0.000    0.000    0.000 /home/test/.venv/py11/lib/python3.11/site-packages/traitlets/traitlets.py:692(__get__)\n",
      "        2    0.000    0.000    0.000    0.000 /usr/lib/python3.11/contextlib.py:141(__exit__)\n",
      "        4    0.000    0.000    0.000    0.000 {built-in method builtins.next}\n",
      "        2    0.000    0.000   18.051    9.026 {built-in method builtins.exec}\n",
      "        4    0.000    0.000    0.000    0.000 /home/test/.venv/py11/lib/python3.11/site-packages/IPython/core/compilerop.py:180(extra_flags)\n",
      "        2    0.000    0.000    0.000    0.000 /usr/lib/python3.11/contextlib.py:287(helper)\n",
      "        2    0.000    0.000    0.000    0.000 /home/test/.venv/py11/lib/python3.11/site-packages/IPython/core/interactiveshell.py:3424(compare)\n",
      "        2    0.000    0.000    0.000    0.000 /usr/lib/python3.11/contextlib.py:132(__enter__)\n",
      "        2    0.000    0.000    0.000    0.000 /home/test/.venv/py11/lib/python3.11/site-packages/IPython/core/interactiveshell.py:1229(user_global_ns)\n",
      "        4    0.000    0.000    0.000    0.000 {built-in method builtins.getattr}\n",
      "        2    0.000    0.000    0.000    0.000 /home/test/.venv/py11/lib/python3.11/site-packages/traitlets/traitlets.py:654(get)\n",
      "\n",
      "\n"
     ]
    },
    {
     "data": {
      "text/plain": [
       "<pstats.Stats at 0x7fcdfc726850>"
      ]
     },
     "execution_count": 129,
     "metadata": {},
     "output_type": "execute_result"
    }
   ],
   "source": [
    "pstats.Stats(prof).sort_stats(pstats.SortKey.TIME).print_stats(50)"
   ]
  }
 ],
 "metadata": {
  "kernelspec": {
   "display_name": "Python 3 (ipykernel)",
   "language": "python",
   "name": "python3"
  },
  "language_info": {
   "codemirror_mode": {
    "name": "ipython",
    "version": 3
   },
   "file_extension": ".py",
   "mimetype": "text/x-python",
   "name": "python",
   "nbconvert_exporter": "python",
   "pygments_lexer": "ipython3",
   "version": "3.11.3"
  }
 },
 "nbformat": 4,
 "nbformat_minor": 2
}
