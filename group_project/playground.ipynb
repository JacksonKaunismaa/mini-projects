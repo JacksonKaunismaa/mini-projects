{
 "cells": [
  {
   "cell_type": "code",
   "execution_count": 8,
   "metadata": {},
   "outputs": [
    {
     "name": "stdout",
     "output_type": "stream",
     "text": [
      "The autoreload extension is already loaded. To reload it, use:\n",
      "  %reload_ext autoreload\n",
      "Modules to reload:\n",
      "group_theory.groups group_theory.operations\n",
      "\n",
      "Modules to skip:\n",
      "\n"
     ]
    }
   ],
   "source": [
    "from group_theory.operations import *\n",
    "from group_theory.permutation import *\n",
    "from group_theory.groups import *\n",
    "from tqdm import tqdm\n",
    "\n",
    "\n",
    "# set up autoreloading of shared code (can't do it with groups or Permutations due to isinstance weirdness)\n",
    "%load_ext autoreload\n",
    "%autoreload 1\n",
    "%aimport group_theory.operations,group_theory.groups\n",
    "%aimport"
   ]
  },
  {
   "cell_type": "code",
   "execution_count": 2,
   "metadata": {},
   "outputs": [
    {
     "name": "stdout",
     "output_type": "stream",
     "text": [
      "Group({(1 3)(2 4), e, (1 2)(3 4), (1 4)(2 3)}) Group({e, (1 2)(3 4)})\n"
     ]
    }
   ],
   "source": [
    "a4 = get_even_permutations(4)\n",
    "x = Permutation([[0,1], [2,3]], n=4)\n",
    "\n",
    "K = a4.generate(x)\n",
    "norm_K = normalizer(K, a4)\n",
    "print(norm_K, K)\n"
   ]
  },
  {
   "cell_type": "code",
   "execution_count": 3,
   "metadata": {},
   "outputs": [
    {
     "name": "stdout",
     "output_type": "stream",
     "text": [
      "{(1 2 3): Group({(1 3 4), (1 2 3), (1 4 2), (2 4 3)}), (1 2 4): Group({(1 3 2), (1 4 3), (2 3 4), (1 2 4)}), e: Group({(1 3)(2 4), e, (1 2)(3 4), (1 4)(2 3)})}\n",
      "{(1 2 3): Group({(1 3)(2 4), e}), (1 2 4): Group({e, (1 4)(2 3)}), e: Group({e, (1 2)(3 4)})}\n"
     ]
    }
   ],
   "source": [
    "print(find_cosets(norm_K, a4))\n",
    "#print(conjugacy_class(x, a4))\n",
    "print(conjugacy_class(K, a4))"
   ]
  },
  {
   "cell_type": "code",
   "execution_count": 4,
   "metadata": {},
   "outputs": [
    {
     "name": "stdout",
     "output_type": "stream",
     "text": [
      "Group({f, e}) Group({r4, r4 f, f, e})\n",
      "{r3: Group({r3 f, r3, r7 f, r7}), r2: Group({r2 f, r6 f, r2, r6}), r: Group({r f, r5, r5 f, r}), e: Group({r4, r4 f, f, e})}\n",
      "{r3: Group({r6 f, e}), r2: Group({r4 f, e}), r: Group({r2 f, e}), e: Group({f, e})}\n"
     ]
    }
   ],
   "source": [
    "D8 = get_group(\"dihedral 8\")\n",
    "H = D8.generate(\"f\")\n",
    "N_H = normalizer(H, D8)\n",
    "\n",
    "print(H, N_H)\n",
    "print(find_cosets(N_H, D8))\n",
    "print(conjugacy_class(H, D8))"
   ]
  },
  {
   "cell_type": "code",
   "execution_count": 69,
   "metadata": {},
   "outputs": [
    {
     "name": "stdout",
     "output_type": "stream",
     "text": [
      "Group({r3, r7 s, r5 s, r, r6 s, r2 s, r4, s, r s, r2, r7, r5, r6, r3 s, e, r4 s})\n",
      "(0, 0) <> = Group({e})\n",
      "(0, 1) <s> = Group({r4, e, r4 s, s})\n",
      "(0, 2) <s2> = Group({r4, e})\n",
      "(1, 0) <r> = Group({r3, r2, r7, r, r6, r4, e, r5})\n",
      "(1, 1) <r, s> = Group({r3, r s, r7 s, r2, r5 s, r7, r, r6, r3 s, r2 s, r4, r6 s, r4 s, e, r5, s})\n",
      "(1, 2) <r, s2> = Group({r3, r2, r7, r, r6, r4, e, r5})\n",
      "(2, 0) <r2> = Group({r4, e, r2, r6})\n",
      "(2, 1) <r2, s> = Group({r2, r6 s, r6, r4, r2 s, e, r4 s, s})\n",
      "(2, 2) <r2, s2> = Group({r4, e, r2, r6})\n",
      "(4, 0) <r4> = Group({r4, e})\n",
      "(4, 1) <r4, s> = Group({r4, e, r4 s, s})\n",
      "(4, 2) <r4, s2> = Group({r4, e})\n"
     ]
    },
    {
     "data": {
      "text/plain": [
       "{(): {e},\n",
       " (s,): {e, r4, r4 s, s},\n",
       " (s2,): {e, r4},\n",
       " (r,): {e, r, r2, r3, r4, r5, r6, r7},\n",
       " (r, s): {e,\n",
       "  r,\n",
       "  r s,\n",
       "  r2,\n",
       "  r2 s,\n",
       "  r3,\n",
       "  r3 s,\n",
       "  r4,\n",
       "  r4 s,\n",
       "  r5,\n",
       "  r5 s,\n",
       "  r6,\n",
       "  r6 s,\n",
       "  r7,\n",
       "  r7 s,\n",
       "  s},\n",
       " (r2,): {e, r2, r4, r6},\n",
       " (r2, s): {e, r2, r2 s, r4, r4 s, r6, r6 s, s}}"
      ]
     },
     "execution_count": 69,
     "metadata": {},
     "output_type": "execute_result"
    }
   ],
   "source": [
    "q8 = get_group(\"q8\")\n",
    "print(q8)\n",
    "find_subgroups(q8)"
   ]
  },
  {
   "cell_type": "code",
   "execution_count": 6,
   "metadata": {},
   "outputs": [
    {
     "name": "stdout",
     "output_type": "stream",
     "text": [
      "{e: Group({f, e}), r: Group({r2 f, e})}\n"
     ]
    },
    {
     "data": {
      "text/plain": [
       "{e, r f}"
      ]
     },
     "execution_count": 6,
     "metadata": {},
     "output_type": "execute_result"
    }
   ],
   "source": [
    "d4 = get_group(\"d4\")\n",
    "print(conjugacy_class(d4.generate(\"f\"), d4))\n",
    "d4.generate(\"r f\")"
   ]
  },
  {
   "cell_type": "code",
   "execution_count": 32,
   "metadata": {},
   "outputs": [
    {
     "name": "stderr",
     "output_type": "stream",
     "text": [
      "100%|███████████████████████████████████████████████████████████████████████████████████████████████████████████████████████████████████████████████████████████████████████████████████████████████████████| 59/59 [00:06<00:00,  8.46it/s]\n"
     ]
    }
   ],
   "source": [
    "import math\n",
    "N = 60\n",
    "dic_60 = get_group(f\"dicyclic {N}\")\n",
    "\n",
    "generated_no_s={}\n",
    "generated_single_s={}\n",
    "generated_double_s={}\n",
    "generated_triple_s={}\n",
    "\n",
    "generated_combined_single_s={}\n",
    "generated_combined_double_s={}\n",
    "generated_combined_triple_s={}\n",
    "\n",
    "def check(new_elem, gcd_elem, dict_type):\n",
    "    if new_elem != dict_type[gcd_elem]:\n",
    "        print(new_elem, dict_type[gcd_elem])\n",
    "\n",
    "for exponent in tqdm(range(0,N)):\n",
    "    #print(exponent)\n",
    "    gcd = math.gcd(exponent, N)\n",
    "    no_s = dic_60.generate(f\"r{exponent}\")\n",
    "    #print(\"no\")\n",
    "    single_s = dic_60.generate(f\"r{exponent}\", \"s\")\n",
    "    #print(\"single\")\n",
    "    double_s = dic_60.generate(f\"r{exponent}\", \"s2\")\n",
    "    #print(\"double\")\n",
    "    triple_s = dic_60.generate(f\"r{exponent}\", \"s3\")\n",
    "    #print(\"triple\")\n",
    "\n",
    "\n",
    "    combined_single_s = dic_60.generate(f\"r{exponent} s\")\n",
    "    #print(\"combined\")\n",
    "    combined_double_s = dic_60.generate(f\"r{exponent} s2\")\n",
    "    #print(\"combined double\")\n",
    "    combined_triple_s = dic_60.generate(f\"r{exponent} s3\")\n",
    "    #print(\"combined triple\")\n",
    "\n",
    "\n",
    "    if gcd in generated_no_s:\n",
    "        check(no_s, generated_no_s)\n",
    "        check(single_s, gcd, generated_single_s)\n",
    "        check(double_s, gcd, generated_double_s)\n",
    "        check(triple_s, gcd, generated_triple_s)\n",
    "\n",
    "        check(combined_single_s, gcd, generated_combined_single_s)\n",
    "        check(combined_double_s, gcd, generated_combined_double_s)\n",
    "        check(combined_triple_s, gcd, generated_combined_triple_s)\n",
    "\n"
   ]
  },
  {
   "cell_type": "code",
   "execution_count": 46,
   "metadata": {},
   "outputs": [
    {
     "name": "stdout",
     "output_type": "stream",
     "text": [
      "r17 s\n",
      "r19 s\n",
      "r56 s\n",
      "r30 s\n",
      "r69 s\n",
      "r35 s\n"
     ]
    }
   ],
   "source": [
    "dic_72 = get_group(f\"dicyclic 72\")\n",
    "print(dic_72.evaluate(\"r2 s3 r4 s5 r6 s7 r8 s9 r10 s-1 r24 s-50 r1 s2\"))\n",
    "print(dic_72.evaluate(\"s3 r17\"))\n",
    "print(dic_72.evaluate(\"s r16\"))\n",
    "print(dic_72.evaluate(\"s r42\"))\n",
    "print(dic_72.evaluate(\"s r3\"))\n",
    "print(dic_72.evaluate(\"s r37\"))\n"
   ]
  },
  {
   "cell_type": "code",
   "execution_count": 54,
   "metadata": {},
   "outputs": [
    {
     "name": "stdout",
     "output_type": "stream",
     "text": [
      "r17 s\n",
      "r19 s\n",
      "r56 s\n",
      "r30 s\n",
      "r69 s\n",
      "r35 s\n"
     ]
    }
   ],
   "source": [
    "dic_72 = get_group(f\"dicyclic 72\")\n",
    "print(dic_72.evaluate(\"r2 s3 r4 s5 r6 s7 r8 s9 r10 s-1 r24 s-50 r1 s2\"))\n",
    "print(dic_72.evaluate(\"s3 r17\"))\n",
    "print(dic_72.evaluate(\"s r16\"))\n",
    "print(dic_72.evaluate(\"s r42\"))\n",
    "print(dic_72.evaluate(\"s r3\"))\n",
    "print(dic_72.evaluate(\"s r37\"))\n"
   ]
  }
 ],
 "metadata": {
  "kernelspec": {
   "display_name": "Python 3 (ipykernel)",
   "language": "python",
   "name": "python3"
  },
  "language_info": {
   "codemirror_mode": {
    "name": "ipython",
    "version": 3
   },
   "file_extension": ".py",
   "mimetype": "text/x-python",
   "name": "python",
   "nbconvert_exporter": "python",
   "pygments_lexer": "ipython3",
   "version": "3.10.10"
  },
  "orig_nbformat": 4
 },
 "nbformat": 4,
 "nbformat_minor": 2
}
