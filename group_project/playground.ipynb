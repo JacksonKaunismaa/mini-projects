{
 "cells": [
  {
   "cell_type": "code",
   "execution_count": 1,
   "metadata": {},
   "outputs": [
    {
     "name": "stdout",
     "output_type": "stream",
     "text": [
      "Modules to reload:\n",
      "group_theory.groups group_theory.operations\n",
      "\n",
      "Modules to skip:\n",
      "\n"
     ]
    }
   ],
   "source": [
    "from group_theory.operations import *\n",
    "from group_theory.permutation import *\n",
    "from group_theory.groups import *\n",
    "\n",
    "\n",
    "# set up autoreloading of shared code (can't do it with groups or Permutations due to isinstance weirdness)\n",
    "%load_ext autoreload\n",
    "%autoreload 1\n",
    "%aimport group_theory.operations,group_theory.groups\n",
    "%aimport"
   ]
  },
  {
   "cell_type": "code",
   "execution_count": 2,
   "metadata": {},
   "outputs": [
    {
     "name": "stdout",
     "output_type": "stream",
     "text": [
      "Group({(1 2)(3 4), (1 3)(2 4), e, (1 4)(2 3)}) Group({(1 2)(3 4), e})\n"
     ]
    }
   ],
   "source": [
    "a4 = get_even_permutations(4)\n",
    "x = Permutation([[0,1], [2,3]], n=4)\n",
    "\n",
    "K = a4.generate(x)\n",
    "norm_K = normalizer(K, a4)\n",
    "print(norm_K, K)\n"
   ]
  },
  {
   "cell_type": "code",
   "execution_count": 3,
   "metadata": {},
   "outputs": [
    {
     "name": "stdout",
     "output_type": "stream",
     "text": [
      "{e: Group({(1 2)(3 4), (1 3)(2 4), e, (1 4)(2 3)}), (1 2 3): Group({(2 4 3), (1 3 4), (1 2 3), (1 4 2)}), (1 2 4): Group({(1 3 2), (1 4 3), (1 2 4), (2 3 4)})}\n",
      "{(1 2 3): Group({(1 3)(2 4), e}), e: Group({(1 2)(3 4), e}), (1 2 4): Group({e, (1 4)(2 3)})}\n"
     ]
    }
   ],
   "source": [
    "print(find_cosets(norm_K, a4))\n",
    "#print(conjugacy_class(x, a4))\n",
    "print(conjugacy_class(K, a4))"
   ]
  },
  {
   "cell_type": "code",
   "execution_count": 6,
   "metadata": {},
   "outputs": [
    {
     "name": "stdout",
     "output_type": "stream",
     "text": [
      "{e: Group({f, r4, e, r4 f}), r: Group({r5, r f, r, r5 f}), r2: Group({r2 f, r6, r2, r6 f}), r3: Group({r7, r7 f, r3, r3 f})}\n",
      "{r: Group({r2 f, e}), r2: Group({e, r4 f}), r3: Group({r6 f, e}), e: Group({f, e})}\n"
     ]
    }
   ],
   "source": [
    "D8 = default_groups(\"dihedral\", 8)\n",
    "H = D8.generate(\"f\")\n",
    "N_H = normalizer(H, D8)\n",
    "\n",
    "print(H, N_H)\n",
    "print(find_cosets(N_H, D8))\n",
    "print(conjugacy_class(H, D8))"
   ]
  },
  {
   "cell_type": "code",
   "execution_count": 8,
   "metadata": {},
   "outputs": [],
   "source": [
    "q8 = default_groups(\"quaternion\", 8)"
   ]
  },
  {
   "cell_type": "code",
   "execution_count": 17,
   "metadata": {},
   "outputs": [
    {
     "data": {
      "text/plain": [
       "{(s,): {e, s, s2, s3},\n",
       " (s2,): {e, s2},\n",
       " (r,): {e, r},\n",
       " (r, s): {e, r, r s, r s2, r s3, s, s2, s3},\n",
       " (r, s2): {e, r, r s2, s2},\n",
       " (r2,): {e}}"
      ]
     },
     "execution_count": 17,
     "metadata": {},
     "output_type": "execute_result"
    }
   ],
   "source": [
    "find_subgroups(q8)\n",
    "#q8.singleton_rules"
   ]
  },
  {
   "cell_type": "code",
   "execution_count": 20,
   "metadata": {},
   "outputs": [
    {
     "data": {
      "text/plain": [
       "{e, s2}"
      ]
     },
     "execution_count": 20,
     "metadata": {},
     "output_type": "execute_result"
    }
   ],
   "source": [
    "q8.generate(\"s2\")"
   ]
  },
  {
   "cell_type": "code",
   "execution_count": null,
   "metadata": {},
   "outputs": [],
   "source": []
  }
 ],
 "metadata": {
  "kernelspec": {
   "display_name": "Python 3 (ipykernel)",
   "language": "python",
   "name": "python3"
  },
  "language_info": {
   "codemirror_mode": {
    "name": "ipython",
    "version": 3
   },
   "file_extension": ".py",
   "mimetype": "text/x-python",
   "name": "python",
   "nbconvert_exporter": "python",
   "pygments_lexer": "ipython3",
   "version": "3.10.10"
  },
  "orig_nbformat": 4
 },
 "nbformat": 4,
 "nbformat_minor": 2
}
