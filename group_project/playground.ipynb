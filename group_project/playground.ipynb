{
 "cells": [
  {
   "cell_type": "code",
   "execution_count": 1,
   "metadata": {},
   "outputs": [
    {
     "name": "stdout",
     "output_type": "stream",
     "text": [
      "Modules to reload:\n",
      "group_theory.groups group_theory.operations\n",
      "\n",
      "Modules to skip:\n",
      "\n"
     ]
    }
   ],
   "source": [
    "from group_theory.utils import *\n",
    "from group_theory.permutation import *\n",
    "from group_theory.groups import *\n",
    "from tqdm import tqdm\n",
    "import math\n",
    "\n",
    "\n",
    "# set up autoreloading of shared code (can't do it with groups or Permutations due to isinstance weirdness)\n",
    "%load_ext autoreload\n",
    "%autoreload 1\n",
    "%aimport group_theory.operations,group_theory.groups\n",
    "%aimport"
   ]
  },
  {
   "cell_type": "code",
   "execution_count": 36,
   "metadata": {},
   "outputs": [
    {
     "name": "stdout",
     "output_type": "stream",
     "text": [
      "Warning: you are trying to iterate over an empty group\n",
      "Warning: you are trying to iterate over an empty group\n",
      "Warning: you are trying to iterate over an empty group\n",
      "Warning: you are trying to iterate over an empty group\n",
      "Warning: you are trying to iterate over an empty group\n",
      "Warning: you are trying to iterate over an empty group\n",
      "Warning: you are trying to iterate over an empty group\n",
      "Warning: you are trying to iterate over an empty group\n",
      "Warning: you are trying to iterate over an empty group\n"
     ]
    }
   ],
   "source": [
    "dic_16 = get_group(\"dic 16\")\n",
    "dic_16._generate_all()\n",
    "H = dic_16.generate(\"r4\", \"s\")\n",
    "cosets = find_cosets(H, dic_16)\n",
    "# for e1 in dic_16:\n",
    "#     for e2 in dic_16:\n",
    "#         if e1 * H / e1 == e2 * H / e2:\n",
    "#             if e1 * H != e2 * H:\n",
    "#                 print(\"Found mismatch\", e1, e2)\n",
    "#                 break\n",
    "#     else:\n",
    "#         continue\n",
    "#     break\n",
    "# print(e1*H/e1)\n",
    "# print(e2*H/e2)\n",
    "# print(conjugacy_class(e1, dic_16))\n",
    "# print(e1*H)\n",
    "# print(e2*H)\n",
    "# print(e1*H*e2*H)"
   ]
  },
  {
   "cell_type": "code",
   "execution_count": 29,
   "metadata": {},
   "outputs": [
    {
     "data": {
      "text/plain": [
       "{a2 b, a2 b3, b2, e}"
      ]
     },
     "execution_count": 29,
     "metadata": {},
     "output_type": "execute_result"
    }
   ],
   "source": [
    "c4_semi_c4 = Group(rules=[\"a4 = e\",\n",
    "                          \"b4 = e\",\n",
    "                          \"b a = a3 b\"])\n",
    "B = c4_semi_c4.generate(\"b\")\n",
    "a = c4_semi_c4.evaluate(\"a\")\n",
    "(a**3) * B / (a**3)"
   ]
  },
  {
   "cell_type": "code",
   "execution_count": 2,
   "metadata": {},
   "outputs": [
    {
     "name": "stdout",
     "output_type": "stream",
     "text": [
      "Group({(1 3)(2 4), e, (1 2)(3 4), (1 4)(2 3)}) Group({e, (1 2)(3 4)})\n"
     ]
    }
   ],
   "source": [
    "a4 = get_even_permutations(4)\n",
    "x = Permutation([[0,1], [2,3]], n=4)\n",
    "\n",
    "K = a4.generate(x)\n",
    "norm_K = normalizer(K, a4)\n",
    "print(norm_K, K)\n"
   ]
  },
  {
   "cell_type": "code",
   "execution_count": 3,
   "metadata": {},
   "outputs": [
    {
     "name": "stdout",
     "output_type": "stream",
     "text": [
      "{(1 2 3): Group({(1 3 4), (1 2 3), (1 4 2), (2 4 3)}), (1 2 4): Group({(1 3 2), (1 4 3), (2 3 4), (1 2 4)}), e: Group({(1 3)(2 4), e, (1 2)(3 4), (1 4)(2 3)})}\n",
      "{(1 2 3): Group({(1 3)(2 4), e}), (1 2 4): Group({e, (1 4)(2 3)}), e: Group({e, (1 2)(3 4)})}\n"
     ]
    }
   ],
   "source": [
    "print(find_cosets(norm_K, a4))\n",
    "#print(conjugacy_class(x, a4))\n",
    "print(conjugacy_class(K, a4))"
   ]
  },
  {
   "cell_type": "code",
   "execution_count": 4,
   "metadata": {},
   "outputs": [
    {
     "name": "stdout",
     "output_type": "stream",
     "text": [
      "Group({f, e}) Group({r4, r4 f, f, e})\n",
      "{r3: Group({r3 f, r3, r7 f, r7}), r2: Group({r2 f, r6 f, r2, r6}), r: Group({r f, r5, r5 f, r}), e: Group({r4, r4 f, f, e})}\n",
      "{r3: Group({r6 f, e}), r2: Group({r4 f, e}), r: Group({r2 f, e}), e: Group({f, e})}\n"
     ]
    }
   ],
   "source": [
    "D8 = get_group(\"dihedral 8\")\n",
    "H = D8.generate(\"f\")\n",
    "N_H = normalizer(H, D8)\n",
    "\n",
    "print(H, N_H)\n",
    "print(find_cosets(N_H, D8))\n",
    "print(conjugacy_class(H, D8))"
   ]
  },
  {
   "cell_type": "code",
   "execution_count": 119,
   "metadata": {},
   "outputs": [
    {
     "name": "stdout",
     "output_type": "stream",
     "text": [
      "Group()\n"
     ]
    },
    {
     "name": "stderr",
     "output_type": "stream",
     "text": [
      "36864it [02:00, 307.03it/s]"
     ]
    },
    {
     "name": "stdout",
     "output_type": "stream",
     "text": [
      "{frozenset({e}): Group({e}), frozenset({s, e}): Group({r24, r24 s, s, e}), frozenset({s2, e}): Group({r24, e}), frozenset({r, e}): Group({r6, r40, r3, r4, r18, r38, r10, r43, r20, r25, r46, r14, r34, e, r8, r29, r13, r42, r30, r39, r12, r44, r16, r33, r36, r17, r7, r37, r28, r27, r22, r32, r31, r2, r47, r23, r19, r35, r26, r, r11, r9, r24, r5, r15, r41, r45, r21}), frozenset({r s, e}): Group({r24, r s, r25 s, e}), frozenset({r2, e}): Group({r6, r40, r4, r18, r38, r10, r20, r46, r14, r34, r8, e, r42, r30, r12, r44, r16, r36, r32, r28, r22, r2, r26, r24}), frozenset({r2 s, e}): Group({r24, r2 s, e, r26 s}), frozenset({r3, e}): Group({r6, r42, r39, r12, r3, r33, r9, r24, r15, r45, r36, e, r18, r21, r30, r27}), frozenset({r3 s, e}): Group({r24, r3 s, r27 s, e}), frozenset({r4, e}): Group({r20, r12, r32, r40, r4, r16, r44, r24, r36, e, r8, r28}), frozenset({r4 s, e}): Group({r24, r28 s, r4 s, e}), frozenset({r5 s, e}): Group({e, r29 s, r24, r5 s}), frozenset({r6, e}): Group({r6, r42, r12, r24, r36, e, r18, r30}), frozenset({r6 s, e}): Group({r24, r30 s, r6 s, e}), frozenset({r7 s, e}): Group({r24, r7 s, r31 s, e}), frozenset({r8, e}): Group({r40, r16, r24, e, r8, r32}), frozenset({r8 s, e}): Group({r24, r8 s, r32 s, e}), frozenset({r8 s2, e}): Group({r16, r32, e}), frozenset({r9 s, e}): Group({r24, r9 s, r33 s, e}), frozenset({r10 s, e}): Group({e, r24, r34 s, r10 s}), frozenset({r11 s, e}): Group({r24, r35 s, r11 s, e}), frozenset({r12, e}): Group({r24, r36, r12, e}), frozenset({r12 s, e}): Group({r24, r12 s, r36 s, e}), frozenset({r13 s, e}): Group({r24, r13 s, e, r37 s}), frozenset({r14 s, e}): Group({r24, r14 s, r38 s, e}), frozenset({r15 s, e}): Group({r24, r15 s, e, r39 s}), frozenset({r16 s, e}): Group({r24, r16 s, r40 s, e}), frozenset({e, r17 s}): Group({r24, r41 s, e, r17 s}), frozenset({r18 s, e}): Group({r24, r18 s, e, r42 s}), frozenset({e, r19 s}): Group({r24, r43 s, e, r19 s}), frozenset({r20 s, e}): Group({r24, r20 s, r44 s, e}), frozenset({e, r21 s}): Group({r24, r45 s, e, r21 s}), frozenset({r22 s, e}): Group({r24, r46 s, r22 s, e}), frozenset({r23 s, e}): Group({r24, r47 s, e, r23 s}), frozenset({s, r}): Group({r29 s, r2 s, r33 s, r34, r13, r5 s, r12, r44, r36, r17, r40 s, r22, r46 s, r38 s, r43 s, r26, r9, r32 s, r36 s, r18 s, r6, s, r38, r10, r43, r20 s, r45 s, r6 s, r44 s, r14, r28 s, r19 s, r26 s, r3 s, r23 s, r7, r32, r31, r14 s, r35, r11, r45, r41, r12 s, r30 s, r11 s, r35 s, r41 s, r39 s, r21 s, r20, r25, r46, r15 s, e, r39, r16, r22 s, r33, r13 s, r37, r28, r27, r47, r4 s, r17 s, r9 s, r s, r16 s, r40, r3, r4, r18, r7 s, r31 s, r47 s, r8 s, r8, r29, r42, r30, r37 s, r10 s, r27 s, r2, r25 s, r23, r19, r34 s, r, r42 s, r24, r5, r15, r21, r24 s}), frozenset({s, r2}): Group({r18 s, r6, r16 s, r40, r4, r2 s, s, r18, r38, r10, r20 s, r20, r8 s, r46, r6 s, r44 s, r14, r30 s, e, r42, r8, r28 s, r34, r30, r12, r44, r16, r22 s, r26 s, r36, r28, r40 s, r22, r32, r10 s, r14 s, r2, r46 s, r38 s, r26, r34 s, r42 s, r24, r32 s, r4 s, r12 s, r24 s, r36 s}), frozenset({s, r3}): Group({r18 s, r6, s, r3, r39 s, r18, r33 s, r21 s, r45 s, r6 s, r15 s, r30 s, e, r42, r30, r9 s, r39, r12, r33, r3 s, r36, r27, r27 s, r42 s, r24, r45, r9, r15, r21, r12 s, r24 s, r36 s}), frozenset({s, r4}): Group({r16 s, r40, s, r4, r20 s, r20, r8 s, r44 s, r8, e, r28 s, r12, r44, r16, r36, r32, r28, r40 s, r24, r32 s, r4 s, r12 s, r24 s, r36 s}), frozenset({r6, s}): Group({r18 s, r6, r12, s, r6 s, r42 s, r24, r36, r30 s, r18, r42, e, r12 s, r24 s, r36 s, r30}), frozenset({s, r8}): Group({r16 s, r8 s, r32, r40, s, r16, r24, r32 s, e, r8, r24 s, r40 s}), frozenset({s, r12}): Group({r12, s, r24, r36, e, r12 s, r24 s, r36 s}), frozenset({r s, r2}): Group({r29 s, r6, r40, r4, r41 s, r35 s, r39 s, r18, r38, r10, r7 s, r31 s, r33 s, r21 s, r20, r47 s, r45 s, r46, r15 s, r14, r34, r8, e, r42, r30, r5 s, r37 s, r12, r19 s, r44, r16, r3 s, r36, r23 s, r13 s, r28, r32, r22, r27 s, r2, r25 s, r43 s, r26, r24, r17 s, r9 s, r s, r11 s}), frozenset({r3, r s}): Group({r6, r16 s, r3, r18, r7 s, r31 s, e, r42, r28 s, r30, r37 s, r39, r12, r19 s, r22 s, r33, r36, r13 s, r40 s, r27, r10 s, r25 s, r46 s, r43 s, r34 s, r24, r9, r15, r45, r4 s, r21, r s}), frozenset({r4, r s}): Group({r29 s, r40, r41 s, r4, r33 s, r21 s, r20, r45 s, r8, e, r5 s, r37 s, r12, r44, r16, r36, r13 s, r32, r28, r25 s, r24, r17 s, r9 s, r s}), frozenset({r6, r s}): Group({r42, r6, r12, r25 s, r19 s, r43 s, r24, r s, r36, r31 s, r18, e, r13 s, r7 s, r30, r37 s}), frozenset({r s, r8}): Group({r33 s, r25 s, r40, r41 s, r16, r24, e, r17 s, r8, r9 s, r s, r32}), frozenset({r s, r12}): Group({r25 s, r12, r24, r36, e, r13 s, r s, r37 s}), frozenset({r3, r2 s}): Group({r29 s, r6, r35 s, r41 s, r2 s, r3, r18, r20 s, r47 s, r8 s, r44 s, e, r42, r30, r5 s, r39, r12, r33, r26 s, r36, r23 s, r27, r14 s, r38 s, r24, r9, r45, r15, r32 s, r21, r17 s, r11 s}), frozenset({r4, r2 s}): Group({r18 s, r40, r4, r2 s, r20, r6 s, r8, e, r12, r44, r16, r22 s, r26 s, r36, r32, r28, r10 s, r14 s, r46 s, r38 s, r34 s, r42 s, r24, r30 s}), frozenset({r6, r2 s}): Group({r6, r14 s, r8 s, r12, r38 s, r2 s, r44 s, r24, r26 s, r36, r32 s, r18, r42, e, r20 s, r30}), frozenset({r2 s, r8}): Group({r18 s, r40, r16, r34 s, r2 s, r42 s, r24, r26 s, r8, e, r32, r10 s}), frozenset({r2 s, r12}): Group({r14 s, r12, r38 s, r2 s, r24, r26 s, r36, e}), frozenset({r3 s, r4}): Group({r35 s, r4, r40, r39 s, r31 s, r7 s, r20, r47 s, r15 s, r8, e, r12, r19 s, r44, r16, r3 s, r36, r23 s, r32, r28, r27 s, r43 s, r24, r11 s}), frozenset({r3 s, r6}): Group({r27 s, r6, r21 s, r12, r45 s, r39 s, r24, r3 s, r15 s, r36, r18, r42, e, r9 s, r33 s, r30}), frozenset({r3 s, r8}): Group({r27 s, r19 s, r32, r43 s, r35 s, r16, r40, r24, r3 s, e, r8, r11 s}), frozenset({r3 s, r12}): Group({r27 s, r12, r39 s, r24, r3 s, r15 s, r36, e}), frozenset({r6, r4 s}): Group({r16 s, r6, r12, r46 s, r34 s, r22 s, r24, r36, r4 s, r18, r42, e, r28 s, r40 s, r10 s, r30}), frozenset({r4 s, r8}): Group({r40, r16, r44 s, r24, r28 s, r4 s, e, r8, r12 s, r20 s, r36 s, r32}), frozenset({r12, r4 s}): Group({r16 s, r12, r24, r36, r4 s, e, r28 s, r40 s}), frozenset({r6, r5 s}): Group({r29 s, r42, r47 s, r6, r12, r35 s, r41 s, r24, r36, r18, r17 s, r23 s, e, r11 s, r5 s, r30}), frozenset({r8, r5 s}): Group({r29 s, r45 s, r37 s, r40, r16, r24, r8, e, r13 s, r32, r5 s, r21 s}), frozenset({r12, r5 s}): Group({r29 s, r12, r41 s, r24, r36, e, r17 s, r5 s}), frozenset({r6 s, r8}): Group({r14 s, r46 s, r38 s, r40, r16, r22 s, r6 s, r24, r8, e, r30 s, r32}), frozenset({r12, r6 s}): Group({r18 s, r12, r6 s, r42 s, r24, r36, e, r30 s}), frozenset({r7 s, r8}): Group({r47 s, r7 s, r40, r16, r39 s, r24, r15 s, e, r8, r23 s, r31 s, r32}), frozenset({r7 s, r12}): Group({r12, r19 s, r43 s, r24, r36, r31 s, e, r7 s}), frozenset({r8 s, r12}): Group({r8 s, r12, r44 s, r24, r32 s, r36, e, r20 s}), frozenset({r9 s, r12}): Group({r12, r45 s, r24, r36, e, r9 s, r33 s, r21 s}), frozenset({r12, r10 s}): Group({r12, r46 s, r34 s, r22 s, r24, r36, e, r10 s}), frozenset({r12, r11 s}): Group({r47 s, r12, r35 s, r24, r36, e, r23 s, r11 s})}\n"
     ]
    },
    {
     "name": "stderr",
     "output_type": "stream",
     "text": [
      "\n"
     ]
    }
   ],
   "source": [
    "q8 = get_group(\"dic 48\")\n",
    "print(q8)\n",
    "subgroups = find_subgroups(q8)\n",
    "print(subgroups)"
   ]
  },
  {
   "cell_type": "code",
   "execution_count": 120,
   "metadata": {},
   "outputs": [
    {
     "data": {
      "text/plain": [
       "70"
      ]
     },
     "execution_count": 120,
     "metadata": {},
     "output_type": "execute_result"
    }
   ],
   "source": [
    "len(subgroups)"
   ]
  },
  {
   "cell_type": "code",
   "execution_count": 63,
   "metadata": {},
   "outputs": [
    {
     "name": "stdout",
     "output_type": "stream",
     "text": [
      "r7 s\n",
      "r4\n",
      "r3 s\n"
     ]
    }
   ],
   "source": [
    "print(q8.evaluate(\"s r\"))\n",
    "print(q8.evaluate(\"s2\"))\n",
    "print(q8.evaluate(\"r3 s\"))"
   ]
  },
  {
   "cell_type": "code",
   "execution_count": 64,
   "metadata": {},
   "outputs": [
    {
     "data": {
      "text/plain": [
       "{e, r3 s, r4, r7 s}"
      ]
     },
     "execution_count": 64,
     "metadata": {},
     "output_type": "execute_result"
    }
   ],
   "source": [
    "q8.generate(\"r3 s\")"
   ]
  },
  {
   "cell_type": "code",
   "execution_count": 6,
   "metadata": {},
   "outputs": [
    {
     "name": "stdout",
     "output_type": "stream",
     "text": [
      "{e: Group({f, e}), r: Group({r2 f, e})}\n"
     ]
    },
    {
     "data": {
      "text/plain": [
       "{e, r f}"
      ]
     },
     "execution_count": 6,
     "metadata": {},
     "output_type": "execute_result"
    }
   ],
   "source": [
    "d4 = get_group(\"d4\")\n",
    "print(conjugacy_class(d4.generate(\"f\"), d4))\n",
    "d4.generate(\"r f\")"
   ]
  },
  {
   "cell_type": "code",
   "execution_count": 108,
   "metadata": {},
   "outputs": [
    {
     "name": "stderr",
     "output_type": "stream",
     "text": [
      "100%|██████████████████████████████████████████████████████████████████████████████████████████████████████████████████████████████████████████████████████████████████████████████████████████████████████| 16/16 [00:00<00:00, 223.92it/s]"
     ]
    },
    {
     "name": "stdout",
     "output_type": "stream",
     "text": [
      "adding new gcd entry r0 s3 (16) -> Group({s, e})\n",
      "adding new gcd entry r1 s3 (1) -> Group({e, r9 s, r s, r8})\n",
      "adding new gcd entry r2 s3 (2) -> Group({r2 s, e})\n",
      "r3 s3 -> Group({e, r3 s, r11 s, r8}) failed to match its gcd, and didn't match anyone else\n",
      "adding new gcd entry r4 s3 (4) -> Group({r4 s, e})\n",
      "r5 s3 -> Group({r13 s, r5 s, r8, e}) failed to match its gcd, and didn't match anyone else\n",
      "r6 s3 -> Group({r6 s, e}) failed to match its gcd, and didn't match anyone else\n",
      "r7 s3 -> Group({e, r15 s, r7 s, r8}) failed to match its gcd, and didn't match anyone else\n",
      "adding new gcd entry r8 s3 (8) -> Group({r8 s, e})\n",
      "r9 s3 -> Group({e, r9 s, r s, r8}) matched its gcd pair\n",
      "r10 s3 -> Group({r10 s, e}) failed to match its gcd, and didn't match anyone else\n",
      "r11 s3 -> Group({e, r3 s, r11 s, r8}) instead matched r3 s -> Group({e, r3 s, r11 s, r8})\n",
      "r12 s3 -> Group({r12 s, e}) failed to match its gcd, and didn't match anyone else\n",
      "r13 s3 -> Group({r5 s, r13 s, r8, e}) instead matched r5 s -> Group({r13 s, r5 s, r8, e})\n",
      "r14 s3 -> Group({r14 s, e}) failed to match its gcd, and didn't match anyone else\n",
      "r15 s3 -> Group({e, r15 s, r7 s, r8}) instead matched r7 s -> Group({e, r15 s, r7 s, r8})\n"
     ]
    },
    {
     "name": "stderr",
     "output_type": "stream",
     "text": [
      "\n"
     ]
    }
   ],
   "source": [
    "def check(new_elem, gcd_elem, dict_type, gen, full):\n",
    "    if gcd_elem in dict_type:\n",
    "        if new_elem != dict_type[gcd_elem]:\n",
    "            for other_generator, other in full.items():\n",
    "                if new_elem == other:\n",
    "                    print(f\"{gen} -> {new_elem} instead matched {other_generator} -> {other}\")\n",
    "                    break\n",
    "            else:\n",
    "                print(f\"{gen} -> {new_elem} failed to match its gcd, and didn't match anyone else\")\n",
    "        else:\n",
    "            print(f\"{gen} -> {new_elem} matched its gcd pair\")\n",
    "    else:\n",
    "        print(f\"adding new gcd entry {gen} ({gcd_elem}) -> {new_elem}\")\n",
    "        dict_type[gcd_elem] = new_elem\n",
    "\n",
    "def theory_check(gr, N):\n",
    "    generated_no_s={}\n",
    "    generated_single_s={}\n",
    "    generated_double_s={}\n",
    "    generated_triple_s={}\n",
    "\n",
    "    generated_combined_single_s={}\n",
    "    generated_combined_double_s={}\n",
    "    generated_combined_triple_s={}\n",
    "    full_generated = {}\n",
    "\n",
    "    for exponent in tqdm(range(0,N)):\n",
    "        #print(exponent)\n",
    "        gcd = math.gcd(exponent, N)\n",
    "        no_s = gr.generate(f\"r{exponent}\")\n",
    "        # full_generated[f\"r{exponent}\"] = no_s\n",
    "        # #print(\"no\")\n",
    "        single_s = gr.generate(f\"r{exponent}\", \"s\")\n",
    "        # full_generated[(f\"r{exponent}\", \"s\")] = single_s\n",
    "\n",
    "        #print(\"single\")\n",
    "        double_s = gr.generate(f\"r{exponent}\", \"s2\")\n",
    "        # full_generated[(f\"r{exponent}\", \"s2\")] = double_s\n",
    "\n",
    "        #print(\"double\")\n",
    "        triple_s = gr.generate(f\"r{exponent}\", \"s3\")\n",
    "        # full_generated[(f\"r{exponent}\", \"s3\")] = triple_s\n",
    "\n",
    "        #print(\"triple\")\n",
    "\n",
    "\n",
    "        combined_single_s = gr.generate(f\"r{exponent} s\")\n",
    "        # full_generated[(f\"r{exponent} s\")] = combined_single_s\n",
    "\n",
    "        #print(\"combined\")\n",
    "        combined_double_s = gr.generate(f\"r{exponent} s2\")\n",
    "        # full_generated[(f\"r{exponent} s2\")] = combined_double_s\n",
    "\n",
    "        #print(\"combined double\")\n",
    "        combined_triple_s = gr.generate(f\"r{exponent} s3\")\n",
    "        # full_generated[(f\"r{exponent} s3\")] = combined_triple_s\n",
    "\n",
    "        #print(\"combined triple\")\n",
    "        \n",
    "\n",
    "\n",
    "        # check(no_s, gcd, generated_no_s, f\"r{exponent}\", full_generated)\n",
    "        # check(single_s, gcd, generated_single_s, (f\"r{exponent}\", \"s\"), full_generated)\n",
    "        # check(double_s, gcd, generated_double_s, (f\"r{exponent}\", \"s2\"), full_generated)\n",
    "        # check(triple_s, gcd, generated_triple_s, (f\"r{exponent}\", \"s3\"), full_generated)\n",
    "\n",
    "        # check(combined_single_s, gcd, generated_combined_single_s, f\"r{exponent} s\", full_generated) # problematic\n",
    "        # check(combined_double_s, gcd, generated_combined_double_s, f\"r{exponent} s2\", full_generated)\n",
    "        check(combined_triple_s, gcd, generated_combined_triple_s, f\"r{exponent} s3\", full_generated) # problematic\n",
    "\n",
    "        full_generated[f\"r{exponent}\"] = no_s\n",
    "        full_generated[(f\"r{exponent}\", \"s\")] = single_s\n",
    "        full_generated[(f\"r{exponent}\", \"s2\")] = double_s\n",
    "        full_generated[(f\"r{exponent}\", \"s3\")] = triple_s\n",
    "        full_generated[(f\"r{exponent} s\")] = combined_single_s\n",
    "        full_generated[(f\"r{exponent} s2\")] = combined_double_s\n",
    "        full_generated[(f\"r{exponent} s3\")] = combined_triple_s\n",
    "theory_check(get_group(\"sd 16\"), 16)  # => maybe some optimizations could be made, but most likely check everything"
   ]
  },
  {
   "cell_type": "code",
   "execution_count": 46,
   "metadata": {},
   "outputs": [
    {
     "name": "stdout",
     "output_type": "stream",
     "text": [
      "r17 s\n",
      "r19 s\n",
      "r56 s\n",
      "r30 s\n",
      "r69 s\n",
      "r35 s\n"
     ]
    }
   ],
   "source": [
    "dic_72 = get_group(f\"dicyclic 72\")\n",
    "print(dic_72.evaluate(\"r2 s3 r4 s5 r6 s7 r8 s9 r10 s-1 r24 s-50 r1 s2\"))\n",
    "print(dic_72.evaluate(\"s3 r17\"))\n",
    "print(dic_72.evaluate(\"s r16\"))\n",
    "print(dic_72.evaluate(\"s r42\"))\n",
    "print(dic_72.evaluate(\"s r3\"))\n",
    "print(dic_72.evaluate(\"s r37\"))\n"
   ]
  },
  {
   "cell_type": "code",
   "execution_count": 54,
   "metadata": {},
   "outputs": [
    {
     "name": "stdout",
     "output_type": "stream",
     "text": [
      "r17 s\n",
      "r19 s\n",
      "r56 s\n",
      "r30 s\n",
      "r69 s\n",
      "r35 s\n"
     ]
    }
   ],
   "source": [
    "dic_72 = get_group(f\"dicyclic 72\")\n",
    "print(dic_72.evaluate(\"r2 s3 r4 s5 r6 s7 r8 s9 r10 s-1 r24 s-50 r1 s2\"))\n",
    "print(dic_72.evaluate(\"s3 r17\"))\n",
    "print(dic_72.evaluate(\"s r16\"))\n",
    "print(dic_72.evaluate(\"s r42\"))\n",
    "print(dic_72.evaluate(\"s r3\"))\n",
    "print(dic_72.evaluate(\"s r37\"))\n"
   ]
  },
  {
   "cell_type": "code",
   "execution_count": null,
   "metadata": {},
   "outputs": [],
   "source": [
    "\n"
   ]
  }
 ],
 "metadata": {
  "kernelspec": {
   "display_name": "Python 3 (ipykernel)",
   "language": "python",
   "name": "python3"
  },
  "language_info": {
   "codemirror_mode": {
    "name": "ipython",
    "version": 3
   },
   "file_extension": ".py",
   "mimetype": "text/x-python",
   "name": "python",
   "nbconvert_exporter": "python",
   "pygments_lexer": "ipython3",
   "version": "3.10.10"
  },
  "orig_nbformat": 4
 },
 "nbformat": 4,
 "nbformat_minor": 2
}
