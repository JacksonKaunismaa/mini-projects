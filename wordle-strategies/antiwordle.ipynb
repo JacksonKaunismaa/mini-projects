{
 "cells": [
  {
   "cell_type": "code",
   "execution_count": 1,
   "id": "54b4c5e9-96d3-4027-a546-bfdeebe6d2ac",
   "metadata": {},
   "outputs": [],
   "source": [
    "import numpy as np\n",
    "import random\n",
    "import string\n",
    "from tqdm import tqdm\n",
    "import time\n",
    "import matplotlib.pyplot as plt\n",
    "import pickle\n",
    "from collections import defaultdict, Counter"
   ]
  },
  {
   "cell_type": "code",
   "execution_count": 74,
   "id": "5880e641-77e3-4a4c-aa2e-30308387719b",
   "metadata": {},
   "outputs": [],
   "source": [
    "# with open(\"allowed_words.txt\", \"r\") as f:\n",
    "#     allowed_words = f.read().split(\"\\n\")\n",
    "# build dicts all around this, so that we can iterate with our prior, and its still efficient\n",
    "%store -r word_priority  \n",
    "allowed_words = word_priority  # yes i know this is horrible practice, because its almost completely unreplicatable (?) but whatever\n",
    "\n",
    "with open(\"answer_words.txt\", \"r\") as f:\n",
    "    answer_words = f.read().split(\"\\n\")"
   ]
  },
  {
   "cell_type": "code",
   "execution_count": 76,
   "id": "1affd47d-01f0-4624-9ebf-248e1fa89204",
   "metadata": {},
   "outputs": [
    {
     "name": "stderr",
     "output_type": "stream",
     "text": [
      "100%|████████████████████████████████████████████████████████████████████████████████████| 26/26 [00:03<00:00,  6.85it/s]\n"
     ]
    }
   ],
   "source": [
    "# pre-processing step\n",
    "word_size, np_type = 8, np.uint8\n",
    "words_len = len(allowed_words[0])\n",
    "bit_masks = [1 << shift for shift in range(word_size)]\n",
    "\n",
    "# for masked/packed mode of addressing (each word has its own bit within some element of the array) => 2 indices needed\n",
    "batched_word_to_idx = {word:(i//word_size,1<<(i%word_size)) for i,word in enumerate(allowed_words)}\n",
    "batched_idx_to_word = {i:word for word,i in batched_word_to_idx.items()}\n",
    "batched_arr_size = int(np.ceil(len(allowed_words)/word_size))\n",
    "\n",
    "# for index-based addressing (each word has its own element in the array) => 1 index needed\n",
    "word_to_idx = {word:i for i,word in enumerate(allowed_words)}\n",
    "idx_to_word = {i:word for word,i in word_to_idx.items()}\n",
    "arr_size = len(allowed_words)\n",
    "\n",
    "# num letters\n",
    "num_letters = {word: Counter(word) for word in allowed_words}\n",
    "max_num_letters = max(max(num_letters.items(), key=lambda x: max(x[1].values()))[1].values()) # => should be 3, but we just use words_len everywhere anyway (simplicity)\n",
    "\n",
    "# mask, where we pack many booleans into 1 element of the array\n",
    "batched_pos_let_to_words = [{} for _ in range(words_len)]  # map pos,let -> set of words with let in position pos\n",
    "batched_greater_let_to_words = [{} for _ in range(words_len)]  # map num,let -> words with >=num occurences of let\n",
    "batched_less_let_to_words = [{} for _ in range(words_len)]  # map num,let -> words with <=num occurences of let\n",
    "\n",
    "# indices\n",
    "pos_let_to_words = [{} for _ in range(words_len)]  # map pos,let -> set of words WITHOUT let in position pos\n",
    "greater_let_to_words = [{} for _ in range(words_len)]  # map num,let -> words with >num occurences of let\n",
    "less_let_to_words = [{} for _ in range(words_len)]  # map num,let -> words with <=num occurences of let\n",
    "\n",
    "for let in tqdm(string.ascii_lowercase):\n",
    "    for num in range(words_len):  # -> should be named pos or amt or num\n",
    "        arr_pos = np.zeros(batched_arr_size).astype(np_type)\n",
    "        arr_greater = np.zeros(batched_arr_size).astype(np_type)\n",
    "        arr_less = np.zeros(batched_arr_size).astype(np_type)\n",
    "\n",
    "        pos_words_list = []\n",
    "        greater_words_list = []\n",
    "        less_words_list = []\n",
    "        for word, idx in batched_word_to_idx.items():\n",
    "            if word[num] == let:\n",
    "                arr_pos[idx[0]] |= idx[1]\n",
    "            else:\n",
    "                pos_words_list.append(word_to_idx[word])\n",
    "\n",
    "            if num_letters[word][let] > num:\n",
    "                arr_greater[idx[0]] |= idx[1]\n",
    "                greater_words_list.append(word_to_idx[word])\n",
    "            else:\n",
    "                arr_less[idx[0]] |= idx[1]\n",
    "                less_words_list.append(word_to_idx[word])\n",
    "        batched_pos_let_to_words[num][let] = arr_pos\n",
    "        pos_let_to_words[num][let] = np.array(pos_words_list)\n",
    "\n",
    "        batched_greater_let_to_words[num][let] = arr_greater\n",
    "        greater_let_to_words[num][let] = np.array(greater_words_list)\n",
    "\n",
    "        batched_less_let_to_words[num][let] = arr_less\n",
    "        less_let_to_words[num][let] = np.array(less_words_list)"
   ]
  },
  {
   "cell_type": "code",
   "execution_count": 4,
   "id": "9e4a3a72-eb51-4f20-a781-5e0006442b77",
   "metadata": {},
   "outputs": [],
   "source": [
    "class Profiler():\n",
    "    def __init__(self, gamma=0.99):\n",
    "        self.prev_time = 0\n",
    "        self.gamma = gamma\n",
    "        self.stats = {}  # tracks ewma running average\n",
    "        self.profile = True\n",
    "        self.verbose = False\n",
    "\n",
    "    def benchmark(self, point=None): # not thread safe at all\n",
    "        if not self.profile:\n",
    "            return\n",
    "        if point is not None:\n",
    "            time_taken = time.perf_counter() - self.prev_time\n",
    "            if point not in self.stats:\n",
    "                self.stats[point] = [time_taken, 0]  # avg_time, num_times\n",
    "            self.stats[point][1] += 1\n",
    "            self.stats[point][0] = self.stats[point][0]*self.gamma + time_taken*(1-self.gamma)\n",
    "            if self.verbose:\n",
    "                print(f\"took {time_taken} to reach {point}, ewma={self.stats[point]}\")\n",
    "        self.prev_time = time.perf_counter()\n",
    "\n",
    "    def __repr__(self):\n",
    "        sum_avgs = sum([x[0] for x in self.stats.values()])\n",
    "        sum_time = sum([x[0]*x[1] for x in self.stats.values()])\n",
    "        ret_str = \"point\\tpct_avg\\tpct_cumulative\"\n",
    "        for point,stat in self.stats.items():\n",
    "            ret_str += f\"\\n{point}\\t{stat[0]/sum_avgs*100.:.3f}%\\t{stat[0]*stat[1]/sum_time*100.:.3f}%\"\n",
    "        return ret_str\n",
    "g_profiler = Profiler()\n",
    "g_profiler.profile = False"
   ]
  },
  {
   "cell_type": "code",
   "execution_count": 5,
   "id": "6d89a29e-4a95-40bc-88b7-4cce6b1e27f5",
   "metadata": {},
   "outputs": [],
   "source": [
    "# some slow helper functions\n",
    "def bit_count(arr):\n",
    "    return arr.bit_count()\n",
    "\n",
    "def bitwise_not(arr):\n",
    "    return ~arr\n",
    "\n",
    "vectorized_count = np.vectorize(bit_count)\n",
    "vectorized_not = np.vectorize(bitwise_not)"
   ]
  },
  {
   "cell_type": "code",
   "execution_count": 77,
   "id": "6f0c4030-e094-4e88-8aca-bc2173659797",
   "metadata": {},
   "outputs": [],
   "source": [
    "class FastWordList():\n",
    "    def __init__(self, batched=False):\n",
    "        self.batched = batched\n",
    "        self.offset = 0 # could set this to like 6, but would only give innaccurate counts for the first call of len \n",
    "        self.reset()  # since any step of update_list would zero out those 6 extra fake bits\n",
    "\n",
    "    def reset(self):\n",
    "        if self.batched:\n",
    "            self.remaining_words = vectorized_not(np.zeros(batched_arr_size).astype(np_type))\n",
    "        else:\n",
    "            self.remaining_words = np.ones(arr_size).astype(np_type)\n",
    "\n",
    "    def restore_state(self, prev_remaining):\n",
    "        self.remaining_words = prev_remaining.copy()\n",
    "\n",
    "    def copy(self):\n",
    "        return self.remaining_words.copy()\n",
    "\n",
    "    def remove(self, word):\n",
    "        bucket,bit_mask = batched_word_to_idx[word]\n",
    "        self.remaining_words[bucket] &= ~bit_mask\n",
    "\n",
    "    def update_list(self, green_letters, lower_bounds, upper_bounds, guess_word, curr_round):\n",
    "        # want to do the updates that remove the most first\n",
    "        g_profiler.benchmark()\n",
    "        #print(green_letters, lower_bounds, upper_bounds)\n",
    "        self.remove(guess_word)  # if all letters in guess were green/yellow, it wouldnt be removed otherwise (agrees with official implementation)\n",
    "        if green_letters:\n",
    "            for let,pos in green_letters:\n",
    "                if self.batched:\n",
    "                    self.remaining_words &= batched_pos_let_to_words[pos][let]\n",
    "                else:\n",
    "                    self.remaining_words[pos_let_to_words[pos][let]] = 0  # remove words that dont have let in position pos\n",
    "        g_profiler.benchmark(f\"green_letters_{curr_round}\")\n",
    "        if lower_bounds:\n",
    "            for let,num in lower_bounds.items():  # => we have > num occurences of \"let\"\n",
    "                if num == -1:\n",
    "                    continue\n",
    "                if self.batched:\n",
    "                    self.remaining_words &= batched_greater_let_to_words[num][let]\n",
    "                else:\n",
    "                    self.remaining_words[less_let_to_words[num][let]] = 0  # rm words that have <= num occurences of let\n",
    "        g_profiler.benchmark(f\"lower_bounds_{curr_round}\")\n",
    "        if upper_bounds:  # generalization of grey letters so should be last\n",
    "            for let,num in upper_bounds.items():  # => we have <= num occurences of \"let \" (including 0)\n",
    "                if self.batched:\n",
    "                    self.remaining_words &= batched_less_let_to_words[num][let]\n",
    "                else:\n",
    "                    self.remaining_words[greater_let_to_words[num][let]] = 0  # remove all words that > num occurences of let\n",
    "        g_profiler.benchmark(f\"upper_bounds_{curr_round}\")\n",
    "\n",
    "    def __contains__(self, word):\n",
    "        if self.batched:\n",
    "            bucket,bit_mask = batched_word_to_idx[word]\n",
    "            return self.remaining_words[bucket] & bit_mask\n",
    "        else:\n",
    "            idx = word_to_idx[word]\n",
    "            return self.remaining_words[idx]\n",
    "        \n",
    "    def iter_words(self, sparse=True):  # should be faster in cases where remaining_words is sparse, slower else\n",
    "        if sparse:  # let client estimate whether or not things are sparse right now\n",
    "            check_these = np.nonzero(self.remaining_words)[0]\n",
    "            if self.batched:\n",
    "                for value in check_these:\n",
    "                    for bit_mask in bit_masks:\n",
    "                        if value & bit_mask:\n",
    "                            yield batched_idx_to_word[(value,bit_mask)]\n",
    "            else:\n",
    "                for value in check_these:\n",
    "                    yield idx_to_word[value]\n",
    "        else:\n",
    "            for word in allowed_words:\n",
    "                if word in self:\n",
    "                    yield word\n",
    "\n",
    "    def all_words(self):\n",
    "        word_list = []\n",
    "        for word in allowed_words:\n",
    "            if word in self:\n",
    "                word_list.append(word)\n",
    "        return word_list\n",
    "\n",
    "    def __len__(self):\n",
    "        if self.batched:\n",
    "            return vectorized_count(self.remaining_words).sum()\n",
    "        else:\n",
    "            return self.remaining_words.sum()"
   ]
  },
  {
   "cell_type": "code",
   "execution_count": 95,
   "id": "37ed972c-b019-4bbe-875f-93a78ab4daf1",
   "metadata": {},
   "outputs": [
    {
     "name": "stdout",
     "output_type": "stream",
     "text": [
      "['bombo', 'kibbi', 'oxbow', 'zimbi', 'babka', 'abaka', 'abaca', 'bacca', 'combo', 'coomb', 'kabab', 'mamba', 'bizzo', 'dabba', 'bajan', 'bindi', 'ebbed', 'jibba', 'jembe', 'nimbi', 'bibbs', 'xebec', 'jibbs', 'zebec', 'aback'] 674\n",
      "False\n",
      "['bombo', 'kibbi', 'oxbow', 'zimbi', 'babka', 'abaka', 'abaca', 'bacca', 'combo', 'coomb', 'kabab', 'mamba', 'bizzo', 'dabba', 'bajan', 'bindi', 'ebbed', 'jibba', 'jembe', 'nimbi', 'bibbs', 'xebec', 'jibbs', 'zebec', 'aback'] 674\n",
      "False\n"
     ]
    }
   ],
   "source": [
    "aw_batched = AntiWordle(batched=False)\n",
    "aw_batched.answer = \"aback\"\n",
    "aw_batched.play_word(\"gyppy\")\n",
    "aw_batched.play_word(\"bluff\")\n",
    "words_left = aw_batched.remaining_words.all_words()\n",
    "print(words_left[:min(25,len(words_left))], len(words_left))\n",
    "print(\"ayaya\" in aw_batched.remaining_words)\n",
    "words_left_other = list(aw_batched.remaining_words.iter_words())\n",
    "print(words_left_other[:min(25,len(words_left_other))], len(words_left_other))\n",
    "print(\"ayaya\" in words_left_other)\n"
   ]
  },
  {
   "cell_type": "code",
   "execution_count": 42,
   "id": "d4197d47-5db4-44c5-9dc0-a9634b1d7e58",
   "metadata": {},
   "outputs": [
    {
     "name": "stdout",
     "output_type": "stream",
     "text": [
      "adding entry to lower bounds a 1\n",
      "adding entry to upper bounds a 2\n",
      "[('a', 0), ('b', 1), ('a', 2), ('c', 3)] defaultdict(<function AntiWordle.update_constraints.<locals>.<lambda> at 0x7fa8f22b7010>, {'a': 1, 'b': 0, 'c': 0}) defaultdict(<function AntiWordle.update_constraints.<locals>.<lambda> at 0x7fa8f32600d0>, {'a': 2})\n",
      "['aback', 'abaci', 'abacs']\n",
      "3\n",
      "3\n"
     ]
    }
   ],
   "source": [
    "aw_batched = AntiWordle(batched=False)\n",
    "aw_batched.answer = \"aback\"\n",
    "for i,elem in enumerate(batched_pos_let_to_words[2][\"a\"]):\n",
    "    for shift in range(8):\n",
    "        if elem & (1<<shift):\n",
    "            assert batched_idx_to_word[(i,1<<shift)][2] == \"a\"\n",
    "for word in allowed_words:\n",
    "    if word[0] == \"a\":\n",
    "        w_idx = batched_word_to_idx[word]\n",
    "        if not (batched_pos_let_to_words[0][\"a\"][w_idx[0]] & w_idx[1]):\n",
    "            print(word)\n",
    "            break   # => no prints means batched_pos_let_to_words is accurate\n",
    "\n",
    "# print(aw_batched.remaining_words.all_words())\n",
    "aw_batched.play_word(\"abaca\")\n",
    "print(aw_batched.remaining_words.all_words())   # => should print ['aback'] only\n",
    "print(len(aw_batched.remaining_words))\n",
    "aw_batched.play_word(\"abase\") # => should lock in the fact that our next guess needs to start with 'aba'\n",
    "print(len(aw_batched.remaining_words))  # => should be 8\n",
    "# for i,elem in enumerate(aw_batched.remaining_words.remaining_words):\n",
    "#     for shift in range(8):\n",
    "#         if elem & (1<<shift):\n",
    "#             print(batched_idx_to_word[(i,1<<shift)])\n",
    "\n",
    "# print(aw_batched.remaining_words.all_words())\n",
    "# print(\"abase\" in aw_batched.remaining_words)  # => should be False\n",
    "# aw_batched.play_word(\"abaka\")\n",
    "# print(len(aw_batched.remaining_words))\n",
    "# print(aw_batched.remaining_words.all_words())"
   ]
  },
  {
   "cell_type": "code",
   "execution_count": 48,
   "id": "c5ba5a1b-aab8-4ce9-b939-91768d95b6b3",
   "metadata": {},
   "outputs": [
    {
     "name": "stdout",
     "output_type": "stream",
     "text": [
      "Counter({'a': 2, 'b': 1, 'c': 1, 'k': 1})\n",
      "12976\n",
      "checking in answer_count >= count a\n",
      "checking in answer_count >= count b\n",
      "checking in answer_count < count h\n",
      "checking in answer_count < count o\n",
      "checking in answer_count < count r\n",
      "[('a', 0), ('b', 1)] defaultdict(<function AntiWordle.update_constraints.<locals>.<lambda> at 0x7f56d63d9cf0>, {'a': 0, 'b': 0, 'h': -1, 'o': -1, 'r': -1}) defaultdict(<function AntiWordle.update_constraints.<locals>.<lambda> at 0x7f56d712a4d0>, {'h': 0, 'o': 0, 'r': 0})\n",
      "35\n",
      "['aback', 'abase', 'abate', 'abbey', 'abide', 'abled', 'abuse', 'abyss', 'abaca', 'abaci', 'abacs', 'abaft', 'abaka', 'abamp', 'aband', 'abask', 'abaya', 'abbas', 'abbed', 'abbes', 'abcee', 'abeam', 'abele', 'abets', 'abies', 'ables', 'ablet', 'absey', 'absit', 'abuna', 'abune', 'abuts', 'abuzz', 'abyes', 'abysm']\n",
      "checking in answer_count < count a\n",
      "checking in answer_count >= count b\n",
      "checking in answer_count < count a\n",
      "checking in answer_count >= count k\n",
      "checking in answer_count < count a\n",
      "[('a', 2)] defaultdict(<function AntiWordle.update_constraints.<locals>.<lambda> at 0x7f56d63daf80>, {'a': 1, 'k': 0}) defaultdict(<function AntiWordle.update_constraints.<locals>.<lambda> at 0x7f56d63db9a0>, {'a': 2})\n",
      "['aback', 'abask']\n"
     ]
    }
   ],
   "source": [
    "aw_batched = AntiWordle(batched=True)\n",
    "aw_batched.answer = \"aback\"\n",
    "for i,elem in enumerate(batched_pos_let_to_words[2][\"a\"]):\n",
    "    for shift in range(8):\n",
    "        if elem & (1<<shift):\n",
    "            assert batched_idx_to_word[(i,1<<shift)][2] == \"a\"\n",
    "for word in allowed_words:\n",
    "    if word[0] == \"a\":\n",
    "        w_idx = batched_word_to_idx[word]\n",
    "        if not (batched_pos_let_to_words[0][\"a\"][w_idx[0]] & w_idx[1]):\n",
    "            print(word)\n",
    "            break   # => no prints means batched_pos_let_to_words is accurate\n",
    "\n",
    "# print(vectorized_count(batched_pos_let_to_words[0][\"a\"]).sum())\n",
    "# print(vectorized_count(aw_batched.remaining_words.remaining_words).sum())\n",
    "# print(vectorized_count(aw_batched.remaining_words.remaining_words & batched_pos_let_to_words[0][\"a\"]).sum())\n",
    "# after_result = aw_batched.remaining_words.remaining_words & batched_pos_let_to_words[0][\"a\"] & batched_pos_let_to_words[1][\"b\"] & batched_pos_let_to_words[2][\"a\"]\n",
    "# print(\"after green\")\n",
    "# for i,elem in enumerate(after_result):\n",
    "#     for shift in range(8):\n",
    "#         if elem & (1<<shift):\n",
    "#             print(batched_idx_to_word[(i,1<<shift)])\n",
    "# after_grey = after_result & batched_less_let_to_words[\"s\"] & batched_greater_let_to_words[\"e\"]\n",
    "# print(\"after grey and green\")\n",
    "# for i,elem in enumerate(after_grey):\n",
    "#     for shift in range(8):\n",
    "#         if elem & (1<<shift):\n",
    "#             print(batched_idx_to_word[(i,1<<shift)])\n",
    "# print(vectorized_count(after_grey).sum())  # => the 8 number we got is actually accurate\n",
    "print(aw_batched.answer_counts)\n",
    "print(len(aw_batched.remaining_words))\n",
    "aw_batched.play_word(\"abhor\") # => should lock in the fact that our next guess needs to start with 'aba'\n",
    "print(len(aw_batched.remaining_words))  # => should be 8\n",
    "# for i,elem in enumerate(aw_batched.remaining_words.remaining_words):\n",
    "#     for shift in range(8):\n",
    "#         if elem & (1<<shift):\n",
    "#             print(batched_idx_to_word[(i,1<<shift)])\n",
    "print(aw_batched.remaining_words.all_words())\n",
    "aw_batched.play_word(\"abaka\")\n",
    "print(aw_batched.remaining_words.all_words())   # => should print ['aback'] only\n",
    "\n",
    "#print([f\"{x:>08b}\" for x in values])\n",
    "#print(batched_idx_to_word[(values[2], 1<<3)])\n",
    "# print(aw_batched.remaining_words.all_words())\n",
    "# print(\"abase\" in aw_batched.remaining_words)  # => should be False\n",
    "# aw_batched.play_word(\"abaka\")\n",
    "# print(len(aw_batched.remaining_words))\n",
    "# print(aw_batched.remaining_words.all_words())"
   ]
  },
  {
   "cell_type": "code",
   "execution_count": 80,
   "id": "e224a246-3b4f-41bc-b486-c9e3e4ba00a6",
   "metadata": {},
   "outputs": [],
   "source": [
    "class AntiWordle():\n",
    "    INVALID_WORD = -1\n",
    "    CONTINUE = -2\n",
    "\n",
    "    def __init__(self, batched=False):\n",
    "        self.remaining_words = FastWordList(batched=batched)\n",
    "        self.batched = batched\n",
    "        self.fields = [\"forced_letters\", \"upper_bounds\", \"lower_bounds\", \"remaining_words\", \"check_indices\", \"exact\", \"round\"] # order to save things\n",
    "        self.reset()\n",
    "\n",
    "    def reset(self):\n",
    "        self.answer = random.choice(answer_words)\n",
    "        self.remaining_words.reset()\n",
    "        self.round = 0\n",
    "        self.forced_letters = {}  # letters we know the exact position of\n",
    "        self.lower_bounds = defaultdict(lambda:-1)  # lower bound (>) num of each letter in the word, to the best of knowledge so far\n",
    "        self.upper_bounds = defaultdict(lambda:max_num_letters)  # upper bound (<=) num of each letter in the word, to the best of knowledge so far\n",
    "        self.exact = set()   # set of letters for which we know the exact count of\n",
    "        self.check_indices = set(range(words_len))\n",
    "        self.speculating = False\n",
    "\n",
    "    @property\n",
    "    def answer(self):\n",
    "        return self._answer\n",
    "\n",
    "    @answer.setter\n",
    "    def answer(self, value):\n",
    "        self._answer = value\n",
    "        self.answer_counts = num_letters[value]\n",
    "\n",
    "    def fast_guess_valid(self, word):\n",
    "        return word in self.remaining_words\n",
    "\n",
    "    def speculate(self):  # for efficiency reasons\n",
    "        self.speculating = True\n",
    "\n",
    "    def unspeculate(self):\n",
    "        self.speculating = False\n",
    "\n",
    "    def save_state(self):\n",
    "        result = []\n",
    "        for field in self.fields:\n",
    "            val = getattr(self, field)\n",
    "            if hasattr(val, \"copy\"):\n",
    "                result.append(val.copy())\n",
    "            else:\n",
    "                result.append(val)\n",
    "        return result\n",
    "\n",
    "    def restore_state(self, *args):\n",
    "        g_profiler.benchmark()\n",
    "        for field_name, arg in zip(self.fields, args):\n",
    "            if field_name == \"remaining_words\":\n",
    "                self.remaining_words.restore_state(arg)\n",
    "            else:\n",
    "                if hasattr(arg, \"copy\"):\n",
    "                    setattr(self, field_name, arg.copy())\n",
    "                else:\n",
    "                    setattr(self, field_name, arg)\n",
    "        g_profiler.benchmark(\"restore_state\")\n",
    "\n",
    "    def update_constraints(self, word):  # works better with double letters\n",
    "        # it is quite possible there is an implementation difference here with yellow letters\n",
    "        # basically, i have assumed here that if a letter occurs in the word, you can always guess\n",
    "        # more of it. eg. if you guess a word with one \"a\", and it shows up yellow/green, and then\n",
    "        # your next guess had 2 \"a\"s in it, and the 2nd a was yellow/green, and then your third guess\n",
    "        # had 3 \"a\"s in it, but the third a was not yellow/green, then on subsequent guesses, you would\n",
    "        # still be able to guess words with 3 a's or even more a's. This probably differs from their\n",
    "        # actual implementation slightly, but it would probably make things worse to implement so eh.\n",
    "\n",
    "        # LATER: so now it mostly is correct. the one case where it still fails is when we know the upper bound on\n",
    "        # number of letters as well. ie. if we guess 1 a, and its yellow, and then we guess 2 a's and they are\n",
    "        # green/yellow, then it will restrict to words with at least 2 a's, but if we guess a third \"a\", and the third \"a\"\n",
    "        # is grey, it will not eliminate  words that have more than 2 a's.\n",
    "        # should probably do this, its basically just a generalization of grey letters, we should have bounds for each letter type,\n",
    "        # and create lists that are for eg. \"all words with >= 2 a's\" and \"all words with <=2 a's\", and then once we know the exact bounds,\n",
    "        # we could and these two. => need 3 sets of >= num ones, and 4 of the <= ones\n",
    "\n",
    "        # EVEN LATER: implemented this\n",
    "        g_profiler.benchmark()\n",
    "        green_letters = []\n",
    "        lower_bounds = defaultdict(lambda:-1)  # we have > num of letter\n",
    "        upper_bounds = defaultdict(lambda:max_num_letters)  # we have <= num of letter\n",
    "        counts = num_letters[word]\n",
    "        remove_indices = set()\n",
    "        for i in self.check_indices:\n",
    "            guess_let = word[i]\n",
    "            answer_let = self.answer[i]\n",
    "            if i == 0:\n",
    "                g_profiler.benchmark(\"create enumerate/zip\")\n",
    "            if answer_let == guess_let:\n",
    "                if guess_let not in self.forced_letters:\n",
    "                    self.forced_letters[guess_let] = []\n",
    "                if i not in self.forced_letters[guess_let]:\n",
    "                    self.forced_letters[guess_let].append(i)\n",
    "                    green_letters.append((guess_let, i))\n",
    "                    remove_indices.add(i)\n",
    "            if guess_let in self.exact:  # skip checks if we already know the exact count of the word\n",
    "                continue\n",
    "            count = counts[guess_let]\n",
    "            answer_count = self.answer_counts[guess_let]\n",
    "            g_profiler.benchmark(f\"green_{i}\")\n",
    "            if answer_count >= count: # ie. all of our guesses of let are green/yellow\n",
    "                #print(\"checking in answer_count >= count\", guess_let)\n",
    "                if self.lower_bounds[guess_let] != count - 1:\n",
    "                    lower_bounds[guess_let] = count - 1\n",
    "                    self.lower_bounds[guess_let] = lower_bounds[guess_let]\n",
    "            else: # self.answer_counts[let] < counts[let]: # ie. some of our guesses of let were grey => we know exactly how many there are\n",
    "                #print(\"checking in answer_count < count\", guess_let)\n",
    "                #if self.lower_bounds[guess_let] != answer_count - 1:  # check can be removed since replaced with exact dict\n",
    "                lower_bounds[guess_let] = answer_count - 1 # -1 since lower bounds => we have > num_in_answer-1 (ie. exactly num_in_answer)\n",
    "                self.lower_bounds[guess_let] = lower_bounds[guess_let]\n",
    "                #if self.upper_bounds[guess_let] != answer_count:\n",
    "                upper_bounds[guess_let] = answer_count  # check can be removed since we replace it with the exact dict\n",
    "                self.upper_bounds[guess_let] = lower_bounds[guess_let]\n",
    "                self.exact.add(guess_let)\n",
    "            g_profiler.benchmark(f\"upper_lower_{i}\")\n",
    "        if (not self.speculating) or (self.batched):\n",
    "            self.remaining_words.update_list(green_letters, lower_bounds, upper_bounds, word, self.round)\n",
    "            self.check_indices -= remove_indices\n",
    "        return green_letters, lower_bounds, upper_bounds\n",
    "\n",
    "    def play_word(self, word):\n",
    "        g_profiler.benchmark()\n",
    "        # if not self.fast_guess_valid(word): #self.guess_valid(word):\n",
    "        #     g_profiler.benchmark(\"validating_word\")\n",
    "        #     return self.INVALID_WORD\n",
    "        g_profiler.benchmark(\"validating_word\")\n",
    "        self.round += 1\n",
    "        if word == self.answer:\n",
    "            return self.round\n",
    "        self.update_constraints(word)\n",
    "        g_profiler.benchmark(\"updating_update_constraints\")\n",
    "        return self.CONTINUE\n",
    "\n",
    "    def __repr__(self):\n",
    "        answer_display = [\"_\"] * len(self.answer)\n",
    "        must_contain = []\n",
    "        for let,positions in self.forced_letters.items():\n",
    "            if positions is None:\n",
    "                must_contain.append(let)\n",
    "                continue\n",
    "            for pos in positions:\n",
    "                answer_display[pos] = let.upper()\n",
    "        #good_letters = sorted(list(self.allowed_letters))\n",
    "        return f\"{self.round} {''.join(answer_display)}\\nMust contain: {must_contain}\\nRemaining Letters: {''.join(good_letters)}\\nAnswer:{self.answer}\"\n"
   ]
  },
  {
   "cell_type": "code",
   "execution_count": 10,
   "id": "cb9e3b15-f27e-4c6c-9454-56f6d1707ecb",
   "metadata": {},
   "outputs": [],
   "source": [
    "class RandStrategy():\n",
    "    def __init__(self):\n",
    "        self.reset()\n",
    "\n",
    "    def reset(self):\n",
    "        pass #self.remaining_words = fast_allowed.copy()\n",
    "\n",
    "    def guess(self, game):\n",
    "        g_profiler.benchmark()\n",
    "        return game.remaining_words.rand_select()"
   ]
  },
  {
   "cell_type": "code",
   "execution_count": 52,
   "id": "4a6b5d17-f1c6-4bca-b901-0b84ac8cd04f",
   "metadata": {},
   "outputs": [],
   "source": [
    "class GreedyStrategy():\n",
    "    def __init__(self):\n",
    "        self.reset()\n",
    "\n",
    "    def reset(self):\n",
    "        self.word_to_expected_len = {w: [] for w in allowed_words}\n",
    "        self.cached_results = {}\n",
    "\n",
    "    def canonicalize_updates(self, green_letters, lower_bounds, upper_bounds):\n",
    "        return f\"{green_letters}|{lower_bounds}|{upper_bounds}\"\n",
    "\n",
    "    def explore(self, game):  # use num remaining words as proxy for game length\n",
    "        game.speculate()\n",
    "        for potential_answer in tqdm(answer_words):\n",
    "            game.answer = potential_answer\n",
    "            state_begin = game.save_state()\n",
    "            for potential_guess in allowed_words:\n",
    "                if potential_guess not in game.remaining_words:\n",
    "                    continue\n",
    "                update_rules = game.update_constraints(potential_guess)\n",
    "                updates = self.canonicalize_updates(*update_rules)  # technically this could be off by 1, but whatever\n",
    "                if updates not in self.cached_results:\n",
    "                    game.remaining_words.update_list(*update_rules, potential_guess, game.round)\n",
    "                    self.cached_results[updates] = len(game.remaining_words)\n",
    "                self.word_to_expected_len[potential_guess].append(self.cached_results[updates])\n",
    "                game.restore_state(*state_begin)\n",
    "        game.unspeculate()\n",
    "\n",
    "    def save_self(self):\n",
    "        import pickle\n",
    "        with open(\"word_to_expected_len.dict\", \"wb\") as p:\n",
    "            pickle.dump(self.word_to_expected_len, p)"
   ]
  },
  {
   "cell_type": "code",
   "execution_count": 55,
   "id": "741dcf7a-e331-45cd-9ae5-df3e0acbfb7a",
   "metadata": {},
   "outputs": [
    {
     "name": "stderr",
     "output_type": "stream",
     "text": [
      "100%|████████████████████████████████████████████████████████████████████████████████| 2313/2313 [19:36<00:00,  1.97it/s]\n"
     ]
    }
   ],
   "source": [
    "gamer = GreedyStrategy()\n",
    "antiwordle = AntiWordle(batched=False)\n",
    "gamer.explore(antiwordle)"
   ]
  },
  {
   "cell_type": "code",
   "execution_count": 57,
   "id": "623f22df-d0f0-4ff7-8be6-4b952c064f30",
   "metadata": {},
   "outputs": [],
   "source": [
    "def max_relation(distr1, distr2):\n",
    "    return np.where(distr1 > distr2, 1, 0).sum() > distr1.shape[0]//2"
   ]
  },
  {
   "cell_type": "code",
   "execution_count": null,
   "id": "dcb3e1f9-a9b1-469e-8ca6-a8a0c97fe538",
   "metadata": {},
   "outputs": [],
   "source": [
    "test_size = 500\n",
    "max_metric_arrs = [np.random.choice(100, 11) for _ in range(test_size)]\n",
    "max_metric_result_mat = np.zeros((test_size, test_size))\n",
    "for i in range(test_size):\n",
    "    for j in range(test_size):\n",
    "        max_metric_result_mat[i,j] = max_relation(max_metric_arrs[i], max_metric_arrs[j])"
   ]
  },
  {
   "cell_type": "code",
   "execution_count": 39,
   "id": "0f78500c-fdf6-42c4-8261-7f5ed7663449",
   "metadata": {},
   "outputs": [
    {
     "name": "stderr",
     "output_type": "stream",
     "text": [
      "100%|██████████████████████████████████████████████████████████████████████████████████| 500/500 [00:29<00:00, 17.05it/s]\n"
     ]
    }
   ],
   "source": [
    "bad_ones = []\n",
    "for i in tqdm(range(test_size)):\n",
    "    for j in range(test_size):\n",
    "        for k in range(test_size):\n",
    "            if max_metric_result_mat[i,j] and max_metric_result_mat[j,k] and not max_metric_result_mat[i,k]:\n",
    "                bad_ones.append((i,j,k))"
   ]
  },
  {
   "cell_type": "code",
   "execution_count": 52,
   "id": "1c3026da-d728-41d7-bdd9-c6dcbba02201",
   "metadata": {},
   "outputs": [
    {
     "name": "stdout",
     "output_type": "stream",
     "text": [
      "[17 97  6 75 85 32 93 24 99 37 62]\n",
      "[55 17 53 66 46 23 10 89 55 80 96]\n",
      "[33 93 38 33  6 48 82 65 19 39 99]\n",
      "[1 0 1 0 0 0 0 1 0 1 1]\n",
      "True\n"
     ]
    }
   ],
   "source": [
    "print(max_metric_arrs[0])\n",
    "print(max_metric_arrs[3])\n",
    "print(max_metric_arrs[225])\n",
    "print(np.where(max_metric_arrs[3] > max_metric_arrs[0], 1, 0))\n",
    "print(max_relation(max_metric_arrs[0], max_metric_arrs[3]))  # => the max relation is not really a relation"
   ]
  },
  {
   "cell_type": "code",
   "execution_count": 11,
   "id": "f3601192-7050-4307-9b17-a9f0813162fd",
   "metadata": {},
   "outputs": [],
   "source": [
    "for word,value in gamer.word_to_expected_len.items():\n",
    "    gamer.word_to_expected_len[word] = np.array(value)"
   ]
  },
  {
   "cell_type": "code",
   "execution_count": 65,
   "id": "e885b380-74ee-4723-b6a3-b661035db082",
   "metadata": {},
   "outputs": [
    {
     "data": {
      "text/plain": [
       "(array([[ 934.,  147.,    0., ...,    0.,    0.,    0.],\n",
       "        [1015.,  641.,  657., ...,    0.,    0.,    0.],\n",
       "        [1212.,  245.,  590., ...,    0.,    0.,    0.],\n",
       "        ...,\n",
       "        [ 725.,  419.,  295., ...,    0.,    0.,    0.],\n",
       "        [ 736.,  217., 1137., ...,    0.,    0.,    0.],\n",
       "        [ 520.,  622.,  298., ...,    0.,    0.,    0.]]),\n",
       " array([1.0000e+00, 8.1980e+02, 1.6386e+03, 2.4574e+03, 3.2762e+03,\n",
       "        4.0950e+03, 4.9138e+03, 5.7326e+03, 6.5514e+03, 7.3702e+03,\n",
       "        8.1890e+03]),\n",
       " <a list of 12970 BarContainer objects>)"
      ]
     },
     "execution_count": 65,
     "metadata": {},
     "output_type": "execute_result"
    },
    {
     "data": {
      "image/png": "[encoded data removed]",
      "text/plain": [
       "<Figure size 640x480 with 1 Axes>"
      ]
     },
     "metadata": {},
     "output_type": "display_data"
    }
   ],
   "source": [
    "plt.hist(gamer.word_to_expected_len.values())"
   ]
  },
  {
   "cell_type": "code",
   "execution_count": 58,
   "id": "f1c83b1e-413d-4462-b79d-940cf95a6103",
   "metadata": {},
   "outputs": [],
   "source": [
    "num_bins = 150\n",
    "distrib_bins = np.quantile(np.array(list(gamer.word_to_expected_len.values())), np.linspace(0,1,num_bins))\n",
    "#distrib_bins = np.histogram_bin_edges(np.array(list(gamer.word_to_expected_len.values())), bins=\"doane\")\n",
    "word_to_digitized_len = {}\n",
    "for word,values in gamer.word_to_expected_len.items():\n",
    "    word_to_digitized_len[word] = np.digitize(values, distrib_bins)"
   ]
  },
  {
   "cell_type": "code",
   "execution_count": 59,
   "id": "207a3289-a277-4b0b-a737-fb38c1d8e985",
   "metadata": {},
   "outputs": [
    {
     "name": "stderr",
     "output_type": "stream",
     "text": [
      "100%|██████████████████████████████████████████████████████████████████████████████| 12970/12970 [23:03<00:00,  9.38it/s]\n"
     ]
    }
   ],
   "source": [
    "word_max_relation_mat = np.zeros((len(allowed_words), len(allowed_words))).astype(np.bool_)\n",
    "for word1,values1 in tqdm(word_to_digitized_len.items()):\n",
    "    idx1 = word_to_idx[word1]\n",
    "    for word2,values2 in word_to_digitized_len.items():\n",
    "        idx2 = word_to_idx[word2]\n",
    "        if idx1 <= idx2:\n",
    "            continue\n",
    "        result = max_relation(values1, values2)\n",
    "        word_max_relation_mat[idx1, idx2] = result\n",
    "        word_max_relation_mat[idx2, idx1] = not result"
   ]
  },
  {
   "cell_type": "code",
   "execution_count": 60,
   "id": "143ba19a-5870-4401-b770-aba98fb485e0",
   "metadata": {},
   "outputs": [],
   "source": [
    "word_to_num_wins = {}\n",
    "for word in allowed_words:\n",
    "    word_idx = word_to_idx[word]\n",
    "    word_to_num_wins[word] = word_max_relation_mat[word_idx, :].sum()"
   ]
  },
  {
   "cell_type": "code",
   "execution_count": 61,
   "id": "abf85acc-f5af-49be-9d90-eff4f4530828",
   "metadata": {},
   "outputs": [],
   "source": [
    "max_distrib_list = list(sorted(word_to_num_wins.items(), key=lambda x: x[1], reverse=True))\n",
    "word_priority = list(sorted(word_to_num_wins, key=lambda x: word_to_num_wins[x], reverse=True))"
   ]
  },
  {
   "cell_type": "code",
   "execution_count": 96,
   "id": "c8ec3705-0543-4683-bb1a-cd9e98e1ad06",
   "metadata": {},
   "outputs": [],
   "source": [
    "with open(\"word_priority.list\", \"wb\") as p:  # master list used for priorities in rollouts\n",
    "    pickle.dump(word_priority, p)"
   ]
  },
  {
   "cell_type": "code",
   "execution_count": 62,
   "id": "a79fa3ca-ccf9-43ee-a342-1327c3c2346f",
   "metadata": {},
   "outputs": [],
   "source": [
    "with open(\"max_distrib_list.list\", \"wb\") as p:  # master list used for priorities in rollouts\n",
    "    pickle.dump(max_distrib_list, p)"
   ]
  },
  {
   "cell_type": "code",
   "execution_count": 64,
   "id": "95b9ee89-e6ee-4d48-a7e1-d5cadfd23b57",
   "metadata": {},
   "outputs": [
    {
     "data": {
      "text/plain": [
       "[('gyppy', 12969),\n",
       " ('bluff', 12968),\n",
       " ('bobby', 12967),\n",
       " ('booby', 12966),\n",
       " ('boozy', 12965),\n",
       " ('buddy', 12964),\n",
       " ('buggy', 12963),\n",
       " ('chuck', 12961),\n",
       " ('civic', 12960),\n",
       " ('dizzy', 12959),\n",
       " ('chick', 12958),\n",
       " ('dummy', 12958),\n",
       " ('fizzy', 12957),\n",
       " ('fluff', 12956),\n",
       " ('fuzzy', 12954),\n",
       " ('foggy', 12953),\n",
       " ('gummy', 12950),\n",
       " ('guppy', 12949),\n",
       " ('humph', 12948),\n",
       " ('jiffy', 12947),\n",
       " ('jumpy', 12946),\n",
       " ('mamma', 12946),\n",
       " ('mimic', 12944),\n",
       " ('minim', 12943),\n",
       " ('goofy', 12942)]"
      ]
     },
     "execution_count": 64,
     "metadata": {},
     "output_type": "execute_result"
    }
   ],
   "source": [
    "max_distrib_list[:25]  # => changes the order a lot! gyppy still wins against every word (full implementation of easy mode)"
   ]
  },
  {
   "cell_type": "code",
   "execution_count": 41,
   "id": "0dd50246-e9df-40d3-9a97-999583ad9395",
   "metadata": {},
   "outputs": [
    {
     "data": {
      "text/plain": [
       "[('gyppy', 12969),\n",
       " ('bluff', 12968),\n",
       " ('bobby', 12967),\n",
       " ('booby', 12966),\n",
       " ('boozy', 12965),\n",
       " ('buddy', 12964),\n",
       " ('buggy', 12963),\n",
       " ('chuck', 12961),\n",
       " ('civic', 12960),\n",
       " ('dizzy', 12959),\n",
       " ('chick', 12957),\n",
       " ('dummy', 12957),\n",
       " ('fizzy', 12957),\n",
       " ('fluff', 12956),\n",
       " ('fuzzy', 12954),\n",
       " ('foggy', 12953),\n",
       " ('gummy', 12950),\n",
       " ('guppy', 12948),\n",
       " ('humph', 12948),\n",
       " ('jiffy', 12948),\n",
       " ('mamma', 12947),\n",
       " ('jumpy', 12946),\n",
       " ('mimic', 12944),\n",
       " ('minim', 12943),\n",
       " ('muddy', 12942)]"
      ]
     },
     "execution_count": 41,
     "metadata": {},
     "output_type": "execute_result"
    }
   ],
   "source": [
    "max_distrib_list[:25]  # => changes the order a lot! gyppy wins against every word (INCLUDING double letter implem)"
   ]
  },
  {
   "cell_type": "code",
   "execution_count": 25,
   "id": "f79c0ca2-bf98-4c4f-a459-8e15305723b3",
   "metadata": {},
   "outputs": [
    {
     "data": {
      "text/plain": [
       "[('gyppy', 12969.0),\n",
       " ('bluff', 12968.0),\n",
       " ('bobby', 12967.0),\n",
       " ('booby', 12966.0),\n",
       " ('boozy', 12965.0),\n",
       " ('buddy', 12964.0),\n",
       " ('buggy', 12963.0),\n",
       " ('chuck', 12961.0),\n",
       " ('civic', 12960.0),\n",
       " ('dizzy', 12959.0),\n",
       " ('dummy', 12957.0),\n",
       " ('fizzy', 12957.0),\n",
       " ('fluff', 12956.0),\n",
       " ('chick', 12955.0),\n",
       " ('fuzzy', 12954.0),\n",
       " ('foggy', 12953.0),\n",
       " ('gummy', 12950.0),\n",
       " ('guppy', 12948.0),\n",
       " ('humph', 12948.0),\n",
       " ('jiffy', 12948.0),\n",
       " ('jumpy', 12946.0),\n",
       " ('mamma', 12946.0),\n",
       " ('mimic', 12944.0),\n",
       " ('minim', 12943.0),\n",
       " ('mummy', 12942.0)]"
      ]
     },
     "execution_count": 25,
     "metadata": {},
     "output_type": "execute_result"
    }
   ],
   "source": [
    "max_distrib_list[:25]  # => changes the order a lot! gyppy wins against every word (without double letter implem)"
   ]
  },
  {
   "cell_type": "code",
   "execution_count": 21,
   "id": "fd9e223d-193d-4c80-b11d-50a081ff771a",
   "metadata": {},
   "outputs": [],
   "source": [
    "heuristic_list = list(sorted([(word,sum(size)) for word,size in gamer.word_to_expected_len.items()], key=lambda x: x[1], reverse=True))"
   ]
  },
  {
   "cell_type": "code",
   "execution_count": 22,
   "id": "48cfef32-1def-42c1-98d9-6fe7609d72e1",
   "metadata": {},
   "outputs": [
    {
     "data": {
      "text/plain": [
       "[('umphs', 27830741),\n",
       " ('imshi', 27736287),\n",
       " ('emmys', 27576198),\n",
       " ('ombus', 27263697),\n",
       " ('emyds', 27203668),\n",
       " ('hypha', 27180323),\n",
       " ('xysti', 27175894),\n",
       " ('onkus', 27149631),\n",
       " ('oshac', 27012008),\n",
       " ('oxbow', 27006363),\n",
       " ('uncus', 26984933),\n",
       " ('xysts', 26975655),\n",
       " ('kybos', 26961775),\n",
       " ('iglus', 26947722),\n",
       " ('incus', 26945905),\n",
       " ('gymps', 26931018),\n",
       " ('embus', 26918989),\n",
       " ('obeys', 26901075),\n",
       " ('ogham', 26885755),\n",
       " ('idyls', 26865484),\n",
       " ('ewhow', 26826246),\n",
       " ('mythi', 26777818),\n",
       " ('ogmic', 26759256),\n",
       " ('kynds', 26757393),\n",
       " ('odyls', 26717327)]"
      ]
     },
     "execution_count": 22,
     "metadata": {},
     "output_type": "execute_result"
    }
   ],
   "source": [
    "heuristic_list[:25]  # with the more correct implementation of bounds"
   ]
  },
  {
   "cell_type": "code",
   "execution_count": 31,
   "id": "546a2092-3466-4b51-87f3-3c9cc9aa45dc",
   "metadata": {},
   "outputs": [
    {
     "data": {
      "text/plain": [
       "[('qajaq', 13083328),\n",
       " ('immix', 12749511),\n",
       " ('xylyl', 12191947),\n",
       " ('fuffy', 12159670),\n",
       " ('gyppy', 12138766),\n",
       " ('zoppo', 11769814),\n",
       " ('jugum', 11767119),\n",
       " ('yukky', 11695859),\n",
       " ('cocco', 11657816),\n",
       " ('fuzzy', 11588095),\n",
       " ('hyphy', 11587432),\n",
       " ('jaffa', 11531839),\n",
       " ('bubby', 11392460),\n",
       " ('zocco', 11189489),\n",
       " ('kibbi', 11095059),\n",
       " ('kudzu', 11024599),\n",
       " ('boffo', 10987520),\n",
       " ('yummy', 10987166),\n",
       " ('vivid', 10967747),\n",
       " ('mummy', 10941769),\n",
       " ('buzzy', 10897783),\n",
       " ('oxbow', 10864021),\n",
       " ('jinni', 10841911),\n",
       " ('mamma', 10828095),\n",
       " ('civic', 10765086)]"
      ]
     },
     "execution_count": 31,
     "metadata": {},
     "output_type": "execute_result"
    }
   ],
   "source": [
    "heuristic_list[:25]  # with the more correct implementation of double letters"
   ]
  },
  {
   "cell_type": "code",
   "execution_count": 20,
   "id": "3f3667fc-5b6e-4f15-8c9d-120e2201df10",
   "metadata": {},
   "outputs": [
    {
     "data": {
      "text/plain": [
       "[('qajaq', 13219438),\n",
       " ('immix', 12759128),\n",
       " ('xylyl', 12199829),\n",
       " ('fuffy', 12160646),\n",
       " ('gyppy', 12140401),\n",
       " ('zoppo', 11833770),\n",
       " ('jugum', 11770375),\n",
       " ('cocco', 11751144),\n",
       " ('yukky', 11699352),\n",
       " ('jaffa', 11643223),\n",
       " ('hyphy', 11591368),\n",
       " ('fuzzy', 11588095),\n",
       " ('bubby', 11392945),\n",
       " ('zocco', 11279801),\n",
       " ('kibbi', 11112431),\n",
       " ('boffo', 11053907),\n",
       " ('kudzu', 11029833),\n",
       " ('yummy', 10991950),\n",
       " ('vivid', 10982032),\n",
       " ('mummy', 10943493),\n",
       " ('oxbow', 10925794),\n",
       " ('mamma', 10923309),\n",
       " ('buzzy', 10897783),\n",
       " ('jinni', 10857660),\n",
       " ('jeeze', 10842336)]"
      ]
     },
     "execution_count": 20,
     "metadata": {},
     "output_type": "execute_result"
    }
   ],
   "source": [
    "heuristic_list[:25]  # => without mor \"correct\" implementation of double letters"
   ]
  },
  {
   "cell_type": "code",
   "execution_count": 86,
   "id": "5cc73470-529b-4e02-8863-43e93340b473",
   "metadata": {},
   "outputs": [
    {
     "name": "stderr",
     "output_type": "stream",
     "text": [
      "  0%|                                                                                           | 0/2313 [00:00<?, ?it/s]\n",
      "  0%|                                                                                          | 0/12970 [00:00<?, ?it/s]\u001b[A"
     ]
    },
    {
     "name": "stdout",
     "output_type": "stream",
     "text": [
      "hi\n",
      "True\n",
      "2 ('bluff', 'gyppy', 'aback') 674\n",
      "['bombo', 'kibbi', 'oxbow', 'zimbi', 'babka', 'abaka', 'abaca', 'bacca', 'combo', 'coomb', 'kabab', 'mamba', 'bizzo', 'dabba', 'bajan', 'bindi', 'ebbed', 'jibba', 'jembe', 'nimbi', 'bibbs', 'xebec', 'jibbs', 'zebec', 'aback']\n",
      "False\n",
      "3 ('ayaya', 'gyppy', 'aback') 8\n",
      "['aback', 'aband', 'abaci', 'abask', 'abacs', 'abash', 'abate', 'abase']\n",
      "True\n",
      "4 ('aback', 'gyppy', 'aback') 8\n",
      "['aback', 'aband', 'abaci', 'abask', 'abacs', 'abash', 'abate', 'abase']\n",
      "game done, return = 4\n",
      "hi\n",
      "True\n",
      "2 ('chuck', 'gyppy', 'aback') 40\n",
      "['knock', 'klick', 'aback', 'knack', 'flick', 'flock', 'kiack', 'alack', 'block', 'flack', 'frock', 'wrick', 'fleck', 'black', 'brock', 'brick', 'wreck', 'frack', 'wrack', 'smock', 'brack', 'swack', 'snick', 'dreck', 'drack']\n",
      "False\n",
      "3 ('moody', 'gyppy', 'aback') 31\n",
      "['klick', 'aback', 'knack', 'flick', 'kiack', 'alack', 'flack', 'wrick', 'fleck', 'black', 'brick', 'wreck', 'frack', 'wrack', 'brack', 'swack', 'snick', 'dreck', 'drack', 'stick', 'trick', 'slick', 'erick', 'treck', 'snack']\n",
      "False\n",
      "4 ('nappa', 'gyppy', 'aback') 2\n",
      "['aback', 'alack']\n",
      "True\n",
      "5 ('aback', 'gyppy', 'aback') 2\n",
      "['aback', 'alack']\n",
      "game done, return = 5\n",
      "hi\n",
      "True\n",
      "2 ('civic', 'gyppy', 'aback') 928\n",
      "['buchu', 'bucku', 'chuff', 'commo', 'choof', 'hooch', 'jocko', 'abaca', 'hunch', 'choko', 'chook', 'combo', 'coomb', 'cuffo', 'hutch', 'choom', 'chowk', 'mooch', 'knock', 'chaff', 'emcee', 'xebec', 'cloff', 'zebec', 'choux']\n",
      "True\n",
      "3 ('buchu', 'gyppy', 'aback') 52\n",
      "['abaca', 'combo', 'coomb', 'xebec', 'zebec', 'aback', 'becke', 'bobac', 'cobbs', 'cabob', 'cobza', 'cabal', 'block', 'barca', 'celeb', 'bocks', 'clomb', 'black', 'brock', 'cabas', 'combs', 'abacs', 'rebec', 'cromb', 'scabs']\n",
      "False\n",
      "4 ('abaka', 'gyppy', 'aback') 1\n",
      "['aback']\n",
      "False\n",
      "5 ('nappa', 'gyppy', 'aback') 1\n",
      "['aback']\n",
      "True\n",
      "6 ('aback', 'gyppy', 'aback') 1\n",
      "['aback']\n",
      "game done, return = 6\n",
      "hi\n",
      "True\n",
      "2 ('chick', 'gyppy', 'aback') 34\n",
      "['knock', 'aback', 'quack', 'knack', 'flock', 'alack', 'block', 'amuck', 'flack', 'frock', 'fleck', 'black', 'brock', 'wreck', 'frack', 'snuck', 'wrack', 'smock', 'stuck', 'brack', 'truck', 'swack', 'dreck', 'drack', 'smack']\n",
      "True\n",
      "3 ('knock', 'gyppy', 'aback') 22\n",
      "['aback', 'quack', 'alack', 'amuck', 'flack', 'fleck', 'black', 'wreck', 'frack', 'wrack', 'stuck', 'brack', 'truck', 'swack', 'dreck', 'drack', 'smack', 'treck', 'track', 'aleck', 'stack', 'slack']\n",
      "True\n",
      "4 ('quack', 'gyppy', 'aback') 13\n",
      "['aback', 'alack', 'flack', 'black', 'frack', 'wrack', 'brack', 'swack', 'drack', 'smack', 'track', 'stack', 'slack']\n",
      "False\n",
      "5 ('leggy', 'gyppy', 'aback') 9\n",
      "['aback', 'frack', 'wrack', 'brack', 'swack', 'drack', 'smack', 'track', 'stack']\n",
      "False\n",
      "6 ('nappa', 'gyppy', 'aback') 1\n",
      "['aback']\n",
      "True\n",
      "7 ('aback', 'gyppy', 'aback') 1\n",
      "['aback']\n",
      "game done, return = 7\n",
      "hi\n",
      "True\n",
      "2 ('fluff', 'gyppy', 'aback') 4511\n",
      "['civic', 'chick', 'mamma', 'mimic', 'minim', 'twixt', 'vivid', 'addax', 'which', 'bombo', 'chich', 'chizz', 'choco', 'cocco', 'commo', 'cooch', 'cwtch', 'exeem', 'exeme', 'hooch', 'immix', 'immit', 'jeeze', 'jinni', 'jocko']\n",
      "True\n",
      "3 ('civic', 'gyppy', 'aback') 537\n",
      "['commo', 'hooch', 'jocko', 'abaca', 'choko', 'chook', 'combo', 'coomb', 'choom', 'chowk', 'mooch', 'knock', 'emcee', 'xebec', 'zebec', 'kacha', 'ceded', 'aback', 'macaw', 'canna', 'bacha', 'hotch', 'condo', 'choon', 'cheek']\n",
      "False\n",
      "4 ('chich', 'gyppy', 'aback') 53\n",
      "['abaca', 'knock', 'aback', 'knack', 'eject', 'execs', 'barca', 'brock', 'waacs', 'abacs', 'wreck', 'wrack', 'dooce', 'smock', 'nonce', 'brack', 'swack', 'banco', 'dreck', 'drack', 'smack', 'nance', 'exact', 'stock', 'tract']\n",
      "False\n",
      "5 ('abaka', 'gyppy', 'aback') 2\n",
      "['aback', 'abacs']\n",
      "False\n",
      "6 ('hymen', 'gyppy', 'aback') 2\n",
      "['aback', 'abacs']\n",
      "False\n",
      "7 ('nappa', 'gyppy', 'aback') 2\n",
      "['aback', 'abacs']\n",
      "True\n",
      "8 ('aback', 'gyppy', 'aback') 2\n",
      "['aback', 'abacs']\n",
      "game done, return = 8\n",
      "hi\n",
      "True\n",
      "2 ('mamma', 'gyppy', 'aback') 353\n",
      "['addax', 'jaffa', 'qajaq', 'babka', 'abaka', 'anana', 'abaca', 'bacca', 'kabab', 'jnana', 'tazza', 'nanna', 'laval', 'zanza', 'zanja', 'taata', 'wanna', 'dabba', 'aflaj', 'ajwan', 'bajan', 'falaj', 'dadah', 'jawan', 'flava']\n",
      "False\n",
      "3 ('vivid', 'gyppy', 'aback') 243\n",
      "['jaffa', 'qajaq', 'babka', 'abaka', 'anana', 'abaca', 'bacca', 'kabab', 'jnana', 'tazza', 'nanna', 'zanza', 'zanja', 'taata', 'wanna', 'aflaj', 'ajwan', 'bajan', 'falaj', 'jawan', 'walla', 'kacha', 'aback', 'batta', 'afara']\n",
      "False\n",
      "4 ('gunny', 'gyppy', 'aback') 157\n",
      "['jaffa', 'qajaq', 'babka', 'abaka', 'abaca', 'bacca', 'kabab', 'tazza', 'taata', 'aflaj', 'falaj', 'walla', 'kacha', 'aback', 'batta', 'afara', 'hatha', 'zakat', 'calla', 'fatwa', 'halal', 'jhala', 'lahal', 'bacha', 'jacal']\n",
      "False\n",
      "5 ('gunny', 'gyppy', 'aback') 157\n",
      "['jaffa', 'qajaq', 'babka', 'abaka', 'abaca', 'bacca', 'kabab', 'tazza', 'taata', 'aflaj', 'falaj', 'walla', 'kacha', 'aback', 'batta', 'afara', 'hatha', 'zakat', 'calla', 'fatwa', 'halal', 'jhala', 'lahal', 'bacha', 'jacal']\n",
      "False\n",
      "6 ('gunny', 'gyppy', 'aback') 157\n",
      "['jaffa', 'qajaq', 'babka', 'abaka', 'abaca', 'bacca', 'kabab', 'tazza', 'taata', 'aflaj', 'falaj', 'walla', 'kacha', 'aback', 'batta', 'afara', 'hatha', 'zakat', 'calla', 'fatwa', 'halal', 'jhala', 'lahal', 'bacha', 'jacal']\n",
      "False\n",
      "7 ('gunny', 'gyppy', 'aback') 157\n",
      "['jaffa', 'qajaq', 'babka', 'abaka', 'abaca', 'bacca', 'kabab', 'tazza', 'taata', 'aflaj', 'falaj', 'walla', 'kacha', 'aback', 'batta', 'afara', 'hatha', 'zakat', 'calla', 'fatwa', 'halal', 'jhala', 'lahal', 'bacha', 'jacal']\n",
      "False\n",
      "8 ('gunny', 'gyppy', 'aback') 157\n",
      "['jaffa', 'qajaq', 'babka', 'abaka', 'abaca', 'bacca', 'kabab', 'tazza', 'taata', 'aflaj', 'falaj', 'walla', 'kacha', 'aback', 'batta', 'afara', 'hatha', 'zakat', 'calla', 'fatwa', 'halal', 'jhala', 'lahal', 'bacha', 'jacal']\n",
      "False\n",
      "9 ('gunny', 'gyppy', 'aback') 157\n",
      "['jaffa', 'qajaq', 'babka', 'abaka', 'abaca', 'bacca', 'kabab', 'tazza', 'taata', 'aflaj', 'falaj', 'walla', 'kacha', 'aback', 'batta', 'afara', 'hatha', 'zakat', 'calla', 'fatwa', 'halal', 'jhala', 'lahal', 'bacha', 'jacal']\n",
      "False\n",
      "10 ('gunny', 'gyppy', 'aback') 157\n",
      "['jaffa', 'qajaq', 'babka', 'abaka', 'abaca', 'bacca', 'kabab', 'tazza', 'taata', 'aflaj', 'falaj', 'walla', 'kacha', 'aback', 'batta', 'afara', 'hatha', 'zakat', 'calla', 'fatwa', 'halal', 'jhala', 'lahal', 'bacha', 'jacal']\n",
      "False\n",
      "11 ('gunny', 'gyppy', 'aback') 157\n",
      "['jaffa', 'qajaq', 'babka', 'abaka', 'abaca', 'bacca', 'kabab', 'tazza', 'taata', 'aflaj', 'falaj', 'walla', 'kacha', 'aback', 'batta', 'afara', 'hatha', 'zakat', 'calla', 'fatwa', 'halal', 'jhala', 'lahal', 'bacha', 'jacal']\n",
      "False\n",
      "12 ('gunny', 'gyppy', 'aback') 157\n",
      "['jaffa', 'qajaq', 'babka', 'abaka', 'abaca', 'bacca', 'kabab', 'tazza', 'taata', 'aflaj', 'falaj', 'walla', 'kacha', 'aback', 'batta', 'afara', 'hatha', 'zakat', 'calla', 'fatwa', 'halal', 'jhala', 'lahal', 'bacha', 'jacal']\n",
      "False\n",
      "13 ('gunny', 'gyppy', 'aback') 157\n",
      "['jaffa', 'qajaq', 'babka', 'abaka', 'abaca', 'bacca', 'kabab', 'tazza', 'taata', 'aflaj', 'falaj', 'walla', 'kacha', 'aback', 'batta', 'afara', 'hatha', 'zakat', 'calla', 'fatwa', 'halal', 'jhala', 'lahal', 'bacha', 'jacal']\n",
      "False\n",
      "14 ('gunny', 'gyppy', 'aback') 157\n",
      "['jaffa', 'qajaq', 'babka', 'abaka', 'abaca', 'bacca', 'kabab', 'tazza', 'taata', 'aflaj', 'falaj', 'walla', 'kacha', 'aback', 'batta', 'afara', 'hatha', 'zakat', 'calla', 'fatwa', 'halal', 'jhala', 'lahal', 'bacha', 'jacal']\n",
      "False\n",
      "15 ('gunny', 'gyppy', 'aback') 157\n",
      "['jaffa', 'qajaq', 'babka', 'abaka', 'abaca', 'bacca', 'kabab', 'tazza', 'taata', 'aflaj', 'falaj', 'walla', 'kacha', 'aback', 'batta', 'afara', 'hatha', 'zakat', 'calla', 'fatwa', 'halal', 'jhala', 'lahal', 'bacha', 'jacal']\n",
      "False\n",
      "16 ('gunny', 'gyppy', 'aback') 157\n",
      "['jaffa', 'qajaq', 'babka', 'abaka', 'abaca', 'bacca', 'kabab', 'tazza', 'taata', 'aflaj', 'falaj', 'walla', 'kacha', 'aback', 'batta', 'afara', 'hatha', 'zakat', 'calla', 'fatwa', 'halal', 'jhala', 'lahal', 'bacha', 'jacal']\n",
      "False\n",
      "17 ('gunny', 'gyppy', 'aback') 157\n",
      "['jaffa', 'qajaq', 'babka', 'abaka', 'abaca', 'bacca', 'kabab', 'tazza', 'taata', 'aflaj', 'falaj', 'walla', 'kacha', 'aback', 'batta', 'afara', 'hatha', 'zakat', 'calla', 'fatwa', 'halal', 'jhala', 'lahal', 'bacha', 'jacal']\n",
      "False\n",
      "18 ('gunny', 'gyppy', 'aback') 157\n",
      "['jaffa', 'qajaq', 'babka', 'abaka', 'abaca', 'bacca', 'kabab', 'tazza', 'taata', 'aflaj', 'falaj', 'walla', 'kacha', 'aback', 'batta', 'afara', 'hatha', 'zakat', 'calla', 'fatwa', 'halal', 'jhala', 'lahal', 'bacha', 'jacal']\n",
      "False\n",
      "19 ('gunny', 'gyppy', 'aback') 157\n",
      "['jaffa', 'qajaq', 'babka', 'abaka', 'abaca', 'bacca', 'kabab', 'tazza', 'taata', 'aflaj', 'falaj', 'walla', 'kacha', 'aback', 'batta', 'afara', 'hatha', 'zakat', 'calla', 'fatwa', 'halal', 'jhala', 'lahal', 'bacha', 'jacal']\n",
      "False\n",
      "20 ('gunny', 'gyppy', 'aback') 157\n",
      "['jaffa', 'qajaq', 'babka', 'abaka', 'abaca', 'bacca', 'kabab', 'tazza', 'taata', 'aflaj', 'falaj', 'walla', 'kacha', 'aback', 'batta', 'afara', 'hatha', 'zakat', 'calla', 'fatwa', 'halal', 'jhala', 'lahal', 'bacha', 'jacal']\n",
      "False\n",
      "21 ('gunny', 'gyppy', 'aback') 157\n",
      "['jaffa', 'qajaq', 'babka', 'abaka', 'abaca', 'bacca', 'kabab', 'tazza', 'taata', 'aflaj', 'falaj', 'walla', 'kacha', 'aback', 'batta', 'afara', 'hatha', 'zakat', 'calla', 'fatwa', 'halal', 'jhala', 'lahal', 'bacha', 'jacal']\n",
      "False\n",
      "22 ('gunny', 'gyppy', 'aback') 157\n",
      "['jaffa', 'qajaq', 'babka', 'abaka', 'abaca', 'bacca', 'kabab', 'tazza', 'taata', 'aflaj', 'falaj', 'walla', 'kacha', 'aback', 'batta', 'afara', 'hatha', 'zakat', 'calla', 'fatwa', 'halal', 'jhala', 'lahal', 'bacha', 'jacal']\n",
      "False\n",
      "23 ('gunny', 'gyppy', 'aback') 157\n",
      "['jaffa', 'qajaq', 'babka', 'abaka', 'abaca', 'bacca', 'kabab', 'tazza', 'taata', 'aflaj', 'falaj', 'walla', 'kacha', 'aback', 'batta', 'afara', 'hatha', 'zakat', 'calla', 'fatwa', 'halal', 'jhala', 'lahal', 'bacha', 'jacal']\n",
      "False\n",
      "24 ('gunny', 'gyppy', 'aback') 157\n",
      "['jaffa', 'qajaq', 'babka', 'abaka', 'abaca', 'bacca', 'kabab', 'tazza', 'taata', 'aflaj', 'falaj', 'walla', 'kacha', 'aback', 'batta', 'afara', 'hatha', 'zakat', 'calla', 'fatwa', 'halal', 'jhala', 'lahal', 'bacha', 'jacal']\n",
      "False\n",
      "25 ('gunny', 'gyppy', 'aback') 157\n",
      "['jaffa', 'qajaq', 'babka', 'abaka', 'abaca', 'bacca', 'kabab', 'tazza', 'taata', 'aflaj', 'falaj', 'walla', 'kacha', 'aback', 'batta', 'afara', 'hatha', 'zakat', 'calla', 'fatwa', 'halal', 'jhala', 'lahal', 'bacha', 'jacal']\n",
      "False\n",
      "26 ('gunny', 'gyppy', 'aback') 157\n",
      "['jaffa', 'qajaq', 'babka', 'abaka', 'abaca', 'bacca', 'kabab', 'tazza', 'taata', 'aflaj', 'falaj', 'walla', 'kacha', 'aback', 'batta', 'afara', 'hatha', 'zakat', 'calla', 'fatwa', 'halal', 'jhala', 'lahal', 'bacha', 'jacal']\n",
      "False\n",
      "27 ('gunny', 'gyppy', 'aback') 157\n",
      "['jaffa', 'qajaq', 'babka', 'abaka', 'abaca', 'bacca', 'kabab', 'tazza', 'taata', 'aflaj', 'falaj', 'walla', 'kacha', 'aback', 'batta', 'afara', 'hatha', 'zakat', 'calla', 'fatwa', 'halal', 'jhala', 'lahal', 'bacha', 'jacal']\n",
      "False\n",
      "28 ('gunny', 'gyppy', 'aback') 157\n",
      "['jaffa', 'qajaq', 'babka', 'abaka', 'abaca', 'bacca', 'kabab', 'tazza', 'taata', 'aflaj', 'falaj', 'walla', 'kacha', 'aback', 'batta', 'afara', 'hatha', 'zakat', 'calla', 'fatwa', 'halal', 'jhala', 'lahal', 'bacha', 'jacal']\n",
      "False\n",
      "29 ('gunny', 'gyppy', 'aback') 157\n",
      "['jaffa', 'qajaq', 'babka', 'abaka', 'abaca', 'bacca', 'kabab', 'tazza', 'taata', 'aflaj', 'falaj', 'walla', 'kacha', 'aback', 'batta', 'afara', 'hatha', 'zakat', 'calla', 'fatwa', 'halal', 'jhala', 'lahal', 'bacha', 'jacal']\n",
      "False\n",
      "30 ('gunny', 'gyppy', 'aback') 157\n",
      "['jaffa', 'qajaq', 'babka', 'abaka', 'abaca', 'bacca', 'kabab', 'tazza', 'taata', 'aflaj', 'falaj', 'walla', 'kacha', 'aback', 'batta', 'afara', 'hatha', 'zakat', 'calla', 'fatwa', 'halal', 'jhala', 'lahal', 'bacha', 'jacal']\n",
      "False\n",
      "31 ('gunny', 'gyppy', 'aback') 157\n",
      "['jaffa', 'qajaq', 'babka', 'abaka', 'abaca', 'bacca', 'kabab', 'tazza', 'taata', 'aflaj', 'falaj', 'walla', 'kacha', 'aback', 'batta', 'afara', 'hatha', 'zakat', 'calla', 'fatwa', 'halal', 'jhala', 'lahal', 'bacha', 'jacal']\n",
      "False\n",
      "32 ('gunny', 'gyppy', 'aback') 157\n",
      "['jaffa', 'qajaq', 'babka', 'abaka', 'abaca', 'bacca', 'kabab', 'tazza', 'taata', 'aflaj', 'falaj', 'walla', 'kacha', 'aback', 'batta', 'afara', 'hatha', 'zakat', 'calla', 'fatwa', 'halal', 'jhala', 'lahal', 'bacha', 'jacal']\n",
      "False\n",
      "33 ('gunny', 'gyppy', 'aback') 157\n",
      "['jaffa', 'qajaq', 'babka', 'abaka', 'abaca', 'bacca', 'kabab', 'tazza', 'taata', 'aflaj', 'falaj', 'walla', 'kacha', 'aback', 'batta', 'afara', 'hatha', 'zakat', 'calla', 'fatwa', 'halal', 'jhala', 'lahal', 'bacha', 'jacal']\n",
      "False\n",
      "34 ('gunny', 'gyppy', 'aback') 157\n",
      "['jaffa', 'qajaq', 'babka', 'abaka', 'abaca', 'bacca', 'kabab', 'tazza', 'taata', 'aflaj', 'falaj', 'walla', 'kacha', 'aback', 'batta', 'afara', 'hatha', 'zakat', 'calla', 'fatwa', 'halal', 'jhala', 'lahal', 'bacha', 'jacal']\n",
      "False\n",
      "35 ('gunny', 'gyppy', 'aback') 157\n",
      "['jaffa', 'qajaq', 'babka', 'abaka', 'abaca', 'bacca', 'kabab', 'tazza', 'taata', 'aflaj', 'falaj', 'walla', 'kacha', 'aback', 'batta', 'afara', 'hatha', 'zakat', 'calla', 'fatwa', 'halal', 'jhala', 'lahal', 'bacha', 'jacal']\n",
      "False\n",
      "36 ('gunny', 'gyppy', 'aback') 157\n",
      "['jaffa', 'qajaq', 'babka', 'abaka', 'abaca', 'bacca', 'kabab', 'tazza', 'taata', 'aflaj', 'falaj', 'walla', 'kacha', 'aback', 'batta', 'afara', 'hatha', 'zakat', 'calla', 'fatwa', 'halal', 'jhala', 'lahal', 'bacha', 'jacal']\n",
      "False\n",
      "37 ('gunny', 'gyppy', 'aback') 157\n",
      "['jaffa', 'qajaq', 'babka', 'abaka', 'abaca', 'bacca', 'kabab', 'tazza', 'taata', 'aflaj', 'falaj', 'walla', 'kacha', 'aback', 'batta', 'afara', 'hatha', 'zakat', 'calla', 'fatwa', 'halal', 'jhala', 'lahal', 'bacha', 'jacal']\n",
      "False\n",
      "38 ('gunny', 'gyppy', 'aback') 157\n",
      "['jaffa', 'qajaq', 'babka', 'abaka', 'abaca', 'bacca', 'kabab', 'tazza', 'taata', 'aflaj', 'falaj', 'walla', 'kacha', 'aback', 'batta', 'afara', 'hatha', 'zakat', 'calla', 'fatwa', 'halal', 'jhala', 'lahal', 'bacha', 'jacal']\n",
      "False\n",
      "39 ('gunny', 'gyppy', 'aback') 157\n",
      "['jaffa', 'qajaq', 'babka', 'abaka', 'abaca', 'bacca', 'kabab', 'tazza', 'taata', 'aflaj', 'falaj', 'walla', 'kacha', 'aback', 'batta', 'afara', 'hatha', 'zakat', 'calla', 'fatwa', 'halal', 'jhala', 'lahal', 'bacha', 'jacal']\n",
      "False\n",
      "40 ('gunny', 'gyppy', 'aback') 157\n",
      "['jaffa', 'qajaq', 'babka', 'abaka', 'abaca', 'bacca', 'kabab', 'tazza', 'taata', 'aflaj', 'falaj', 'walla', 'kacha', 'aback', 'batta', 'afara', 'hatha', 'zakat', 'calla', 'fatwa', 'halal', 'jhala', 'lahal', 'bacha', 'jacal']\n",
      "False\n",
      "41 ('gunny', 'gyppy', 'aback') 157\n",
      "['jaffa', 'qajaq', 'babka', 'abaka', 'abaca', 'bacca', 'kabab', 'tazza', 'taata', 'aflaj', 'falaj', 'walla', 'kacha', 'aback', 'batta', 'afara', 'hatha', 'zakat', 'calla', 'fatwa', 'halal', 'jhala', 'lahal', 'bacha', 'jacal']\n",
      "False\n",
      "42 ('gunny', 'gyppy', 'aback') 157\n",
      "['jaffa', 'qajaq', 'babka', 'abaka', 'abaca', 'bacca', 'kabab', 'tazza', 'taata', 'aflaj', 'falaj', 'walla', 'kacha', 'aback', 'batta', 'afara', 'hatha', 'zakat', 'calla', 'fatwa', 'halal', 'jhala', 'lahal', 'bacha', 'jacal']\n",
      "False\n",
      "43 ('gunny', 'gyppy', 'aback') 157\n",
      "['jaffa', 'qajaq', 'babka', 'abaka', 'abaca', 'bacca', 'kabab', 'tazza', 'taata', 'aflaj', 'falaj', 'walla', 'kacha', 'aback', 'batta', 'afara', 'hatha', 'zakat', 'calla', 'fatwa', 'halal', 'jhala', 'lahal', 'bacha', 'jacal']\n",
      "False\n",
      "44 ('gunny', 'gyppy', 'aback') 157\n",
      "['jaffa', 'qajaq', 'babka', 'abaka', 'abaca', 'bacca', 'kabab', 'tazza', 'taata', 'aflaj', 'falaj', 'walla', 'kacha', 'aback', 'batta', 'afara', 'hatha', 'zakat', 'calla', 'fatwa', 'halal', 'jhala', 'lahal', 'bacha', 'jacal']\n",
      "False\n",
      "45 ('gunny', 'gyppy', 'aback') 157\n",
      "['jaffa', 'qajaq', 'babka', 'abaka', 'abaca', 'bacca', 'kabab', 'tazza', 'taata', 'aflaj', 'falaj', 'walla', 'kacha', 'aback', 'batta', 'afara', 'hatha', 'zakat', 'calla', 'fatwa', 'halal', 'jhala', 'lahal', 'bacha', 'jacal']\n",
      "False\n",
      "46 ('gunny', 'gyppy', 'aback') 157\n",
      "['jaffa', 'qajaq', 'babka', 'abaka', 'abaca', 'bacca', 'kabab', 'tazza', 'taata', 'aflaj', 'falaj', 'walla', 'kacha', 'aback', 'batta', 'afara', 'hatha', 'zakat', 'calla', 'fatwa', 'halal', 'jhala', 'lahal', 'bacha', 'jacal']\n",
      "False\n",
      "47 ('gunny', 'gyppy', 'aback') 157\n",
      "['jaffa', 'qajaq', 'babka', 'abaka', 'abaca', 'bacca', 'kabab', 'tazza', 'taata', 'aflaj', 'falaj', 'walla', 'kacha', 'aback', 'batta', 'afara', 'hatha', 'zakat', 'calla', 'fatwa', 'halal', 'jhala', 'lahal', 'bacha', 'jacal']\n",
      "False\n",
      "48 ('gunny', 'gyppy', 'aback') 157\n",
      "['jaffa', 'qajaq', 'babka', 'abaka', 'abaca', 'bacca', 'kabab', 'tazza', 'taata', 'aflaj', 'falaj', 'walla', 'kacha', 'aback', 'batta', 'afara', 'hatha', 'zakat', 'calla', 'fatwa', 'halal', 'jhala', 'lahal', 'bacha', 'jacal']\n",
      "False\n",
      "49 ('gunny', 'gyppy', 'aback') 157\n",
      "['jaffa', 'qajaq', 'babka', 'abaka', 'abaca', 'bacca', 'kabab', 'tazza', 'taata', 'aflaj', 'falaj', 'walla', 'kacha', 'aback', 'batta', 'afara', 'hatha', 'zakat', 'calla', 'fatwa', 'halal', 'jhala', 'lahal', 'bacha', 'jacal']\n",
      "False\n",
      "50 ('gunny', 'gyppy', 'aback') 157\n",
      "['jaffa', 'qajaq', 'babka', 'abaka', 'abaca', 'bacca', 'kabab', 'tazza', 'taata', 'aflaj', 'falaj', 'walla', 'kacha', 'aback', 'batta', 'afara', 'hatha', 'zakat', 'calla', 'fatwa', 'halal', 'jhala', 'lahal', 'bacha', 'jacal']\n",
      "False\n",
      "51 ('gunny', 'gyppy', 'aback') 157\n",
      "['jaffa', 'qajaq', 'babka', 'abaka', 'abaca', 'bacca', 'kabab', 'tazza', 'taata', 'aflaj', 'falaj', 'walla', 'kacha', 'aback', 'batta', 'afara', 'hatha', 'zakat', 'calla', 'fatwa', 'halal', 'jhala', 'lahal', 'bacha', 'jacal']\n",
      "False\n",
      "52 ('gunny', 'gyppy', 'aback') 157\n",
      "['jaffa', 'qajaq', 'babka', 'abaka', 'abaca', 'bacca', 'kabab', 'tazza', 'taata', 'aflaj', 'falaj', 'walla', 'kacha', 'aback', 'batta', 'afara', 'hatha', 'zakat', 'calla', 'fatwa', 'halal', 'jhala', 'lahal', 'bacha', 'jacal']\n",
      "False\n",
      "53 ('gunny', 'gyppy', 'aback') 157\n",
      "['jaffa', 'qajaq', 'babka', 'abaka', 'abaca', 'bacca', 'kabab', 'tazza', 'taata', 'aflaj', 'falaj', 'walla', 'kacha', 'aback', 'batta', 'afara', 'hatha', 'zakat', 'calla', 'fatwa', 'halal', 'jhala', 'lahal', 'bacha', 'jacal']\n",
      "False\n",
      "54 ('gunny', 'gyppy', 'aback') 157\n",
      "['jaffa', 'qajaq', 'babka', 'abaka', 'abaca', 'bacca', 'kabab', 'tazza', 'taata', 'aflaj', 'falaj', 'walla', 'kacha', 'aback', 'batta', 'afara', 'hatha', 'zakat', 'calla', 'fatwa', 'halal', 'jhala', 'lahal', 'bacha', 'jacal']\n",
      "False\n",
      "55 ('gunny', 'gyppy', 'aback') 157\n",
      "['jaffa', 'qajaq', 'babka', 'abaka', 'abaca', 'bacca', 'kabab', 'tazza', 'taata', 'aflaj', 'falaj', 'walla', 'kacha', 'aback', 'batta', 'afara', 'hatha', 'zakat', 'calla', 'fatwa', 'halal', 'jhala', 'lahal', 'bacha', 'jacal']\n",
      "False\n",
      "56 ('gunny', 'gyppy', 'aback') 157\n",
      "['jaffa', 'qajaq', 'babka', 'abaka', 'abaca', 'bacca', 'kabab', 'tazza', 'taata', 'aflaj', 'falaj', 'walla', 'kacha', 'aback', 'batta', 'afara', 'hatha', 'zakat', 'calla', 'fatwa', 'halal', 'jhala', 'lahal', 'bacha', 'jacal']\n",
      "False\n",
      "57 ('gunny', 'gyppy', 'aback') 157\n",
      "['jaffa', 'qajaq', 'babka', 'abaka', 'abaca', 'bacca', 'kabab', 'tazza', 'taata', 'aflaj', 'falaj', 'walla', 'kacha', 'aback', 'batta', 'afara', 'hatha', 'zakat', 'calla', 'fatwa', 'halal', 'jhala', 'lahal', 'bacha', 'jacal']\n",
      "False\n",
      "58 ('gunny', 'gyppy', 'aback') 157\n",
      "['jaffa', 'qajaq', 'babka', 'abaka', 'abaca', 'bacca', 'kabab', 'tazza', 'taata', 'aflaj', 'falaj', 'walla', 'kacha', 'aback', 'batta', 'afara', 'hatha', 'zakat', 'calla', 'fatwa', 'halal', 'jhala', 'lahal', 'bacha', 'jacal']\n",
      "False\n",
      "59 ('gunny', 'gyppy', 'aback') 157\n",
      "['jaffa', 'qajaq', 'babka', 'abaka', 'abaca', 'bacca', 'kabab', 'tazza', 'taata', 'aflaj', 'falaj', 'walla', 'kacha', 'aback', 'batta', 'afara', 'hatha', 'zakat', 'calla', 'fatwa', 'halal', 'jhala', 'lahal', 'bacha', 'jacal']\n",
      "False\n",
      "60 ('gunny', 'gyppy', 'aback') 157\n",
      "['jaffa', 'qajaq', 'babka', 'abaka', 'abaca', 'bacca', 'kabab', 'tazza', 'taata', 'aflaj', 'falaj', 'walla', 'kacha', 'aback', 'batta', 'afara', 'hatha', 'zakat', 'calla', 'fatwa', 'halal', 'jhala', 'lahal', 'bacha', 'jacal']\n",
      "False\n",
      "61 ('gunny', 'gyppy', 'aback') 157\n",
      "['jaffa', 'qajaq', 'babka', 'abaka', 'abaca', 'bacca', 'kabab', 'tazza', 'taata', 'aflaj', 'falaj', 'walla', 'kacha', 'aback', 'batta', 'afara', 'hatha', 'zakat', 'calla', 'fatwa', 'halal', 'jhala', 'lahal', 'bacha', 'jacal']\n",
      "False\n",
      "62 ('gunny', 'gyppy', 'aback') 157\n",
      "['jaffa', 'qajaq', 'babka', 'abaka', 'abaca', 'bacca', 'kabab', 'tazza', 'taata', 'aflaj', 'falaj', 'walla', 'kacha', 'aback', 'batta', 'afara', 'hatha', 'zakat', 'calla', 'fatwa', 'halal', 'jhala', 'lahal', 'bacha', 'jacal']\n"
     ]
    },
    {
     "name": "stderr",
     "output_type": "stream",
     "text": [
      "  0%|                                                                                          | 0/12970 [00:01<?, ?it/s]\n",
      "  0%|                                                                                           | 0/2313 [00:01<?, ?it/s]"
     ]
    },
    {
     "name": "stdout",
     "output_type": "stream",
     "text": [
      "False\n",
      "63 ('gunny', 'gyppy', 'aback') 157\n",
      "['jaffa', 'qajaq', 'babka', 'abaka', 'abaca', 'bacca', 'kabab', 'tazza', 'taata', 'aflaj', 'falaj', 'walla', 'kacha', 'aback', 'batta', 'afara', 'hatha', 'zakat', 'calla', 'fatwa', 'halal', 'jhala', 'lahal', 'bacha', 'jacal']\n",
      "False\n",
      "64 ('gunny', 'gyppy', 'aback') 157\n",
      "['jaffa', 'qajaq', 'babka', 'abaka', 'abaca', 'bacca', 'kabab', 'tazza', 'taata', 'aflaj', 'falaj', 'walla', 'kacha', 'aback', 'batta', 'afara', 'hatha', 'zakat', 'calla', 'fatwa', 'halal', 'jhala', 'lahal', 'bacha', 'jacal']\n",
      "False\n",
      "65 ('gunny', 'gyppy', 'aback') 157\n"
     ]
    },
    {
     "name": "stderr",
     "output_type": "stream",
     "text": [
      "\n"
     ]
    },
    {
     "ename": "KeyboardInterrupt",
     "evalue": "",
     "output_type": "error",
     "traceback": [
      "\u001b[0;31m---------------------------------------------------------------------------\u001b[0m",
      "\u001b[0;31mKeyboardInterrupt\u001b[0m                         Traceback (most recent call last)",
      "Cell \u001b[0;32mIn[86], line 52\u001b[0m\n\u001b[1;32m     50\u001b[0m batched_game \u001b[38;5;241m=\u001b[39m AntiWordle(batched\u001b[38;5;241m=\u001b[39m\u001b[38;5;28;01mTrue\u001b[39;00m)\n\u001b[1;32m     51\u001b[0m mc_gamer \u001b[38;5;241m=\u001b[39m GreedyExpected(num_rollouts\u001b[38;5;241m=\u001b[39m\u001b[38;5;241m10\u001b[39m)\n\u001b[0;32m---> 52\u001b[0m \u001b[43mmc_gamer\u001b[49m\u001b[38;5;241;43m.\u001b[39;49m\u001b[43mexplore\u001b[49m\u001b[43m(\u001b[49m\u001b[43mbatched_game\u001b[49m\u001b[43m)\u001b[49m\n",
      "Cell \u001b[0;32mIn[86], line 41\u001b[0m, in \u001b[0;36mGreedyExpected.explore\u001b[0;34m(self, game)\u001b[0m\n\u001b[1;32m     39\u001b[0m \u001b[38;5;28;01mfor\u001b[39;00m _ \u001b[38;5;129;01min\u001b[39;00m \u001b[38;5;28mrange\u001b[39m(\u001b[38;5;28mself\u001b[39m\u001b[38;5;241m.\u001b[39mnum_rollouts): \u001b[38;5;66;03m# num rollouts\u001b[39;00m\n\u001b[1;32m     40\u001b[0m     \u001b[38;5;28mprint\u001b[39m(\u001b[38;5;124m\"\u001b[39m\u001b[38;5;124mhi\u001b[39m\u001b[38;5;124m\"\u001b[39m)\n\u001b[0;32m---> 41\u001b[0m     \u001b[38;5;28mself\u001b[39m\u001b[38;5;241m.\u001b[39mword_to_game_lens[potential_guess]\u001b[38;5;241m.\u001b[39mappend(\u001b[38;5;28;43mself\u001b[39;49m\u001b[38;5;241;43m.\u001b[39;49m\u001b[43mrollout_game\u001b[49m\u001b[43m(\u001b[49m\u001b[43mgame\u001b[49m\u001b[43m,\u001b[49m\u001b[43m \u001b[49m\u001b[43mpotential_guess\u001b[49m\u001b[43m)\u001b[49m)\n\u001b[1;32m     42\u001b[0m     game\u001b[38;5;241m.\u001b[39mrestore_state(\u001b[38;5;241m*\u001b[39mstate_now)\n\u001b[1;32m     43\u001b[0m game\u001b[38;5;241m.\u001b[39mrestore_state(\u001b[38;5;241m*\u001b[39mstart_state)\n",
      "Cell \u001b[0;32mIn[86], line 26\u001b[0m, in \u001b[0;36mGreedyExpected.rollout_game\u001b[0;34m(self, game, first_word)\u001b[0m\n\u001b[1;32m     24\u001b[0m     \u001b[38;5;28mprint\u001b[39m(\u001b[38;5;124m\"\u001b[39m\u001b[38;5;124mgame done, return =\u001b[39m\u001b[38;5;124m\"\u001b[39m, game\u001b[38;5;241m.\u001b[39mround)\n\u001b[1;32m     25\u001b[0m     \u001b[38;5;28;01mreturn\u001b[39;00m result\n\u001b[0;32m---> 26\u001b[0m \u001b[38;5;28;01mreturn\u001b[39;00m \u001b[38;5;28;43mself\u001b[39;49m\u001b[38;5;241;43m.\u001b[39;49m\u001b[43mrollout_game\u001b[49m\u001b[43m(\u001b[49m\u001b[43mgame\u001b[49m\u001b[43m,\u001b[49m\u001b[43m \u001b[49m\u001b[43mfirst_word\u001b[49m\u001b[43m)\u001b[49m\n",
      "Cell \u001b[0;32mIn[86], line 26\u001b[0m, in \u001b[0;36mGreedyExpected.rollout_game\u001b[0;34m(self, game, first_word)\u001b[0m\n\u001b[1;32m     24\u001b[0m     \u001b[38;5;28mprint\u001b[39m(\u001b[38;5;124m\"\u001b[39m\u001b[38;5;124mgame done, return =\u001b[39m\u001b[38;5;124m\"\u001b[39m, game\u001b[38;5;241m.\u001b[39mround)\n\u001b[1;32m     25\u001b[0m     \u001b[38;5;28;01mreturn\u001b[39;00m result\n\u001b[0;32m---> 26\u001b[0m \u001b[38;5;28;01mreturn\u001b[39;00m \u001b[38;5;28;43mself\u001b[39;49m\u001b[38;5;241;43m.\u001b[39;49m\u001b[43mrollout_game\u001b[49m\u001b[43m(\u001b[49m\u001b[43mgame\u001b[49m\u001b[43m,\u001b[49m\u001b[43m \u001b[49m\u001b[43mfirst_word\u001b[49m\u001b[43m)\u001b[49m\n",
      "    \u001b[0;31m[... skipping similar frames: GreedyExpected.rollout_game at line 26 (60 times)]\u001b[0m\n",
      "Cell \u001b[0;32mIn[86], line 26\u001b[0m, in \u001b[0;36mGreedyExpected.rollout_game\u001b[0;34m(self, game, first_word)\u001b[0m\n\u001b[1;32m     24\u001b[0m     \u001b[38;5;28mprint\u001b[39m(\u001b[38;5;124m\"\u001b[39m\u001b[38;5;124mgame done, return =\u001b[39m\u001b[38;5;124m\"\u001b[39m, game\u001b[38;5;241m.\u001b[39mround)\n\u001b[1;32m     25\u001b[0m     \u001b[38;5;28;01mreturn\u001b[39;00m result\n\u001b[0;32m---> 26\u001b[0m \u001b[38;5;28;01mreturn\u001b[39;00m \u001b[38;5;28;43mself\u001b[39;49m\u001b[38;5;241;43m.\u001b[39;49m\u001b[43mrollout_game\u001b[49m\u001b[43m(\u001b[49m\u001b[43mgame\u001b[49m\u001b[43m,\u001b[49m\u001b[43m \u001b[49m\u001b[43mfirst_word\u001b[49m\u001b[43m)\u001b[49m\n",
      "Cell \u001b[0;32mIn[86], line 21\u001b[0m, in \u001b[0;36mGreedyExpected.rollout_game\u001b[0;34m(self, game, first_word)\u001b[0m\n\u001b[1;32m     19\u001b[0m result \u001b[38;5;241m=\u001b[39m game\u001b[38;5;241m.\u001b[39mplay_word(word)\n\u001b[1;32m     20\u001b[0m \u001b[38;5;28mprint\u001b[39m(game\u001b[38;5;241m.\u001b[39mround, (word, first_word, game\u001b[38;5;241m.\u001b[39manswer), \u001b[38;5;28mlen\u001b[39m(game\u001b[38;5;241m.\u001b[39mremaining_words))\n\u001b[0;32m---> 21\u001b[0m viable_words \u001b[38;5;241m=\u001b[39m \u001b[43mgame\u001b[49m\u001b[38;5;241;43m.\u001b[39;49m\u001b[43mremaining_words\u001b[49m\u001b[38;5;241;43m.\u001b[39;49m\u001b[43mall_words\u001b[49m\u001b[43m(\u001b[49m\u001b[43m)\u001b[49m\n\u001b[1;32m     22\u001b[0m \u001b[38;5;28mprint\u001b[39m(viable_words[:\u001b[38;5;28mmin\u001b[39m(\u001b[38;5;241m25\u001b[39m, \u001b[38;5;28mlen\u001b[39m(viable_words))])\n\u001b[1;32m     23\u001b[0m \u001b[38;5;28;01mif\u001b[39;00m result \u001b[38;5;241m>\u001b[39m \u001b[38;5;241m0\u001b[39m:\n",
      "Cell \u001b[0;32mIn[77], line 79\u001b[0m, in \u001b[0;36mFastWordList.all_words\u001b[0;34m(self)\u001b[0m\n\u001b[1;32m     77\u001b[0m word_list \u001b[38;5;241m=\u001b[39m []\n\u001b[1;32m     78\u001b[0m \u001b[38;5;28;01mfor\u001b[39;00m word \u001b[38;5;129;01min\u001b[39;00m allowed_words:\n\u001b[0;32m---> 79\u001b[0m     \u001b[38;5;28;01mif\u001b[39;00m \u001b[43mword\u001b[49m\u001b[43m \u001b[49m\u001b[38;5;129;43;01min\u001b[39;49;00m\u001b[43m \u001b[49m\u001b[38;5;28;43mself\u001b[39;49m:\n\u001b[1;32m     80\u001b[0m         word_list\u001b[38;5;241m.\u001b[39mappend(word)\n\u001b[1;32m     81\u001b[0m \u001b[38;5;28;01mreturn\u001b[39;00m word_list\n",
      "Cell \u001b[0;32mIn[77], line 52\u001b[0m, in \u001b[0;36mFastWordList.__contains__\u001b[0;34m(self, word)\u001b[0m\n\u001b[1;32m     49\u001b[0m                 \u001b[38;5;28mself\u001b[39m\u001b[38;5;241m.\u001b[39mremaining_words[greater_let_to_words[num][let]] \u001b[38;5;241m=\u001b[39m \u001b[38;5;241m0\u001b[39m  \u001b[38;5;66;03m# remove all words that > num occurences of let\u001b[39;00m\n\u001b[1;32m     50\u001b[0m     g_profiler\u001b[38;5;241m.\u001b[39mbenchmark(\u001b[38;5;124mf\u001b[39m\u001b[38;5;124m\"\u001b[39m\u001b[38;5;124mupper_bounds_\u001b[39m\u001b[38;5;132;01m{\u001b[39;00mcurr_round\u001b[38;5;132;01m}\u001b[39;00m\u001b[38;5;124m\"\u001b[39m)\n\u001b[0;32m---> 52\u001b[0m \u001b[38;5;28;01mdef\u001b[39;00m \u001b[38;5;21m__contains__\u001b[39m(\u001b[38;5;28mself\u001b[39m, word):\n\u001b[1;32m     53\u001b[0m     \u001b[38;5;28;01mif\u001b[39;00m \u001b[38;5;28mself\u001b[39m\u001b[38;5;241m.\u001b[39mbatched:\n\u001b[1;32m     54\u001b[0m         bucket,bit_mask \u001b[38;5;241m=\u001b[39m batched_word_to_idx[word]\n",
      "\u001b[0;31mKeyboardInterrupt\u001b[0m: "
     ]
    }
   ],
   "source": [
    "class GreedyExpected():\n",
    "    def __init__(self, num_rollouts=30):\n",
    "        self.num_rollouts = num_rollouts\n",
    "        self.reset()\n",
    "\n",
    "    def reset(self):\n",
    "        self.word_to_game_lens = {w: [] for w in allowed_words}\n",
    "        self.explored = defaultdict(set)  # round -> tuple\n",
    "\n",
    "    def rollout_game(self, game: AntiWordle, first_word):\n",
    "        for word in game.remaining_words.iter_words(sparse=(game.round >= 2)):\n",
    "            if word not in self.explored[(game.round, first_word, game.answer)]:\n",
    "                break\n",
    "        else:\n",
    "            print(\"resorting to random from already explored\")\n",
    "            word = self.explored[(game.round, first_word, game.answer)].pop()  # pick some random element if we've already explored everything\n",
    "        self.explored[(game.round, first_word, game.answer)].add(word)\n",
    "        print(word in game.remaining_words)\n",
    "        result = game.play_word(word)\n",
    "        print(game.round, (word, first_word, game.answer), len(game.remaining_words))\n",
    "        viable_words = game.remaining_words.all_words()\n",
    "        print(viable_words[:min(25, len(viable_words))])\n",
    "        if result > 0:\n",
    "            print(\"game done, return =\", game.round)\n",
    "            return result\n",
    "        return self.rollout_game(game, first_word)\n",
    "\n",
    "\n",
    "    def explore(self, game):\n",
    "        game.speculate()\n",
    "        start_state = game.save_state()\n",
    "        for potential_answer in tqdm(answer_words):\n",
    "            game.answer = potential_answer\n",
    "            for potential_guess in tqdm(allowed_words):\n",
    "                if potential_guess not in game.remaining_words or potential_guess == potential_answer:\n",
    "                    continue\n",
    "                game.play_word(potential_guess) # we are now in a specific (answer, [first_word]) state\n",
    "                state_now = game.save_state()\n",
    "                for _ in range(self.num_rollouts): # num rollouts\n",
    "                    print(\"hi\")\n",
    "                    self.word_to_game_lens[potential_guess].append(self.rollout_game(game, potential_guess))\n",
    "                    game.restore_state(*state_now)\n",
    "                game.restore_state(*start_state)\n",
    "                break\n",
    "            break\n",
    "    def save_self(self):\n",
    "        import pickle\n",
    "        with open(\"distributions.dict\", \"wb\") as p:\n",
    "            pickle.dump(self.word_to_game_lens, p)\n",
    "batched_game = AntiWordle(batched=True)\n",
    "mc_gamer = GreedyExpected(num_rollouts=10)\n",
    "mc_gamer.explore(batched_game)"
   ]
  },
  {
   "cell_type": "code",
   "execution_count": null,
   "id": "663ee9ac-3609-4005-878b-d36036f2602c",
   "metadata": {},
   "outputs": [
    {
     "name": "stderr",
     "output_type": "stream",
     "text": [
      "  0%|                                                                                           | 0/2313 [00:00<?, ?it/s]"
     ]
    }
   ],
   "source": []
  },
  {
   "cell_type": "code",
   "execution_count": 12,
   "id": "4cd1efb9-fc00-4d06-b806-2dbbde8cc402",
   "metadata": {},
   "outputs": [],
   "source": [
    "class HumanStrategy():\n",
    "    def __init__(self):\n",
    "        self.reset()\n",
    "\n",
    "    def reset(self):\n",
    "        pass\n",
    "\n",
    "    def guess(self, game):\n",
    "        print(game)\n",
    "        human = input(\"Guess word: \").lower()\n",
    "        while human not in allowed_words:\n",
    "            print(f\"*{allowed_words[200]}*, #{human}#\")\n",
    "            print(\"Word is not in allowed word list\")\n",
    "            print(game)\n",
    "            human = input(\"Guess word: \").lower()\n",
    "        return human"
   ]
  },
  {
   "cell_type": "code",
   "execution_count": 13,
   "id": "7b61c022-963e-4cdd-b1e9-9589a0f73fa8",
   "metadata": {},
   "outputs": [],
   "source": [
    "def play_antiwordle(game, strategy):\n",
    "    game.reset()\n",
    "    result = game.CONTINUE\n",
    "    while result < 0: # either CONTINUE or INVALID_WORD\n",
    "        word_guess = strategy.guess(game)\n",
    "        #print(\"Attempting guess of\", word_guess)\n",
    "        #print(game)\n",
    "        result = game.play_word(word_guess)\n",
    "        break\n",
    "    return result\n",
    "\n",
    "def evaluate_strategy(strategy, iterate=True, profile=False):\n",
    "    total = 0\n",
    "    game = AntiWordle()\n",
    "    g_profiler.profile = profile\n",
    "    if not iterate:\n",
    "        looper = answer_words[:1]\n",
    "    else:\n",
    "        looper = answer_words\n",
    "    for answer in tqdm(looper):\n",
    "        strategy.reset()\n",
    "        game.reset()\n",
    "        game.answer = answer\n",
    "        total += play_antiwordle(game, strategy)\n",
    "        break\n",
    "    print(\"Average number of rounds lasted:\", total/len(answer_words))\n",
    "    if profile:\n",
    "        print(g_profiler)\n"
   ]
  },
  {
   "cell_type": "code",
   "execution_count": 72,
   "id": "2cb642c0-0556-4aa2-8d0d-223926ab6159",
   "metadata": {},
   "outputs": [
    {
     "name": "stdout",
     "output_type": "stream",
     "text": [
      "Stored 'gamer_word_to_expected_len' (dict)\n",
      "Stored 'word_to_num_wins' (dict)\n",
      "Stored 'word_max_relation_mat' (ndarray)\n",
      "Stored 'word_priority' (list)\n"
     ]
    }
   ],
   "source": [
    "# store important values\n",
    "gamer_word_to_expected_len = gamer.word_to_expected_len # alias\n",
    "word_max_relation_mat = word_max_relation_mat.astype(np.bool_)\n",
    "%store gamer_word_to_expected_len word_to_num_wins word_max_relation_mat word_priority"
   ]
  },
  {
   "cell_type": "code",
   "execution_count": 11,
   "id": "51b7ac22-8c36-477d-b9a3-417d2f91867b",
   "metadata": {},
   "outputs": [],
   "source": [
    "# Restore all values\n",
    "%store -r gamer_word_to_expected_len word_to_num_wins word_max_relation_mat word_priority"
   ]
  },
  {
   "cell_type": "code",
   "execution_count": 25,
   "id": "53e9f606-bf04-48f5-971e-30dbe1cb75a5",
   "metadata": {},
   "outputs": [
    {
     "data": {
      "text/plain": [
       "('pzazz', Counter({'p': 1, 'z': 3, 'a': 1}))"
      ]
     },
     "execution_count": 25,
     "metadata": {},
     "output_type": "execute_result"
    }
   ],
   "source": [
    "max(num_letters.items(), key=lambda x: max(x[1].items(), key=lambda y: y[1]))"
   ]
  },
  {
   "cell_type": "code",
   "execution_count": 100,
   "id": "0560bb12-5883-4a22-8093-41a56d5e4422",
   "metadata": {},
   "outputs": [
    {
     "name": "stdout",
     "output_type": "stream",
     "text": [
      "Best word: gyppy\n"
     ]
    },
    {
     "name": "stdin",
     "output_type": "stream",
     "text": [
      "Any new green letters (input as 'c0|r1|a2' or 'n' if none n\n"
     ]
    },
    {
     "name": "stdout",
     "output_type": "stream",
     "text": [
      "If you know if there is >=1 b, type b>0, if there is <=1 b, type b<=1 (or b<1 => can type b<0 if no b's in the word)). Do a | separated list of such things\n"
     ]
    },
    {
     "name": "stdin",
     "output_type": "stream",
     "text": [
      "Any new info on bounds (include greens) ('n' if none)? g<0|y<0|p<0\n"
     ]
    },
    {
     "name": "stdout",
     "output_type": "stream",
     "text": [
      "Best word: bluff\n"
     ]
    },
    {
     "name": "stdin",
     "output_type": "stream",
     "text": [
      "Any new green letters (input as 'c0|r1|a2' or 'n' if none n\n"
     ]
    },
    {
     "name": "stdout",
     "output_type": "stream",
     "text": [
      "If you know if there is >=1 b, type b>0, if there is <=1 b, type b<=1 (or b<1 => can type b<0 if no b's in the word)). Do a | separated list of such things\n"
     ]
    },
    {
     "name": "stdin",
     "output_type": "stream",
     "text": [
      "Any new info on bounds (include greens) ('n' if none)? b<0|l<0|f<0\n"
     ]
    },
    {
     "name": "stdout",
     "output_type": "stream",
     "text": [
      "Best word: chuck\n"
     ]
    },
    {
     "name": "stdin",
     "output_type": "stream",
     "text": [
      "Any new green letters (input as 'c0|r1|a2' or 'n' if none n\n"
     ]
    },
    {
     "name": "stdout",
     "output_type": "stream",
     "text": [
      "If you know if there is >=1 b, type b>0, if there is <=1 b, type b<=1 (or b<1 => can type b<0 if no b's in the word)). Do a | separated list of such things\n"
     ]
    },
    {
     "name": "stdin",
     "output_type": "stream",
     "text": [
      "Any new info on bounds (include greens) ('n' if none)? u<0\n"
     ]
    },
    {
     "name": "stdout",
     "output_type": "stream",
     "text": [
      "Best word: civic\n"
     ]
    },
    {
     "name": "stdin",
     "output_type": "stream",
     "text": [
      "Any new green letters (input as 'c0|r1|a2' or 'n' if none n\n"
     ]
    },
    {
     "name": "stdout",
     "output_type": "stream",
     "text": [
      "If you know if there is >=1 b, type b>0, if there is <=1 b, type b<=1 (or b<1 => can type b<0 if no b's in the word)). Do a | separated list of such things\n"
     ]
    },
    {
     "name": "stdin",
     "output_type": "stream",
     "text": [
      "Any new info on bounds (include greens) ('n' if none)? c<0|i<0|v<0\n"
     ]
    },
    {
     "name": "stdout",
     "output_type": "stream",
     "text": [
      "Best word: mamma\n"
     ]
    },
    {
     "name": "stdin",
     "output_type": "stream",
     "text": [
      "Any new green letters (input as 'c0|r1|a2' or 'n' if none m0\n"
     ]
    },
    {
     "name": "stdout",
     "output_type": "stream",
     "text": [
      "rules submitted were [('m', 0)]\n",
      "If you know if there is >=1 b, type b>0, if there is <=1 b, type b<=1 (or b<1 => can type b<0 if no b's in the word)). Do a | separated list of such things\n"
     ]
    },
    {
     "name": "stdin",
     "output_type": "stream",
     "text": [
      "Any new info on bounds (include greens) ('n' if none)? a<0|m>0|m<=1\n"
     ]
    },
    {
     "name": "stdout",
     "output_type": "stream",
     "text": [
      "Best word: motto\n"
     ]
    },
    {
     "name": "stdin",
     "output_type": "stream",
     "text": [
      "Any new green letters (input as 'c0|r1|a2' or 'n' if none t2\n"
     ]
    },
    {
     "name": "stdout",
     "output_type": "stream",
     "text": [
      "rules submitted were [('t', 2)]\n",
      "If you know if there is >=1 b, type b>0, if there is <=1 b, type b<=1 (or b<1 => can type b<0 if no b's in the word)). Do a | separated list of such things\n"
     ]
    },
    {
     "name": "stdin",
     "output_type": "stream",
     "text": [
      "Any new info on bounds (include greens) ('n' if none)? o<0|t>0|t<=1\n"
     ]
    },
    {
     "name": "stdout",
     "output_type": "stream",
     "text": [
      "Best word: meted\n"
     ]
    },
    {
     "name": "stdin",
     "output_type": "stream",
     "text": [
      "Any new green letters (input as 'c0|r1|a2' or 'n' if none e1|e3\n"
     ]
    },
    {
     "name": "stdout",
     "output_type": "stream",
     "text": [
      "rules submitted were [('e', 1), ('e', 3)]\n",
      "If you know if there is >=1 b, type b>0, if there is <=1 b, type b<=1 (or b<1 => can type b<0 if no b's in the word)). Do a | separated list of such things\n"
     ]
    },
    {
     "name": "stdin",
     "output_type": "stream",
     "text": [
      "Any new info on bounds (include greens) ('n' if none)? e>1|d<0\n"
     ]
    },
    {
     "name": "stdout",
     "output_type": "stream",
     "text": [
      "Best word: meter\n"
     ]
    },
    {
     "ename": "KeyboardInterrupt",
     "evalue": "Interrupted by user",
     "output_type": "error",
     "traceback": [
      "\u001b[0;31m---------------------------------------------------------------------------\u001b[0m",
      "\u001b[0;31mKeyboardInterrupt\u001b[0m                         Traceback (most recent call last)",
      "Cell \u001b[0;32mIn[100], line 7\u001b[0m\n\u001b[1;32m      5\u001b[0m         \u001b[38;5;28mprint\u001b[39m(\u001b[38;5;124m\"\u001b[39m\u001b[38;5;124mBest word:\u001b[39m\u001b[38;5;124m\"\u001b[39m, word)\n\u001b[1;32m      6\u001b[0m         \u001b[38;5;28;01mbreak\u001b[39;00m\n\u001b[0;32m----> 7\u001b[0m green_resp \u001b[38;5;241m=\u001b[39m \u001b[38;5;28;43minput\u001b[39;49m\u001b[43m(\u001b[49m\u001b[38;5;124;43m\"\u001b[39;49m\u001b[38;5;124;43mAny new green letters (input as \u001b[39;49m\u001b[38;5;124;43m'\u001b[39;49m\u001b[38;5;124;43mc0|r1|a2\u001b[39;49m\u001b[38;5;124;43m'\u001b[39;49m\u001b[38;5;124;43m or \u001b[39;49m\u001b[38;5;124;43m'\u001b[39;49m\u001b[38;5;124;43mn\u001b[39;49m\u001b[38;5;124;43m'\u001b[39;49m\u001b[38;5;124;43m if none\u001b[39;49m\u001b[38;5;124;43m\"\u001b[39;49m\u001b[43m)\u001b[49m\n\u001b[1;32m      8\u001b[0m green_updates \u001b[38;5;241m=\u001b[39m []\n\u001b[1;32m      9\u001b[0m \u001b[38;5;28;01mif\u001b[39;00m green_resp \u001b[38;5;241m!=\u001b[39m \u001b[38;5;124m\"\u001b[39m\u001b[38;5;124mn\u001b[39m\u001b[38;5;124m\"\u001b[39m:\n",
      "File \u001b[0;32m~/Code/jupyter_venv/lib/python3.10/site-packages/ipykernel/kernelbase.py:1175\u001b[0m, in \u001b[0;36mKernel.raw_input\u001b[0;34m(self, prompt)\u001b[0m\n\u001b[1;32m   1171\u001b[0m \u001b[38;5;28;01mif\u001b[39;00m \u001b[38;5;129;01mnot\u001b[39;00m \u001b[38;5;28mself\u001b[39m\u001b[38;5;241m.\u001b[39m_allow_stdin:\n\u001b[1;32m   1172\u001b[0m     \u001b[38;5;28;01mraise\u001b[39;00m StdinNotImplementedError(\n\u001b[1;32m   1173\u001b[0m         \u001b[38;5;124m\"\u001b[39m\u001b[38;5;124mraw_input was called, but this frontend does not support input requests.\u001b[39m\u001b[38;5;124m\"\u001b[39m\n\u001b[1;32m   1174\u001b[0m     )\n\u001b[0;32m-> 1175\u001b[0m \u001b[38;5;28;01mreturn\u001b[39;00m \u001b[38;5;28;43mself\u001b[39;49m\u001b[38;5;241;43m.\u001b[39;49m\u001b[43m_input_request\u001b[49m\u001b[43m(\u001b[49m\n\u001b[1;32m   1176\u001b[0m \u001b[43m    \u001b[49m\u001b[38;5;28;43mstr\u001b[39;49m\u001b[43m(\u001b[49m\u001b[43mprompt\u001b[49m\u001b[43m)\u001b[49m\u001b[43m,\u001b[49m\n\u001b[1;32m   1177\u001b[0m \u001b[43m    \u001b[49m\u001b[38;5;28;43mself\u001b[39;49m\u001b[38;5;241;43m.\u001b[39;49m\u001b[43m_parent_ident\u001b[49m\u001b[43m[\u001b[49m\u001b[38;5;124;43m\"\u001b[39;49m\u001b[38;5;124;43mshell\u001b[39;49m\u001b[38;5;124;43m\"\u001b[39;49m\u001b[43m]\u001b[49m\u001b[43m,\u001b[49m\n\u001b[1;32m   1178\u001b[0m \u001b[43m    \u001b[49m\u001b[38;5;28;43mself\u001b[39;49m\u001b[38;5;241;43m.\u001b[39;49m\u001b[43mget_parent\u001b[49m\u001b[43m(\u001b[49m\u001b[38;5;124;43m\"\u001b[39;49m\u001b[38;5;124;43mshell\u001b[39;49m\u001b[38;5;124;43m\"\u001b[39;49m\u001b[43m)\u001b[49m\u001b[43m,\u001b[49m\n\u001b[1;32m   1179\u001b[0m \u001b[43m    \u001b[49m\u001b[43mpassword\u001b[49m\u001b[38;5;241;43m=\u001b[39;49m\u001b[38;5;28;43;01mFalse\u001b[39;49;00m\u001b[43m,\u001b[49m\n\u001b[1;32m   1180\u001b[0m \u001b[43m\u001b[49m\u001b[43m)\u001b[49m\n",
      "File \u001b[0;32m~/Code/jupyter_venv/lib/python3.10/site-packages/ipykernel/kernelbase.py:1217\u001b[0m, in \u001b[0;36mKernel._input_request\u001b[0;34m(self, prompt, ident, parent, password)\u001b[0m\n\u001b[1;32m   1214\u001b[0m             \u001b[38;5;28;01mbreak\u001b[39;00m\n\u001b[1;32m   1215\u001b[0m \u001b[38;5;28;01mexcept\u001b[39;00m \u001b[38;5;167;01mKeyboardInterrupt\u001b[39;00m:\n\u001b[1;32m   1216\u001b[0m     \u001b[38;5;66;03m# re-raise KeyboardInterrupt, to truncate traceback\u001b[39;00m\n\u001b[0;32m-> 1217\u001b[0m     \u001b[38;5;28;01mraise\u001b[39;00m \u001b[38;5;167;01mKeyboardInterrupt\u001b[39;00m(\u001b[38;5;124m\"\u001b[39m\u001b[38;5;124mInterrupted by user\u001b[39m\u001b[38;5;124m\"\u001b[39m) \u001b[38;5;28;01mfrom\u001b[39;00m \u001b[38;5;28mNone\u001b[39m\n\u001b[1;32m   1218\u001b[0m \u001b[38;5;28;01mexcept\u001b[39;00m \u001b[38;5;167;01mException\u001b[39;00m:\n\u001b[1;32m   1219\u001b[0m     \u001b[38;5;28mself\u001b[39m\u001b[38;5;241m.\u001b[39mlog\u001b[38;5;241m.\u001b[39mwarning(\u001b[38;5;124m\"\u001b[39m\u001b[38;5;124mInvalid Message:\u001b[39m\u001b[38;5;124m\"\u001b[39m, exc_info\u001b[38;5;241m=\u001b[39m\u001b[38;5;28;01mTrue\u001b[39;00m)\n",
      "\u001b[0;31mKeyboardInterrupt\u001b[0m: Interrupted by user"
     ]
    }
   ],
   "source": [
    "human_game = AntiWordle(batched=False)\n",
    "while True:\n",
    "    for word in word_priority:\n",
    "        if word in human_game.remaining_words:\n",
    "            print(\"Best word:\", word)\n",
    "            break\n",
    "    green_resp = input(\"Any new green letters (input as 'c0|r1|a2' or 'n' if none\")\n",
    "    green_updates = []\n",
    "    if green_resp != \"n\":\n",
    "        green_updates = [(x[0],int(x[1])) for x in green_resp.split(\"|\")]\n",
    "        print(\"rules submitted were\", green_updates)\n",
    "    print(\"If you know if there is >=1 b, type b>0, if there is <=1 b, type b<=1 (or b<1 => can type b<0 if no b's in the word)). Do a | separated list of such things\")\n",
    "    bounds_resp = input(\"Any new info on bounds (include greens) ('n' if none)?\")\n",
    "    lower_updates = {}\n",
    "    upper_updates = {}\n",
    "    if bounds_resp != \"n\":\n",
    "        bound_rules = bounds_resp.split(\"|\")\n",
    "        for rule in bound_rules:\n",
    "            if \">\" in rule: # lower bound rule\n",
    "                lower_updates[rule[0]] = int(rule[-1])\n",
    "            if \"<\" in rule: # upper bound rule\n",
    "                upper_updates[rule[0]] = int(rule[-1])\n",
    "    human_game.remaining_words.update_list(green_updates, lower_updates, upper_updates, word, 0)"
   ]
  }
 ],
 "metadata": {
  "kernelspec": {
   "display_name": "Python 3 (ipykernel)",
   "language": "python",
   "name": "python3"
  },
  "language_info": {
   "codemirror_mode": {
    "name": "ipython",
    "version": 3
   },
   "file_extension": ".py",
   "mimetype": "text/x-python",
   "name": "python",
   "nbconvert_exporter": "python",
   "pygments_lexer": "ipython3",
   "version": "3.10.8"
  }
 },
 "nbformat": 4,
 "nbformat_minor": 5
}
